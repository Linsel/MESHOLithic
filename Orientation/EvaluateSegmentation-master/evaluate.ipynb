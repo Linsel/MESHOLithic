{
 "cells": [
  {
   "cell_type": "code",
   "execution_count": 7,
   "id": "779f7c98",
   "metadata": {},
   "outputs": [],
   "source": [
    "from read_ply import read_ply\n",
    "from read_label_txt import read_label_txt\n",
    "from evaluate_metrics import compute_IoU, compute_F1_Score, plot_IoU, get_correct_points\n",
    "from plot_overlay import write_overlay_ply_file\n",
    "from write_correctness_txt import write_labels_txt_file\n",
    "\n",
    "import os"
   ]
  },
  {
   "cell_type": "code",
   "execution_count": 16,
   "id": "7d653923",
   "metadata": {},
   "outputs": [],
   "source": [
    "#gt_filename = \"Data/31_gt.ply\"\n",
    "#label_filename = \"Data/31_mean_curvature_1P_0.9T_0.2EP_smallRem.txt\"\n",
    "gt_filename = \"../../data/31_c.ply\"\n",
    "\n",
    "path = '/media/linsel/3931-6632/data/phd stone tools/Blades_Bladelets_PLY/annotated/normals/'\n",
    "\n",
    "\n",
    "\n",
    "label_filename = path + \"31.ply_recursive_lay2of2_labels.csv.txt\"\n",
    "\n",
    "#label_filename = path + \"31.ply_recursive_lay4of4_labels.csv.txt\"\n",
    "\n",
    "#label_2 = \"Data/Image Pasted at 2022-6-7 14-58.txt\""
   ]
  },
  {
   "cell_type": "code",
   "execution_count": 17,
   "id": "5ce753c5",
   "metadata": {},
   "outputs": [
    {
     "name": "stdout",
     "output_type": "stream",
     "text": [
      "Time read labels in ply file data: 5.710108703002334\n",
      "Time read labels in txt file: 0.06563669600291178\n"
     ]
    }
   ],
   "source": [
    "gt_label = read_ply(gt_filename)\n",
    "comp_label = read_label_txt(label_filename)"
   ]
  },
  {
   "cell_type": "code",
   "execution_count": 5,
   "id": "4f555344",
   "metadata": {},
   "outputs": [],
   "source": [
    "#for lb, pts in gt_label.items():\n",
    "#    print(lb, \":\", len(pts))"
   ]
  },
  {
   "cell_type": "code",
   "execution_count": 18,
   "id": "a1fe73ad",
   "metadata": {
    "scrolled": false
   },
   "outputs": [
    {
     "name": "stdout",
     "output_type": "stream",
     "text": [
      "Time calculate IoU: 0.08811855500971433\n"
     ]
    }
   ],
   "source": [
    "IoU = compute_IoU(gt_label, comp_label)\n",
    "#plot_IoU(IoU)"
   ]
  },
  {
   "cell_type": "code",
   "execution_count": 19,
   "id": "766dc8f5",
   "metadata": {},
   "outputs": [
    {
     "name": "stdout",
     "output_type": "stream",
     "text": [
      "/media/linsel/3931-6632/data/phd stone tools/Blades_Bladelets_PLY/annotated/normals/31.ply_recursive_lay2of2_labels.csv_IoU \n",
      "has correctness of:  64.86105600175134 %\n",
      "Time writing correctness label txt file: 5.530588597001042\n"
     ]
    }
   ],
   "source": [
    "# need to insert gt_label and comp_label the same order as for the IoU computation\n",
    "points = get_correct_points(gt_label, comp_label, IoU)\n",
    "#write_overlay_ply_file(gt_filename, points, os.path.splitext(gt_filename)[0]+\"_IoU\")\n",
    "write_labels_txt_file(gt_filename, points, os.path.splitext(label_filename)[0]+\"_IoU\")"
   ]
  },
  {
   "cell_type": "code",
   "execution_count": null,
   "id": "d224606b",
   "metadata": {},
   "outputs": [],
   "source": [
    "F1 = compute_F1_Score(gt_label, comp_label)\n",
    "#plot_IoU(F1)"
   ]
  }
 ],
 "metadata": {
  "kernelspec": {
   "display_name": "Python 3 (ipykernel)",
   "language": "python",
   "name": "python3"
  },
  "language_info": {
   "codemirror_mode": {
    "name": "ipython",
    "version": 3
   },
   "file_extension": ".py",
   "mimetype": "text/x-python",
   "name": "python",
   "nbconvert_exporter": "python",
   "pygments_lexer": "ipython3",
   "version": "3.9.12"
  }
 },
 "nbformat": 4,
 "nbformat_minor": 5
}
