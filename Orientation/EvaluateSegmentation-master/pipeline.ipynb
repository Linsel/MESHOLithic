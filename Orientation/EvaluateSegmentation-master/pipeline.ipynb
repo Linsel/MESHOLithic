{
 "cells": [
  {
   "cell_type": "code",
   "execution_count": 1,
   "id": "803b2c0f",
   "metadata": {},
   "outputs": [],
   "source": [
    "from read_ply import read_ply\n",
    "from read_label_txt import read_label_txt\n",
    "from evaluate_metrics import compute_IoU, compute_F1_Score, plot_IoU, get_correct_points\n",
    "from plot_overlay import write_overlay_ply_file\n",
    "from write_correctness_txt import write_labels_txt_file\n",
    "\n",
    "import os"
   ]
  },
  {
   "cell_type": "code",
   "execution_count": 2,
   "id": "0cb64391",
   "metadata": {},
   "outputs": [
    {
     "name": "stdout",
     "output_type": "stream",
     "text": [
      "Time read labels in ply file data: 7.635328599999999\n",
      "Time read labels in txt file: 0.07950560000000095\n",
      "Time calculate IoU: 0.1700064000000001\n",
      "Data/test_dir/31_r1.00_n4_v256.volume_0.04P_0.05-0.03T_0.2EP_smallRem_IoU \n",
      "has correctness of:  84.6846908478936 %\n",
      "Time writing correctness label txt file: 7.504419499999999\n",
      "Time read labels in txt file: 0.08003739999999837\n",
      "Time calculate IoU: 0.14427459999999925\n",
      "Data/test_dir/31_r1.00_n4_v256.volume_0.04P_0.05-0.03T_0.3EP_smallRem_IoU \n",
      "has correctness of:  91.83712561741486 %\n",
      "Time writing correctness label txt file: 7.523264000000001\n",
      "Time read labels in txt file: 0.08048580000000172\n",
      "Time calculate IoU: 0.13258309999999796\n",
      "Data/test_dir/31_r1.00_n4_v256.volume_0.04P_0.05-0.03T_0.4EP_smallRem_IoU \n",
      "has correctness of:  91.13111770903171 %\n",
      "Time writing correctness label txt file: 7.475838600000003\n",
      "Time read labels in txt file: 0.08057440000000327\n",
      "Time calculate IoU: 0.16635050000000007\n",
      "Data/test_dir/31_r1.00_n4_v256.volume_0.04P_0.05-0.04T_0.2EP_smallRem_IoU \n",
      "has correctness of:  88.60057192113509 %\n",
      "Time writing correctness label txt file: 7.316681899999999\n",
      "Time read labels in txt file: 0.08090330000000279\n",
      "Time calculate IoU: 0.14331469999999769\n",
      "Data/test_dir/31_r1.00_n4_v256.volume_0.04P_0.05-0.04T_0.3EP_smallRem_IoU \n",
      "has correctness of:  91.12085596617729 %\n",
      "Time writing correctness label txt file: 7.4314015\n",
      "Time read labels in txt file: 0.08334390000000269\n",
      "Time calculate IoU: 0.15382620000000458\n",
      "Data/test_dir/31_r1.00_n4_v256.volume_0.04P_0.05-0.04T_0.4EP_smallRem_IoU \n",
      "has correctness of:  66.46736081656108 %\n",
      "Time writing correctness label txt file: 7.260163299999995\n",
      "Time read labels in txt file: 0.08293760000000105\n",
      "Time calculate IoU: 0.1694377999999972\n",
      "Data/test_dir/31_r1.00_n4_v256.volume_0.04P_0.06-0.03T_0.2EP_smallRem_IoU \n",
      "has correctness of:  73.37556610614747 %\n",
      "Time writing correctness label txt file: 7.516760099999999\n",
      "Time read labels in txt file: 0.0812059000000005\n",
      "Time calculate IoU: 0.14996229999999855\n",
      "Data/test_dir/31_r1.00_n4_v256.volume_0.04P_0.06-0.03T_0.3EP_smallRem_IoU \n",
      "has correctness of:  85.40438108008263 %\n",
      "Time writing correctness label txt file: 7.315987800000002\n",
      "Time read labels in txt file: 0.07684270000000026\n",
      "Time calculate IoU: 0.12892949999999814\n",
      "Data/test_dir/31_r1.00_n4_v256.volume_0.04P_0.06-0.03T_0.4EP_smallRem_IoU \n",
      "has correctness of:  84.92960444401876 %\n",
      "Time writing correctness label txt file: 7.4582010000000025\n",
      "Time read labels in txt file: 0.08224940000000913\n",
      "Time calculate IoU: 0.1675554000000119\n",
      "Data/test_dir/31_r1.00_n4_v256.volume_0.04P_0.06-0.04T_0.2EP_smallRem_IoU \n",
      "has correctness of:  71.65775035231984 %\n",
      "Time writing correctness label txt file: 7.292834099999993\n",
      "Time read labels in txt file: 0.08589879999999539\n",
      "Time calculate IoU: 0.14528819999999598\n",
      "Data/test_dir/31_r1.00_n4_v256.volume_0.04P_0.06-0.04T_0.3EP_smallRem_IoU \n",
      "has correctness of:  75.15153173615006 %\n",
      "Time writing correctness label txt file: 7.468112500000004\n",
      "Time read labels in txt file: 0.08068149999999719\n",
      "Time calculate IoU: 0.1456793999999917\n",
      "Data/test_dir/31_r1.00_n4_v256.volume_0.04P_0.06-0.04T_0.4EP_smallRem_IoU \n",
      "has correctness of:  81.89828560482712 %\n",
      "Time writing correctness label txt file: 7.5426590000000004\n"
     ]
    }
   ],
   "source": [
    "results_directory = \"Data/test_dir/\"\n",
    "gt_file = \"Data/31_c.ply\"\n",
    "\n",
    "result_files = []\n",
    "for filename in os.listdir(results_directory):\n",
    "    if filename.endswith(\"_smallRem.txt\"):\n",
    "        result_files.append(os.path.join(results_directory, filename))\n",
    "    else:\n",
    "        continue\n",
    "gt_label = read_ply(gt_file)\n",
    "\n",
    "for file in result_files:\n",
    "    comp_label = read_label_txt(file)\n",
    "    IoU = compute_IoU(gt_label, comp_label)\n",
    "    points = get_correct_points(gt_label, comp_label, IoU)\n",
    "    write_labels_txt_file(gt_file, points, os.path.splitext(file)[0]+\"_IoU\")"
   ]
  },
  {
   "cell_type": "code",
   "execution_count": null,
   "id": "5a003b4c",
   "metadata": {},
   "outputs": [],
   "source": []
  }
 ],
 "metadata": {
  "kernelspec": {
   "display_name": "Python 3 (ipykernel)",
   "language": "python",
   "name": "python3"
  },
  "language_info": {
   "codemirror_mode": {
    "name": "ipython",
    "version": 3
   },
   "file_extension": ".py",
   "mimetype": "text/x-python",
   "name": "python",
   "nbconvert_exporter": "python",
   "pygments_lexer": "ipython3",
   "version": "3.9.12"
  }
 },
 "nbformat": 4,
 "nbformat_minor": 5
}
