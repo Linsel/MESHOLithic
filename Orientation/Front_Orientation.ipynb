{
 "cells": [
  {
   "cell_type": "code",
   "execution_count": 1,
   "id": "f164d9db",
   "metadata": {},
   "outputs": [],
   "source": [
    "# from mesh import Mesh\n",
    "from ArtefactOrientation import artefactOrientation\n",
    "\n",
    "import numpy as np\n",
    "import matplotlib.pyplot as plt\n",
    "import os, sys\n",
    "import pandas as pd\n",
    "\n",
<<<<<<< HEAD
    "def principal_inertia_transform(mesh_points):\n",
    "    # calculate the center of mass of the mesh\n",
    "    center_of_mass = np.mean(mesh_points, axis=0)\n",
    "    \n",
    "    # shift the mesh points so that the center of mass is at the origin\n",
    "    mesh_points = mesh_points - center_of_mass\n",
    "    \n",
    "    # calculate the covariance matrix of the mesh points\n",
    "    cov_matrix = np.cov(mesh_points.T)\n",
    "    \n",
    "    # calculate the eigenvalues and eigenvectors of the covariance matrix\n",
    "    eig_vals, eig_vecs = np.linalg.eigh(cov_matrix)\n",
    "    \n",
    "    # sort the eigenvalues and eigenvectors so that they are in decreasing order\n",
    "    sort_indices = np.argsort(eig_vals)[::-1]\n",
    "    eig_vals = eig_vals[sort_indices]\n",
    "    eig_vecs = eig_vecs[:, sort_indices]\n",
    "    \n",
    "    # create the rotation matrix from the eigenvectors\n",
    "    rotation_matrix = eig_vecs\n",
    "    \n",
    "    # create the translation matrix to shift the center of mass back to its original position\n",
    "    translation_matrix = np.eye(4)\n",
    "    print (center_of_mass)\n",
    "    translation_matrix[:3, 3] = center_of_mass\n",
    "    \n",
    "    # create the principal_inertia_transform matrix by combining the rotation and translation matrices\n",
    "    principal_inertia_transform = np.dot(translation_matrix, np.hstack((rotation_matrix, np.zeros((3, 1)))))\n",
    "    \n",
    "    return principal_inertia_transform\n",
    "\n",
=======
>>>>>>> c355e9ada4b21fa8e557000d426b6f8268c0e8cc
    "# Rotating matrices\n",
    "path = '/media/linsel/3931-6632/data/phd stone tools/Blades_Bladelets_PLY/annotated/coloured/selected/'\n",
    "ending = ''#'_r1.00_n4_v256.volume'\n",
    "exp_path = 'exp_path/'\n",
    "name = '202_cm' \n"
   ]
  },
  {
   "cell_type": "code",
   "execution_count": 2,
   "id": "feba2b07",
   "metadata": {},
   "outputs": [
    {
     "name": "stdout",
     "output_type": "stream",
     "text": [
      "3.7118117809295654\n"
     ]
    }
   ],
   "source": [
    "AO_1 = artefactOrientation()\n",
    "AO_1.load_ply(path + exp_path, name,'')\n",
    "# AO_1.create_trafomat()\n",
    "# AO_1.exp_trafomat()\n",
    "# AO_1.exp_trafomat_GMO()\n",
    "# AO_1.export_transformed_ply()"
   ]
  },
  {
   "cell_type": "code",
   "execution_count": 13,
   "id": "27472a8d",
   "metadata": {
    "tags": [
     "parameters"
    ]
   },
   "outputs": [
    {
     "data": {
      "text/plain": [
       "32.007723808288574"
      ]
     },
     "execution_count": 13,
     "metadata": {},
     "output_type": "execute_result"
    }
   ],
   "source": [
    "# Nelder-Mead algorithm\n",
    "\n",
    "from scipy.optimize import minimize\n",
    "\n",
    "h = AO_1.tri_mesh.bounds[1,0] - AO_1.tri_mesh.bounds[0,0] / \n",
    "\n",
    "\n",
    "# perform the search\n",
    "# result = minimize(objective, AO_1.vertices, method='nelder-mead')"
   ]
  },
  {
   "attachments": {},
   "cell_type": "markdown",
   "id": "acc0ffbf",
   "metadata": {},
   "source": [
    "## Curvature "
   ]
  },
  {
   "cell_type": "code",
   "execution_count": null,
   "id": "88de3dd1",
   "metadata": {},
   "outputs": [
    {
     "name": "stdout",
     "output_type": "stream",
     "text": [
      "[0.         0.13333333 0.26666667 0.4        0.53333333 0.66666667\n",
      " 0.8        0.93333333 1.06666667 1.2        1.33333333 1.46666667\n",
      " 1.6        1.73333333 1.86666667 2.        ]\n"
     ]
    },
    {
     "name": "stderr",
     "output_type": "stream",
     "text": [
      "/tmp/ipykernel_22303/968946962.py:21: RuntimeWarning: divide by zero encountered in true_divide\n",
      "  gauss_sphere = np.array([discrete_gaussian_curvature_measure(mesh, mesh.vertices, r)/sphere_ball_intersection(1, r) for r in radii])\n"
     ]
    }
   ],
   "source": []
  },
  {
   "cell_type": "code",
   "execution_count": null,
   "id": "91507acd",
   "metadata": {},
   "outputs": [],
   "source": [
    "max_gauss = [np.max(g) for g in gauss_curv.T]"
   ]
  },
  {
   "cell_type": "code",
   "execution_count": 27,
   "id": "7d24570f",
   "metadata": {},
   "outputs": [
    {
     "name": "stdout",
     "output_type": "stream",
     "text": [
      "[[-0.07009748  0.11342011  0.        ]\n",
      " [ 0.07009748  0.11342011  0.        ]\n",
      " [-0.07009748 -0.11342011  0.        ]\n",
      " ...\n",
      " [-0.121731   -0.05328094  0.01097648]\n",
      " [-0.12885235 -0.01770566  0.02934894]\n",
      " [-0.12851484 -0.03552063  0.        ]]\n",
      "<trimesh.Trimesh(vertices.shape=(642, 3), faces.shape=(1280, 3))>\n"
     ]
    }
   ],
   "source": [
    "from trimesh.curvature import sphere_ball_intersection\n",
    "\n",
    "radii = np.linspace(0, 2.0, 16)\n",
    "\n",
    "geom = np.array([trimesh.creation.icosphere(radius=r) for r in radii]) \n",
    "\n",
    "\n",
    "print (geom[1].vertices)\n",
    "\n",
    "print(mesh)\n",
    "\n",
    "# sphere_ball_intersection(2, 2)"
   ]
  },
  {
   "cell_type": "code",
   "execution_count": 28,
   "id": "1e78b9a0",
   "metadata": {},
   "outputs": [
    {
     "data": {
      "text/plain": [
       "array([[ 0.09828722,  0.07148162, -0.05361121]])"
      ]
     },
     "execution_count": 28,
     "metadata": {},
     "output_type": "execute_result"
    }
   ],
   "source": [
    "# Import trimesh and numpy libraries\n",
    "import trimesh\n",
    "import numpy as np\n",
    "\n",
    "# Define a triangular mesh with 4 vertices and 2 faces\n",
    "mesh = trimesh.Trimesh(vertices=[[0.5, 2.5, 1.5], [0.5, 2.5, -1.5], [0.5, 0.5, 1.5], [0.5, 0.5, -1.5]],\n",
    "                      faces=[[0, 1, 2], [1, 2, 3]])\n",
    "\n",
    "def get_crossingpoints(mesh,origin,target): \n",
    "\n",
    "    # Find the intersection of the ray with the mesh\n",
    "    locations, index_ray, index_tri = mesh.ray.intersects_location(ray_origins=origin, ray_directions=target)\n",
    "\n",
    "    return locations, index_ray, index_tri\n",
    "\n",
    "\n"
   ]
  },
  {
   "cell_type": "code",
   "execution_count": 1,
   "id": "64eea4f8",
   "metadata": {},
   "outputs": [
    {
     "name": "stdout",
     "output_type": "stream",
     "text": [
      "[[-0.2 -0.2 -0.2]\n",
      " [-0.2 -0.2  0.2]\n",
      " [-0.2  0.2 -0.2]\n",
      " [-0.2  0.2  0.2]\n",
      " [ 0.2 -0.2 -0.2]\n",
      " [ 0.2 -0.2  0.2]\n",
      " [ 0.2  0.2 -0.2]\n",
      " [ 0.2  0.2  0.2]]\n",
      "[[ 0.   0.2  0. ]\n",
      " [ 0.  -0.2  0. ]\n",
      " [ 0.2  0.   0. ]\n",
      " [ 0.2  0.2  0. ]\n",
      " [ 0.2 -0.2  0. ]\n",
      " [-0.2  0.   0. ]\n",
      " [-0.2  0.2  0. ]\n",
      " [-0.2 -0.2  0. ]]\n"
     ]
    },
    {
     "ename": "AttributeError",
     "evalue": "'TrackedArray' object has no attribute 'contains_point'",
     "output_type": "error",
     "traceback": [
      "\u001b[0;31m---------------------------------------------------------------------------\u001b[0m",
      "\u001b[0;31mAttributeError\u001b[0m                            Traceback (most recent call last)",
      "\u001b[1;32m/home/linsel/Documents/PhD/segmentation/prototyping/Orientation/Front_Orientation.ipynb Cell 9\u001b[0m in \u001b[0;36m<cell line: 32>\u001b[0;34m()\u001b[0m\n\u001b[1;32m     <a href='vscode-notebook-cell:/home/linsel/Documents/PhD/segmentation/prototyping/Orientation/Front_Orientation.ipynb#X11sZmlsZQ%3D%3D?line=31'>32</a>\u001b[0m \u001b[39mfor\u001b[39;00m intersect \u001b[39min\u001b[39;00m intersects\u001b[39m.\u001b[39mvertices:\n\u001b[1;32m     <a href='vscode-notebook-cell:/home/linsel/Documents/PhD/segmentation/prototyping/Orientation/Front_Orientation.ipynb#X11sZmlsZQ%3D%3D?line=32'>33</a>\u001b[0m     \u001b[39mfor\u001b[39;00m point \u001b[39min\u001b[39;00m points:\n\u001b[0;32m---> <a href='vscode-notebook-cell:/home/linsel/Documents/PhD/segmentation/prototyping/Orientation/Front_Orientation.ipynb#X11sZmlsZQ%3D%3D?line=33'>34</a>\u001b[0m         \u001b[39mif\u001b[39;00m intersect\u001b[39m.\u001b[39;49mcontains_point(point):\n\u001b[1;32m     <a href='vscode-notebook-cell:/home/linsel/Documents/PhD/segmentation/prototyping/Orientation/Front_Orientation.ipynb#X11sZmlsZQ%3D%3D?line=34'>35</a>\u001b[0m             sphere_points\u001b[39m.\u001b[39mappend(point)\n\u001b[1;32m     <a href='vscode-notebook-cell:/home/linsel/Documents/PhD/segmentation/prototyping/Orientation/Front_Orientation.ipynb#X11sZmlsZQ%3D%3D?line=36'>37</a>\u001b[0m \u001b[39m# visualize the points within the sphere\u001b[39;00m\n",
      "\u001b[0;31mAttributeError\u001b[0m: 'TrackedArray' object has no attribute 'contains_point'"
     ]
    }
   ],
   "source": [
    "import trimesh\n",
    "import numpy as np\n",
    "\n",
    "# load a trimesh object\n",
    "mesh = trimesh.primitives.Box(origin=[0.0, 0.0, 0.0],extents=[0.4, 0.4, 0.4])\n",
    "\n",
    "print(mesh.vertices)\n",
    "\n",
    "# define a sphere with radius and center\n",
    "sphere_radius = 1.0\n",
    "sphere_center = np.array([0.0, 0.0, 0.0])\n",
    "\n",
    "# generate random points within the sphere\n",
    "num_points = 1000\n",
    "points = []\n",
    "while len(points) < num_points:\n",
    "    # generate a random point within a cube around the sphere\n",
    "    point = np.random.rand(3) * (2 * sphere_radius) - sphere_radius\n",
    "    # print(np.random.rand(3) * (2 * sphere_radius) - sphere_radius)\n",
    "\n",
    "    # check if the point is within the sphere\n",
    "    if np.linalg.norm(point - sphere_center) <= sphere_radius:\n",
    "        points.append(point)\n",
    "\n",
    "# get the triangles that intersect with the sphere\n",
    "intersects = mesh.section(plane_origin=sphere_center, plane_normal=[0,0,1])\n",
    "\n",
    "print(intersects.vertices) \n",
    "\n",
    "# get the points that are within the intersecting triangles\n",
    "sphere_points = []\n",
    "for intersect in intersects.vertices:\n",
    "    for point in points:\n",
    "        if intersect.contains_point(point):\n",
    "            sphere_points.append(point)\n",
    "\n",
    "# visualize the points within the sphere\n",
    "import matplotlib.pyplot as plt\n",
    "fig = plt.figure()\n",
    "ax = fig.add_subplot(111, projection='3d')\n",
    "ax.scatter(*sphere_points.T, s=2)\n",
    "plt.show()"
   ]
  },
  {
   "cell_type": "code",
   "execution_count": null,
   "id": "5d829aa3",
   "metadata": {},
   "outputs": [
    {
     "name": "stdout",
     "output_type": "stream",
     "text": [
      "[ 0.49556208 -0.59242293  0.09149951 ...  0.73203218 -0.18728914\n",
      "  0.79384658]\n"
     ]
    }
   ],
   "source": [
    "import numpy as np\n",
    "import matplotlib.pyplot as plt\n",
    "import ot\n",
    "import trimesh\n",
    "import random\n",
    "\n",
    "\n",
    "path = '/media/linsel/3931-6632/data/phd stone tools/Blades_Bladelets_PLY/annotated/coloured/selected/'\n",
    "ending = ''#'_r1.00_n4_v256.volume'\n",
    "name = '202' \n",
    "\n",
    "exp_path = 'exp_path/'\n",
    "\n",
    "filename_1 = path + name + '.ply'\n",
    "\n",
    "mesh_1 = trimesh.load(filename_1)\n",
    "\n",
    "# trimesh.exchange.export.export_ply(mesh_1,path + exp_path + name + '_cm.ply', encoding='ascii')\n",
    "\n",
    "mesh_1.export(path + exp_path + name + '_cm.ply', encoding='binary')\n",
    "\n",
    "mesh_1 = trimesh.load(path + exp_path + name + '_cm.ply')\n",
    "\n",
    "mesh_1.metadata['ply_raw']['vertex']['data']\n",
    "\n",
    "# Calculate the vertex normals\n",
    "vertex_normals = mesh_1.vertex_normals\n",
    "\n",
    "# Print the vertex normals\n",
    "print(vertex_normals[:,0])\n"
   ]
  },
  {
   "attachments": {},
   "cell_type": "markdown",
   "id": "6b2882ae",
   "metadata": {},
   "source": [
    "## Calculate angle between orientations"
   ]
  },
  {
   "cell_type": "code",
   "execution_count": 1,
   "id": "121d0318",
   "metadata": {},
   "outputs": [
    {
     "name": "stdout",
     "output_type": "stream",
     "text": [
      "107.39864349365234\n",
      "1\n",
      "1.0094575881958008\n",
      "773 177.6892608910914\n",
      "119.61110758781433\n",
      "0.8429665565490723\n",
      "6853 179.94051610513444\n",
      "127.08398151397705\n",
      "1\n",
      "0.5683648586273193\n",
      "10350 179.47102542820372\n"
     ]
    },
    {
     "ename": "",
     "evalue": "",
     "output_type": "error",
     "traceback": [
      "\u001b[1;31mCanceled future for execute_request message before replies were done"
     ]
    },
    {
     "ename": "",
     "evalue": "",
     "output_type": "error",
     "traceback": [
      "\u001b[1;31mThe Kernel crashed while executing code in the the current cell or a previous cell. Please review the code in the cell(s) to identify a possible cause of the failure. Click <a href='https://aka.ms/vscodeJupyterKernelCrash'>here</a> for more info. View Jupyter <a href='command:jupyter.viewOutput'>log</a> for further details."
     ]
    }
   ],
   "source": [
    "# from mesh import Mesh\n",
    "from artefactOrientation import artefactOrientation\n",
    "import trimesh\n",
    "import numpy as np\n",
    "import matplotlib.pyplot as plt\n",
    "import os, sys\n",
    "import pandas as pd\n",
    "\n",
    "def combine_trafomat_GM_orient (filename):\n",
    "    df = pd.read_csv(filename,delimiter='###',header=None,engine='python')[0]\n",
    "    np_out = np.empty((0,4), float)\n",
    "    for row in df:\n",
    "        if row[0] != \"#\":\n",
    "            if ',' in row:\n",
    "                row = row.replace(',','.')\n",
    "            data = np.array([float(x) for x in row.split(' ')],ndmin=2)\n",
    "            np_out = np.append(np_out,np.array(data),axis=0)             \n",
    "    for index, values in np.ndenumerate(np_out[:,0]): \n",
    "        if(index[0] % 4 == 0):        \n",
    "            trans_ind = index[0] \n",
    "            if 'trans_mat' not in locals():\n",
    "                trans_mat = np_out[trans_ind:trans_ind+3,:3]\n",
    "            else:\n",
    "                trans_mat = np.matmul(trans_mat,np_out[trans_ind:trans_ind+3,:3].T)\n",
    "    return trans_mat\n",
    "\n",
    "\n",
    "def getAngle(P, Q):\n",
    "    R = np.dot(P, Q)\n",
    "    theta = (np.trace(R)-1)/2\n",
    "    return np.arccos(theta) * (180/np.pi)\n",
    "\n",
    "\n",
    "paths = ['/home/linsel/Documents/PhD/Data/Fumane/GMCF/',\n",
    "        '/media/linsel/3931-6632/data/phd stone tools/Blades_Bladelets_PLY/annotated/coloured/selected/']\n",
    "ending = ''#'_r1.00_n4_v256.volume'\n",
    "\n",
    "exp_path = 'exp_path/'\n",
    "\n",
    "angle = []\n",
    "\n",
    "for file in os.listdir(paths[1]):\n",
    "    if file.endswith('.ply'):\n",
    "\n",
    "        name = file[:-4] \n",
    "\n",
    "        # translation of mesh to center of mass -> simplification of algorithms \n",
    "        filename_1 = paths[1] + name + '.ply'\n",
    "        mesh_1 = trimesh.load(filename_1)\n",
    "        mesh_1.vertices = mesh_1.vertices - [np.mean (col) for col in np.array(mesh_1.vertices).T]\n",
    "        mesh_1.export(paths[1] + name + '_cm.ply')\n",
    "\n",
    "        AO_1 = artefactOrientation()\n",
    "        AO_1.load_ply(paths[1],name + '_cm',exp_path)\n",
    "        AO_1.create_trafomat()\n",
    "        AO_1.exp_trafomat()\n",
    "        AO_1.exp_trafomat_GMO()\n",
    "        AO_1.export_transformed_ply()\n",
    "\n",
    "        filename_1 = paths[0] + name + '_GMCF_transmat.txt'\n",
    "\n",
    "        filename_2 = paths[1] + exp_path + name + '_GMO_trafomat.txt'\n",
    "\n",
    "        matrix1 = combine_trafomat_GM_orient (filename_1)\n",
    "        matrix2 = combine_trafomat_GM_orient (filename_2)\n",
    "        print(name,getAngle(matrix1,matrix2))\n",
    "        angle.append(getAngle(matrix1,matrix2))\n",
    "pd.Series([180 - ang if ang > 170 else ang for ang in pd.Series(angle).dropna()]).hist()        \n",
    "\n",
    "pd.Series([ang for ang in pd.Series(angle).dropna()]).hist()"
   ]
  },
  {
   "cell_type": "code",
   "execution_count": null,
   "id": "25bbe2ca",
   "metadata": {},
   "outputs": [
    {
     "data": {
      "text/plain": [
       "<AxesSubplot:>"
      ]
     },
     "execution_count": 16,
     "metadata": {},
     "output_type": "execute_result"
    },
    {
     "data": {
      "image/png": "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",
      "text/plain": [
       "<Figure size 432x288 with 1 Axes>"
      ]
     },
     "metadata": {
      "needs_background": "light"
     },
     "output_type": "display_data"
    }
   ],
   "source": [
    "pd.Series([180 - ang if ang > 170 else ang for ang in pd.Series(angle).dropna()]).hist()\n",
    "\n",
    "pd.Series([ang for ang in pd.Series(angle).dropna()]).hist()"
   ]
  },
  {
   "cell_type": "code",
   "execution_count": null,
   "id": "46e84827",
   "metadata": {},
   "outputs": [
    {
     "ename": "TypeError",
     "evalue": "load_ply() missing 1 required positional argument: 'exp_path'",
     "output_type": "error",
     "traceback": [
      "\u001b[0;31m---------------------------------------------------------------------------\u001b[0m",
      "\u001b[0;31mTypeError\u001b[0m                                 Traceback (most recent call last)",
      "\u001b[1;32m/home/linsel/Documents/PhD/segmentation/prototyping/Orientation/Front_Orientation.ipynb Cell 5\u001b[0m in \u001b[0;36m<cell line: 40>\u001b[0;34m()\u001b[0m\n\u001b[1;32m     <a href='vscode-notebook-cell:/home/linsel/Documents/PhD/segmentation/prototyping/Orientation/Front_Orientation.ipynb#W4sZmlsZQ%3D%3D?line=36'>37</a>\u001b[0m name \u001b[39m=\u001b[39m \u001b[39m'\u001b[39m\u001b[39m31\u001b[39m\u001b[39m'\u001b[39m \n\u001b[1;32m     <a href='vscode-notebook-cell:/home/linsel/Documents/PhD/segmentation/prototyping/Orientation/Front_Orientation.ipynb#W4sZmlsZQ%3D%3D?line=38'>39</a>\u001b[0m AO_1 \u001b[39m=\u001b[39m artefactOrientation()\n\u001b[0;32m---> <a href='vscode-notebook-cell:/home/linsel/Documents/PhD/segmentation/prototyping/Orientation/Front_Orientation.ipynb#W4sZmlsZQ%3D%3D?line=39'>40</a>\u001b[0m AO_1\u001b[39m.\u001b[39;49mload_ply(paths[\u001b[39m1\u001b[39;49m],name)\n\u001b[1;32m     <a href='vscode-notebook-cell:/home/linsel/Documents/PhD/segmentation/prototyping/Orientation/Front_Orientation.ipynb#W4sZmlsZQ%3D%3D?line=40'>41</a>\u001b[0m AO_1\u001b[39m.\u001b[39mcreate_trafomat()\n\u001b[1;32m     <a href='vscode-notebook-cell:/home/linsel/Documents/PhD/segmentation/prototyping/Orientation/Front_Orientation.ipynb#W4sZmlsZQ%3D%3D?line=41'>42</a>\u001b[0m AO_1\u001b[39m.\u001b[39mexp_trafomat()\n",
      "\u001b[0;31mTypeError\u001b[0m: load_ply() missing 1 required positional argument: 'exp_path'"
     ]
    }
   ],
   "source": [
    "# from mesh import Mesh\n",
    "from artefactOrientation import artefactOrientation\n",
    "\n",
    "import numpy as np\n",
    "import matplotlib.pyplot as plt\n",
    "import os, sys\n",
    "import pandas as pd\n",
    "\n",
    "\n",
    "def combine_trafomat_GM_orient (filename):\n",
    "    df = pd.read_csv(filename,delimiter='###',header=None,engine='python')[0]\n",
    "    np_out = np.empty((0,4), float)\n",
    "    for row in df:\n",
    "        if row[0] != \"#\":\n",
    "            if ',' in row:\n",
    "                row = row.replace(',','.')\n",
    "            data = np.array([float(x) for x in row.split(' ')],ndmin=2)\n",
    "            np_out = np.append(np_out,np.array(data),axis=0)             \n",
    "    for index, values in np.ndenumerate(np_out[:,0]): \n",
    "        if(index[0] % 4 == 0):        \n",
    "            trans_ind = index[0] \n",
    "            if 'trans_mat' not in locals():\n",
    "                trans_mat = np_out[trans_ind:trans_ind+3,:3]\n",
    "            else:\n",
    "                trans_mat = np.matmul(trans_mat,np_out[trans_ind:trans_ind+3,:3].T)\n",
    "    return trans_mat\n",
    "\n",
    "\n",
    "def getAngle(P, Q):\n",
    "    R = np.dot(P, Q)\n",
    "    theta = (np.trace(R)-1)/2\n",
    "    return np.arccos(theta) * (180/np.pi)\n",
    "\n",
    "paths = ['/home/linsel/Documents/PhD/Data/Fumane/GMCF/',\n",
    "        '/media/linsel/3931-6632/data/phd stone tools/Blades_Bladelets_PLY/annotated/coloured/selected/']\n",
    "ending = ''#'_r1.00_n4_v256.volume'\n",
    "name = '31' \n",
    "\n",
    "AO_1 = artefactOrientation()\n",
    "AO_1.load_ply(paths[1],name)\n",
    "AO_1.create_trafomat()\n",
    "AO_1.exp_trafomat()\n",
    "AO_1.exp_trafomat_GMO()\n",
    "AO_1.export_transformed_ply()\n",
    "\n",
    "filename_1 = paths[0] + name + '_GMCF_transmat.txt' #207_GMCF_transmat.txt\n",
    "\n",
    "filename_2 = paths[1] + name + '_GMO_trafomat.txt'\n",
    "\n",
    "\n",
    "matrix1 = combine_trafomat_GM_orient (filename_1)\n",
    "matrix2 = combine_trafomat_GM_orient (filename_2)\n",
    "\n",
    "print(getAngle(matrix1,matrix2))\n"
   ]
  },
  {
   "cell_type": "code",
   "execution_count": null,
   "id": "cf3acc7f",
   "metadata": {},
   "outputs": [
    {
     "name": "stdout",
     "output_type": "stream",
     "text": [
      "Mesh is not flipped on the xz plane\n"
     ]
    }
   ],
   "source": [
    "rot_matrix = np.array([[-1, 0, 0], [0, 1, 0], [0, 0, -1]]) # Example rotation matrix\n",
    "det = np.linalg.det(rot_matrix)\n",
    "\n",
    "if det < 0:\n",
    "    print(\"Mesh is flipped on the xz plane\")\n",
    "else:\n",
    "    print(\"Mesh is not flipped on the xz plane\")"
   ]
  },
  {
   "cell_type": "code",
   "execution_count": null,
   "id": "a917a32c",
   "metadata": {},
   "outputs": [
    {
     "name": "stdout",
     "output_type": "stream",
     "text": [
      "0.36586904525756836\n",
      "Time writing label txt file: 0.18833383699893602\n",
      "Time writing label txt file: 0.187998345001688\n",
      "58.835154707527444\n",
      "/home/linsel/Documents/PhD/Data/Fumane/GMCF/800_GMCF_transmat.txt\n"
     ]
    },
    {
     "data": {
      "text/plain": [
       "58.835154707527444"
      ]
     },
     "execution_count": 4,
     "metadata": {},
     "output_type": "execute_result"
    }
   ],
   "source": [
    "# transformation with trafo mat\n",
    "GM_1.create_point_cloud ()\n",
    "GM_1.prep_orientate_mesh_pca ()\n",
    "GM_1.prep_orientate_mesh_Kmeans () \n",
    "GM_1.prep_Kmeans_top_bottom ()\n",
    "GM_1.create_trafomat()  \n",
    "GM_1.transform_coordinates()\n",
    "GM_1.save_exp_cloud ()\n",
    "GM_1.export_exp_cloud_as_mesh ()\n",
    "GM_1.exp_trafomat()\n",
    "ev_name = '/home/linsel/Documents/PhD/Data/Fumane/GMCF/' + name\n",
    "GM_1.evaluate_trafomat(ev_name,'_GMCF_transmat.txt') #13.887505181489297"
   ]
  },
  {
   "cell_type": "code",
   "execution_count": null,
   "id": "e8571d37",
   "metadata": {},
   "outputs": [
    {
     "name": "stdout",
     "output_type": "stream",
     "text": [
      "800\n",
      "Time read data file: 6.011760291999963\n",
      "Time read and prepare data: 24.797782877001737\n",
      "0.3519327640533447\n",
      "Time writing label txt file: 0.19864058900202508\n",
      "Time writing label txt file: 0.18776065800193464\n",
      "y_sign\n",
      "55.51885484862844\n",
      "/home/linsel/Documents/PhD/Data/Fumane/GMCF/800_GMCF_transmat.txt\n",
      "[['800', 55.51885484862844]]\n",
      "710\n",
      "Time read data file: 1.7452170620017569\n",
      "Time read and prepare data: 6.094048049999401\n",
      "0.09415173530578613\n",
      "Time writing label txt file: 0.05431593500179588\n",
      "Time writing label txt file: 0.09066067999810912\n",
      "z_sign\n",
      "95.61810700250827\n",
      "/home/linsel/Documents/PhD/Data/Fumane/GMCF/710_GMCF_transmat.txt\n",
      "[['800', 55.51885484862844], ['710', 95.61810700250827]]\n",
      "691\n",
      "Time read data file: 1.1209296840024763\n",
      "Time read and prepare data: 4.268659706998733\n",
      "0.05850028991699219\n",
      "Time writing label txt file: 0.032395142003224464\n",
      "Time writing label txt file: 0.03894342800049344\n",
      "91.9501516580771\n",
      "/home/linsel/Documents/PhD/Data/Fumane/GMCF/691_GMCF_transmat.txt\n",
      "[['800', 55.51885484862844], ['710', 95.61810700250827], ['691', 91.9501516580771]]\n",
      "4124\n",
      "Time read data file: 6.102793155001564\n",
      "Time read and prepare data: 24.914662317001785\n",
      "0.3560903072357178\n",
      "Time writing label txt file: 0.18689904100028798\n",
      "Time writing label txt file: 0.19602789800046594\n",
      "z_sign\n",
      "170.99795873827722\n",
      "/home/linsel/Documents/PhD/Data/Fumane/GMCF/4124_GMCF_transmat.txt\n",
      "[['800', 55.51885484862844], ['710', 95.61810700250827], ['691', 91.9501516580771], ['4124', 170.99795873827722]]\n",
      "1645\n",
      "Time read data file: 1.847745864000899\n",
      "Time read and prepare data: 6.375418689000071\n",
      "0.10470938682556152\n",
      "Time writing label txt file: 0.0663512860010087\n",
      "Time writing label txt file: 0.0680757709997124\n",
      "y_sign\n",
      "z_sign\n",
      "90.008871224969\n",
      "/home/linsel/Documents/PhD/Data/Fumane/GMCF/1645_GMCF_transmat.txt\n",
      "[['800', 55.51885484862844], ['710', 95.61810700250827], ['691', 91.9501516580771], ['4124', 170.99795873827722], ['1645', 90.008871224969]]\n",
      "10360\n",
      "Time read data file: 3.686909468997328\n",
      "Time read and prepare data: 15.347657905000233\n",
      "0.21594810485839844\n",
      "Time writing label txt file: 0.11816756500047632\n",
      "Time writing label txt file: 0.2005665520009643\n",
      "z_sign\n",
      "145.04633430801027\n",
      "/home/linsel/Documents/PhD/Data/Fumane/GMCF/10360_GMCF_transmat.txt\n",
      "[['800', 55.51885484862844], ['710', 95.61810700250827], ['691', 91.9501516580771], ['4124', 170.99795873827722], ['1645', 90.008871224969], ['10360', 145.04633430801027]]\n",
      "737\n",
      "Time read data file: 5.47698773799857\n",
      "Time read and prepare data: 22.724080306998076\n",
      "0.32306933403015137\n",
      "Time writing label txt file: 0.21422993399755796\n",
      "Time writing label txt file: 0.18692115800149622\n",
      "95.07515109239377\n",
      "/home/linsel/Documents/PhD/Data/Fumane/GMCF/737_GMCF_transmat.txt\n",
      "[['800', 55.51885484862844], ['710', 95.61810700250827], ['691', 91.9501516580771], ['4124', 170.99795873827722], ['1645', 90.008871224969], ['10360', 145.04633430801027], ['737', 95.07515109239377]]\n",
      "10361\n",
      "Time read data file: 5.92908026400255\n",
      "Time read and prepare data: 24.875375050000002\n",
      "0.3558542728424072\n",
      "Time writing label txt file: 0.19002489799822797\n",
      "Time writing label txt file: 0.21688664099929156\n",
      "z_sign\n",
      "97.62212130993484\n",
      "/home/linsel/Documents/PhD/Data/Fumane/GMCF/10361_GMCF_transmat.txt\n",
      "[['800', 55.51885484862844], ['710', 95.61810700250827], ['691', 91.9501516580771], ['4124', 170.99795873827722], ['1645', 90.008871224969], ['10360', 145.04633430801027], ['737', 95.07515109239377], ['10361', 97.62212130993484]]\n",
      "80\n",
      "Time read data file: 6.06504685100299\n"
     ]
    },
    {
     "ename": "KeyboardInterrupt",
     "evalue": "",
     "output_type": "error",
     "traceback": [
      "\u001b[0;31m---------------------------------------------------------------------------\u001b[0m",
      "\u001b[0;31mKeyboardInterrupt\u001b[0m                         Traceback (most recent call last)",
      "\u001b[1;32m/home/linsel/Documents/PhD/segmentation/Wang et al. 2013/Gaussian_Map/Front_Orientation.ipynb Cell 7\u001b[0m in \u001b[0;36m<cell line: 3>\u001b[0;34m()\u001b[0m\n\u001b[1;32m      <a href='vscode-notebook-cell:/home/linsel/Documents/PhD/segmentation/Wang%20et%20al.%202013/Gaussian_Map/Front_Orientation.ipynb#W5sZmlsZQ%3D%3D?line=5'>6</a>\u001b[0m \u001b[39mprint\u001b[39m(name\u001b[39m.\u001b[39msplit(\u001b[39m'\u001b[39m\u001b[39m_\u001b[39m\u001b[39m'\u001b[39m)[\u001b[39m0\u001b[39m])\n\u001b[1;32m      <a href='vscode-notebook-cell:/home/linsel/Documents/PhD/segmentation/Wang%20et%20al.%202013/Gaussian_Map/Front_Orientation.ipynb#W5sZmlsZQ%3D%3D?line=6'>7</a>\u001b[0m GM_1 \u001b[39m=\u001b[39m Gaussian_Map()\n\u001b[0;32m----> <a href='vscode-notebook-cell:/home/linsel/Documents/PhD/segmentation/Wang%20et%20al.%202013/Gaussian_Map/Front_Orientation.ipynb#W5sZmlsZQ%3D%3D?line=7'>8</a>\u001b[0m GM_1\u001b[39m.\u001b[39;49mload_ply(path \u001b[39m+\u001b[39;49m name\u001b[39m.\u001b[39;49msplit(\u001b[39m'\u001b[39;49m\u001b[39m_\u001b[39;49m\u001b[39m'\u001b[39;49m)[\u001b[39m0\u001b[39;49m],ending)\n\u001b[1;32m      <a href='vscode-notebook-cell:/home/linsel/Documents/PhD/segmentation/Wang%20et%20al.%202013/Gaussian_Map/Front_Orientation.ipynb#W5sZmlsZQ%3D%3D?line=8'>9</a>\u001b[0m GM_1\u001b[39m.\u001b[39mcreate_point_cloud ()\n\u001b[1;32m     <a href='vscode-notebook-cell:/home/linsel/Documents/PhD/segmentation/Wang%20et%20al.%202013/Gaussian_Map/Front_Orientation.ipynb#W5sZmlsZQ%3D%3D?line=9'>10</a>\u001b[0m GM_1\u001b[39m.\u001b[39mprep_orientate_mesh_pca ()\n",
      "File \u001b[0;32m~/Documents/PhD/segmentation/Wang et al. 2013/Gaussian_Map/mesh.py:71\u001b[0m, in \u001b[0;36mMesh.load_ply\u001b[0;34m(self, name, ending)\u001b[0m\n\u001b[1;32m     69\u001b[0m \u001b[39mself\u001b[39m\u001b[39m.\u001b[39mname \u001b[39m=\u001b[39m name\n\u001b[1;32m     70\u001b[0m filename \u001b[39m=\u001b[39m \u001b[39mself\u001b[39m\u001b[39m.\u001b[39mname \u001b[39m+\u001b[39m ending\n\u001b[0;32m---> 71\u001b[0m read_ply(filename, \u001b[39mself\u001b[39;49m\u001b[39m.\u001b[39;49mVertices, \u001b[39mself\u001b[39;49m\u001b[39m.\u001b[39;49mEdges, \u001b[39mself\u001b[39;49m\u001b[39m.\u001b[39;49mFaces, \u001b[39mself\u001b[39;49m\u001b[39m.\u001b[39;49mLinks)\n\u001b[1;32m     72\u001b[0m \u001b[39mself\u001b[39m\u001b[39m.\u001b[39mfilename \u001b[39m=\u001b[39m os\u001b[39m.\u001b[39mpath\u001b[39m.\u001b[39msplitext(filename)[\u001b[39m0\u001b[39m]\n",
      "File \u001b[0;32m~/Documents/PhD/segmentation/Wang et al. 2013/Gaussian_Map/adjustedMorse/LoadData/read_ply.py:68\u001b[0m, in \u001b[0;36mread_ply\u001b[0;34m(filename, vertices_dict, edges_dict, faces_dict, links_dict)\u001b[0m\n\u001b[1;32m     66\u001b[0m edges_dict[eindex] \u001b[39m=\u001b[39m edge\n\u001b[1;32m     67\u001b[0m \u001b[39mfor\u001b[39;00m tmp_ed_ind \u001b[39min\u001b[39;00m tmp:\n\u001b[0;32m---> 68\u001b[0m     vertices_dict[tmp_ed_ind]\u001b[39m.\u001b[39mstar[\u001b[39m\"\u001b[39m\u001b[39mE\u001b[39m\u001b[39m\"\u001b[39m]\u001b[39m.\u001b[39mappend(eindex)\n\u001b[1;32m     70\u001b[0m eindex\u001b[39m+\u001b[39m\u001b[39m=\u001b[39m\u001b[39m1\u001b[39m\n\u001b[1;32m     72\u001b[0m unique_edges\u001b[39m.\u001b[39madd(\u001b[39mfrozenset\u001b[39m(tmp))\n",
      "\u001b[0;31mKeyboardInterrupt\u001b[0m: "
     ]
    }
   ],
   "source": [
    "# transformation of multiple files \n",
    "ev_list = []\n",
    "for num,name in enumerate(os.listdir(path)):\n",
    "\n",
    "    if name.endswith(ending):\n",
    "        print(name.split('_')[0])\n",
    "        GM_1 = Gaussian_Map()\n",
    "        GM_1.load_ply(path + name.split('_')[0],ending)\n",
    "        GM_1.create_point_cloud ()\n",
    "        GM_1.prep_orientate_mesh_pca ()\n",
    "        GM_1.prep_orientate_mesh_Kmeans () \n",
    "        GM_1.prep_Kmeans_top_bottom ()\n",
    "        GM_1.create_trafomat()  \n",
    "        GM_1.transform_coordinates()\n",
    "        GM_1.save_exp_cloud ()\n",
    "        GM_1.export_exp_cloud_as_mesh ()\n",
    "        # GM_1.recalculate_normals()\n",
    "        GM_1.exp_trafomat()\n",
    "        ev_name = '/home/linsel/Documents/PhD/Data/Fumane/GMCF/' + name.split('_')[0]\n",
    "        ev_list.append([name.split('_')[0],GM_1.evaluate_trafomat(ev_name,'_GMCF_transmat.txt')])\n",
    "        print (ev_list)\n",
    "\n",
    "# [['800', 90.02484009487867], ['710', 62.31597911391061], ['691', 178.57005081417597], ['4124', 170.74288502838343], ['1645', 173.01398292063956], ['10360', 174.43258810965696], ['737', 91.80590787714719], ['10361', 88.71065032359952], ['80', 174.46545679788926], ['9433', 144.19633705954715], ['5169', 56.476908483428716], ['689', 32.18745316730866], ['4501', 54.93778693951169], ['6654', 79.82794984387266], ['31', 175.8424280929802], ['729', 142.9148371811146], ['4636', 129.08091496333194], ['6652', 157.04646690132728], ['700', 178.3604777492259], ['117', nan], ['6684', 159.2314955618495], ['842', 82.07906909520753], ['9337', 80.33830975251507], ['764', 164.58699933203667], ['6626', 91.43827376698911], ['5194', 150.91973357351495], ['1467', nan], ['6853', nan], ['5219', 159.29427177936597], ['757', 90.16837352680598], ['10358', 56.78853212693456], ['5244', 157.79997619102568], ['207', 40.202308621562345], ['1649', 111.8437633401408], ['10354', 114.30621594131402], ['695', 170.78587291608838], ['10356', 168.82349898905852], ['709', 176.73422914552938], ['10350', 171.49867757855205], ['202', 169.33484028925298], ['728', 91.11076212233463], ['798', 148.9447354836147], ['752', 176.48288875745095], ['801', 174.4215193949711], ['742', 173.32117401243457]]\n",
    "# [['800', 30.464862205059706], ['710', nan], ['691', 98.21940191813346], ['4124', 114.66509094766799], ['1645', 94.19550846441594], ['10360', 78.72792439916307], ['737', nan], ['10361', 90.00832783491225], ['80', 141.0734941390367], ['9433', 95.78380258653065], ['5169', 175.92021290937035], ['689', 172.16968704801215], ['4501', 91.98012303144058], ['6654', nan], ['31', 174.07344303588695], ['729', 101.66914260084823], ['4636', 97.2155778970773], ['6652', 175.4072077210475], ['700', 132.95641699848264], ['117', 150.24019565529247], ['6684', 139.94602914615555], ['842', 91.78503602866328], ['9337', 140.5846016954949], ['764', 142.75481382383285], ['6626', 166.98727645118012], ['5194', 150.91973357351495], ['1467', 88.83956483434224], ['6853', 81.95044273392773], ['5219', 153.75094227863636], ['757', 98.15291117842182], ['10358', 163.54194689436056], ['5244', 115.69916756963265], ['207', nan], ['1649', 111.8437633401408], ['10354', nan], ['695', 120.18421095323444], ['10356', 151.58717466240066], ['709', 90.08657040922063], ['10350', nan], ['202', 105.80522360726951], ['728', 91.11076212233463], ['798', 107.04988343531186], ['752', 90.23069737337221], ['801', 176.73580885179342], ['742', 173.32117401243457]]"
   ]
  }
 ],
 "metadata": {
  "kernelspec": {
   "display_name": "PhD",
   "language": "python",
   "name": "python3"
  },
  "language_info": {
   "codemirror_mode": {
    "name": "ipython",
    "version": 3
   },
   "file_extension": ".py",
   "mimetype": "text/x-python",
   "name": "python",
   "nbconvert_exporter": "python",
   "pygments_lexer": "ipython3",
   "version": "3.9.12"
  },
  "vscode": {
   "interpreter": {
    "hash": "12cdd475630f2d46394b37907add291e4d4b45a6318ce9a647ee43716c21869b"
   }
  }
 },
 "nbformat": 4,
 "nbformat_minor": 5
}
