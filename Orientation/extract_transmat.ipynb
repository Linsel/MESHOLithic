{
 "cells": [
  {
   "cell_type": "code",
   "execution_count": 239,
   "metadata": {},
   "outputs": [],
   "source": [
    "import pandas as pd\n",
    "import numpy as np"
   ]
  },
  {
   "cell_type": "code",
   "execution_count": 240,
   "metadata": {},
   "outputs": [],
   "source": [
    "path = '/media/linsel/3931-6632/data/phd stone tools/Blades_Bladelets_PLY/annotated/coloured/selected/'\n",
    "path = '/home/linsel/Documents/PhD/Data/Fumane/cleaned/'\n",
    "name = '31' #'104_GMCF'#\"31.comp.1\"\n",
    "\n",
    "filename,quality_index = path + name + '_GMCF_transmat.txt',3\n",
    "\n"
   ]
  },
  {
   "cell_type": "code",
   "execution_count": 233,
   "metadata": {},
   "outputs": [
    {
     "name": "stderr",
     "output_type": "stream",
     "text": [
      "/tmp/ipykernel_1469710/362081310.py:1: ParserWarning: Falling back to the 'python' engine because the 'c' engine does not support regex separators (separators > 1 char and different from '\\s+' are interpreted as regex); you can avoid this warning by specifying engine='python'.\n",
      "  df = pd.read_csv(filename,delimiter='###',header=None)[0]\n",
      "/tmp/ipykernel_1469710/362081310.py:6: FutureWarning: The frame.append method is deprecated and will be removed from pandas in a future version. Use pandas.concat instead.\n",
      "  df_out = df_out.append(a_series, ignore_index=True)\n",
      "/tmp/ipykernel_1469710/362081310.py:6: FutureWarning: The frame.append method is deprecated and will be removed from pandas in a future version. Use pandas.concat instead.\n",
      "  df_out = df_out.append(a_series, ignore_index=True)\n",
      "/tmp/ipykernel_1469710/362081310.py:6: FutureWarning: The frame.append method is deprecated and will be removed from pandas in a future version. Use pandas.concat instead.\n",
      "  df_out = df_out.append(a_series, ignore_index=True)\n",
      "/tmp/ipykernel_1469710/362081310.py:6: FutureWarning: The frame.append method is deprecated and will be removed from pandas in a future version. Use pandas.concat instead.\n",
      "  df_out = df_out.append(a_series, ignore_index=True)\n",
      "/tmp/ipykernel_1469710/362081310.py:6: FutureWarning: The frame.append method is deprecated and will be removed from pandas in a future version. Use pandas.concat instead.\n",
      "  df_out = df_out.append(a_series, ignore_index=True)\n",
      "/tmp/ipykernel_1469710/362081310.py:6: FutureWarning: The frame.append method is deprecated and will be removed from pandas in a future version. Use pandas.concat instead.\n",
      "  df_out = df_out.append(a_series, ignore_index=True)\n",
      "/tmp/ipykernel_1469710/362081310.py:6: FutureWarning: The frame.append method is deprecated and will be removed from pandas in a future version. Use pandas.concat instead.\n",
      "  df_out = df_out.append(a_series, ignore_index=True)\n",
      "/tmp/ipykernel_1469710/362081310.py:6: FutureWarning: The frame.append method is deprecated and will be removed from pandas in a future version. Use pandas.concat instead.\n",
      "  df_out = df_out.append(a_series, ignore_index=True)\n"
     ]
    }
   ],
   "source": [
    "df = pd.read_csv(filename,delimiter='###',header=None)[0]\n",
    "df_out = pd.DataFrame(columns=['A', 'B', 'C', 'D'])\n",
    "for row in df:\n",
    "    if row[0] != \"#\":\n",
    "        a_series = pd.Series(row.split(' '), index = df_out.columns)\n",
    "        df_out = df_out.append(a_series, ignore_index=True)\n"
   ]
  },
  {
   "cell_type": "code",
   "execution_count": 237,
   "metadata": {},
   "outputs": [],
   "source": [
    "df = pd.read_csv(filename,delimiter='###',header=None,engine='python')[0]\n",
    "np_out = np.empty((0,4), float)\n",
    "for row in df:\n",
    "    if row[0] != \"#\":\n",
    "        if ',' in row:\n",
    "            row = row.replace(',','.')\n",
    "        data = np.array([float(x) for x in row.split(' ')],ndmin=2)\n",
    "        np_out = np.append(np_out,np.array(data),axis=0)        "
   ]
  },
  {
   "cell_type": "code",
   "execution_count": 232,
   "metadata": {},
   "outputs": [
    {
     "name": "stdout",
     "output_type": "stream",
     "text": [
      "[[-9.9224900e-01 -9.5700000e-03 -1.2389500e-01 -8.9394450e+00]\n",
      " [-4.7323000e-02  9.5100000e-01  3.0554700e-01 -2.0981476e+01]\n",
      " [ 1.1490000e-01  3.0904100e-01 -9.4408200e-01 -5.2502522e+01]\n",
      " [ 0.0000000e+00  0.0000000e+00  0.0000000e+00  1.0000000e+00]]\n",
      "[[-9.9224900e-01 -9.5700000e-03 -1.2389500e-01 -8.9394450e+00]\n",
      " [-4.7323000e-02  9.5100000e-01  3.0554700e-01 -2.0981476e+01]\n",
      " [ 1.1490000e-01  3.0904100e-01 -9.4408200e-01 -5.2502522e+01]\n",
      " [ 0.0000000e+00  0.0000000e+00  0.0000000e+00  1.0000000e+00]]\n",
      "[[ 1.        0.        0.       -0.324522]\n",
      " [ 0.        1.        0.       18.901092]\n",
      " [ 0.        0.        1.       51.476595]\n",
      " [ 0.        0.        0.        1.      ]]\n"
     ]
    },
    {
     "data": {
      "text/plain": [
       "array([[ 9.70775424e-01, -3.78938818e-02,  2.36977644e-01,\n",
       "         1.78038316e+01],\n",
       "       [ 3.70593767e-02,  9.99280432e-01,  7.97685723e-03,\n",
       "        -3.72677202e+01],\n",
       "       [-2.37109179e-01,  1.03835264e-03,  9.71481838e-01,\n",
       "         3.96580357e+01],\n",
       "       [ 0.00000000e+00,  0.00000000e+00,  0.00000000e+00,\n",
       "         1.00000000e+00]])"
      ]
     },
     "execution_count": 232,
     "metadata": {},
     "output_type": "execute_result"
    }
   ],
   "source": [
    "trans_mat = np.array(np_out[:4, :])\n",
    "print(trans_mat)\n",
    "for index, values in np.ndenumerate(np_out[:,0]):\n",
    "    if(index[0] % 4 == 0):        \n",
    "        trans_ind = index[0] \n",
    "        print(np_out[trans_ind:trans_ind+4, :])\n",
    "        trans_mat = np.matmul(trans_mat,np_out[trans_ind:trans_ind+4, :])\n",
    "\n",
    "trans_mat"
   ]
  },
  {
   "cell_type": "code",
   "execution_count": 238,
   "metadata": {},
   "outputs": [
    {
     "data": {
      "text/plain": [
       "array([[ 9.70775424e-01, -3.78938818e-02,  2.36977644e-01,\n",
       "         1.78038316e+01],\n",
       "       [ 3.70593767e-02,  9.99280432e-01,  7.97685723e-03,\n",
       "        -3.72677202e+01],\n",
       "       [-2.37109179e-01,  1.03835264e-03,  9.71481838e-01,\n",
       "         3.96580357e+01],\n",
       "       [ 0.00000000e+00,  0.00000000e+00,  0.00000000e+00,\n",
       "         1.00000000e+00]])"
      ]
     },
     "execution_count": 238,
     "metadata": {},
     "output_type": "execute_result"
    }
   ],
   "source": [
    "def combine_trafomat_GM (filename):\n",
    "    df = pd.read_csv(filename,delimiter='###',header=None,engine='python')[0]\n",
    "    np_out = np.empty((0,4), float)\n",
    "    for row in df:\n",
    "        if row[0] != \"#\":\n",
    "            if ',' in row:\n",
    "                row = row.replace(',','.')\n",
    "            data = np.array([float(x) for x in row.split(' ')],ndmin=2)\n",
    "            np_out = np.append(np_out,np.array(data),axis=0)     \n",
    "        trans_mat = np.array(np_out[:4, :])\n",
    "    for index, values in np.ndenumerate(np_out[:,0]):\n",
    "        if(index[0] % 4 == 0):        \n",
    "            trans_ind = index[0] \n",
    "            trans_mat = np.matmul(trans_mat,np_out[trans_ind:trans_ind+4, :])\n",
    "\n",
    "    return trans_mat\n",
    "\n",
    "combine_trafomat_GM (filename)\n",
    "\n",
    "\n"
   ]
  }
 ],
 "metadata": {
  "kernelspec": {
   "display_name": "Python 3.9.12 ('PhD')",
   "language": "python",
   "name": "python3"
  },
  "language_info": {
   "codemirror_mode": {
    "name": "ipython",
    "version": 3
   },
   "file_extension": ".py",
   "mimetype": "text/x-python",
   "name": "python",
   "nbconvert_exporter": "python",
   "pygments_lexer": "ipython3",
   "version": "3.9.12 (main, Apr  5 2022, 06:56:58) \n[GCC 7.5.0]"
  },
  "orig_nbformat": 4,
  "vscode": {
   "interpreter": {
    "hash": "12cdd475630f2d46394b37907add291e4d4b45a6318ce9a647ee43716c21869b"
   }
  }
 },
 "nbformat": 4,
 "nbformat_minor": 2
}
