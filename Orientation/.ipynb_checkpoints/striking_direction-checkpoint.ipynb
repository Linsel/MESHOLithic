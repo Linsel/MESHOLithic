{
 "cells": [
  {
   "cell_type": "code",
   "execution_count": 1,
   "id": "f164d9db",
   "metadata": {},
   "outputs": [],
   "source": [
    "from mesh import Mesh\n",
    "#from gaussian_map_3 import Gaussian_Map\n",
    "from gaussian_map import Gaussian_Map\n",
    "\n",
    "import numpy as np\n",
    "import matplotlib.pyplot as plt\n"
   ]
  },
  {
   "cell_type": "code",
   "execution_count": 2,
   "id": "feba2b07",
   "metadata": {},
   "outputs": [],
   "source": [
    "path = '/media/linsel/3931-6632/data/phd stone tools/Blades_Bladelets_PLY/annotated/coloured/selected/'\n",
    "\n",
    "name = '10361'#\"31.comp.1\"\n",
    "\n",
    "filename,quality_index = path + name + '.ply',3\n"
   ]
  },
  {
   "cell_type": "code",
   "execution_count": 3,
   "id": "402ae38c",
   "metadata": {},
   "outputs": [
    {
     "name": "stdout",
     "output_type": "stream",
     "text": [
      "Time read data file: 5.513497753010597\n",
      "Time read and prepare data: 22.407501865003724\n"
     ]
    }
   ],
   "source": [
    "GM_1 = Gaussian_Map()\n",
    "GM_1.load_ply(filename, quality_index)"
   ]
  },
  {
   "cell_type": "code",
   "execution_count": 5,
   "id": "bc8246f4",
   "metadata": {},
   "outputs": [
    {
     "name": "stdout",
     "output_type": "stream",
     "text": [
      "Time writing label txt file: 0.1696391349832993\n"
     ]
    }
   ],
   "source": [
    "GM_1.create_point_cloud ()\n",
    "GM_1.prep_orientate_mesh_pca ()\n",
    "GM_1.prep_orientate_mesh_Kmeans ()   \n",
    "GM_1.save_exp_cloud ()\n",
    "GM_1.export_exp_cloud_as_mesh ()\n",
    "GM_1.recalculate_normals ()"
   ]
  }
 ],
 "metadata": {
  "kernelspec": {
   "display_name": "Python 3 (ipykernel)",
   "language": "python",
   "name": "python3"
  },
  "language_info": {
   "codemirror_mode": {
    "name": "ipython",
    "version": 3
   },
   "file_extension": ".py",
   "mimetype": "text/x-python",
   "name": "python",
   "nbconvert_exporter": "python",
   "pygments_lexer": "ipython3",
   "version": "3.9.12"
  }
 },
 "nbformat": 4,
 "nbformat_minor": 5
}
