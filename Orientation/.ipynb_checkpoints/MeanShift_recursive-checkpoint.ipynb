{
 "cells": [
  {
   "cell_type": "code",
   "execution_count": null,
   "id": "56dde986",
   "metadata": {},
   "outputs": [
    {
     "name": "stdout",
     "output_type": "stream",
     "text": [
      "Time read data file: 5.410400941007538\n"
     ]
    },
    {
     "name": "stderr",
     "output_type": "stream",
     "text": [
      "/home/linsel/Documents/PhD/segmentation/Wang et al. 2013/Gaussian_Map/LoadData/read_ply.py:36: RuntimeWarning: invalid value encountered in arcsin\n",
      "  vert = Vertex(index=vindex, x=pt[0], y=pt[1], z=pt[2], quality=pt[3], flags=pt[4], red=pt[5], green=pt[6], blue=pt[7], nx=pt[8], ny=pt[9], nz=pt[10], theta=np.arccos(pt[10]), phi=np.arcsin(pt[8]/np.cos(np.arccos(pt[10]))))\n"
     ]
    },
    {
     "name": "stdout",
     "output_type": "stream",
     "text": [
      "Time read and prepare data: 18.501451815012842\n",
      "[0 0 0 ... 1 1 1]\n",
      "(146174, 1)\n",
      "Time per run: 1342.4355272859975\n",
      "(146174, 1)\n",
      "(146174, 1)\n",
      "(76589, 2)\n",
      "(76589, 2)\n",
      "1\n"
     ]
    }
   ],
   "source": [
    "from mesh import Mesh\n",
    "from gaussian_map_3 import Gaussian_Map\n",
    "\n",
    "import numpy as np\n",
    "import matplotlib.pyplot as plt\n",
    "\n",
    "from sklearn.cluster import MeanShift\n",
    "import numpy as np\n",
    "\n",
    "path = '/media/linsel/3931-6632/data/phd stone tools/Blades_Bladelets_PLY/annotated/normals/'\n",
    "\n",
    "filename, quality_index = path + \"31.ply\", 3\n",
    "\n",
    "GM_1 = Gaussian_Map()\n",
    "GM_1.load_ply(filename, quality_index)\n",
    "\n",
    "point_cloud = [[value.x, value.y, value.z, value.quality, value.flags, \n",
    "                value.red, value.green, value.blue, value.nx, value.ny, \n",
    "                value.nz,value.phi, value.theta]  for value in GM_1.Vertices.values()]\n",
    "\n",
    "variable_list = {1:'x',2:'y',3:'z', 4:'quality', 5:'flags', \n",
    "             6:'red', 7:'green', 8:'blue', 9:'nx', 10:'ny', \n",
    "             11:'nz', 12:'phi', 13:'theta'}\n",
    "\n",
    "variable_list = {'x':0,'y':1,'z':2, 'quality':3, 'flags':4, \n",
    "             'red':5, 'green':6, 'blue':7, 'nx':8, 'ny':9, \n",
    "             'nz':10, 'phi':11, 'theta':12}\n",
    "\n",
    "\n",
    "\n",
    "\n",
    "point_cloud = np.array (point_cloud)\n",
    "\n",
    "# Normales\n",
    "NX = point_cloud [:,8] \n",
    "NY = point_cloud [:,9] \n",
    "NZ = point_cloud [:,10] \n",
    "\n",
    "\n",
    "# THETA = np.arccos(Z)\n",
    "# PHI = np.arcsin(X / np.cos(THETA)) \n",
    "PHI = point_cloud[:,11]\n",
    "THETA = point_cloud[:,12]\n",
    "\n",
    "\n",
    "# def MeanShiftClustering(values=None,bandwith=None):\n",
    "#     import numpy as np\n",
    "\n",
    "#     from sklearn.cluster import MeanShift\n",
    "#     import numpy as np\n",
    "\n",
    "#     return  MeanShift(bandwidth=bandwidth).fit(values)\n",
    "\n",
    "variable_filter = ['theta','phi']\n",
    "\n",
    "recursive_depth = 10\n",
    "\n",
    "bandwidth = 0.35\n",
    "\n",
    "GM_1.calculate_meanshift (point_cloud, variable_list, variable_filter, recursive_depth, bandwidth) #, point_cloud, variable_list, variable_filter, recursive_depth, bandwidth\n",
    "\n",
    "#########################################################################\n",
    "\n",
    "\n",
    "\n",
    "import python_libs.write_labels_txt as jan\n",
    "\n",
    "depth = recursive_depth - 1\n",
    "\n",
    "chosen = depth\n",
    "\n",
    "\n",
    "i = 1\n",
    "\n",
    "labels_list  = [i + 1 for item in  GM_1.label_array [:,recursive_depth-1]]\n",
    "\n",
    "\n",
    "\n",
    "\n",
    "C_exp = dict(enumerate(labels_list.flatten(), 0))\n",
    "\n",
    "jan.write_labels_txt_file (C_exp,filename + '_recursive_lay' + str(chosen) +  'of' + str(depth) + '_labels.csv')\n",
    "\n"
   ]
  }
 ],
 "metadata": {
  "kernelspec": {
   "display_name": "Python 3 (ipykernel)",
   "language": "python",
   "name": "python3"
  },
  "language_info": {
   "codemirror_mode": {
    "name": "ipython",
    "version": 3
   },
   "file_extension": ".py",
   "mimetype": "text/x-python",
   "name": "python",
   "nbconvert_exporter": "python",
   "pygments_lexer": "ipython3",
   "version": "3.9.12"
  }
 },
 "nbformat": 4,
 "nbformat_minor": 5
}
