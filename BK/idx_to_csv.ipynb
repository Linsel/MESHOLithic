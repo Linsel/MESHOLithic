{
 "cells": [
  {
   "cell_type": "code",
   "execution_count": 1,
   "metadata": {},
   "outputs": [],
   "source": [
    "import csv \n",
    "\n",
    "path = '/home/linsel/Documents/PhD/segmentation/prototyping/BK/' \n",
    "\n",
    "file_name = 'TARGETS'\n",
    "\n",
    "ending = '.IDX'"
   ]
  },
  {
   "cell_type": "code",
   "execution_count": 97,
   "metadata": {},
   "outputs": [],
   "source": [
    "def idx_to_csv (path,file_name):\n",
    " \n",
    "    with open(\"\".join([path,file_name]), newline='') as csvfile:\n",
    "        spamreader = csv.reader(csvfile, delimiter='\\t', quotechar='\"')\n",
    "        for n,row in enumerate(spamreader):\n",
    "\n",
    "            if ['', 'POINTS (PointNo, PointID, East, North, Elevation, Code, Date, CLASS)'] == row:\n",
    "                beg_end = [n]\n",
    "                temp = row[1][8:-1] \n",
    "                export = temp.split(', ')\n",
    "\n",
    "            if \t['', '', 'THEMINFO (PointNo, PointID, Attribute, Value)'] == row:\n",
    "                beg_end.append(n)\n",
    "\n",
    "    with open(\"\".join([path,file_name]), newline='') as csvfile:\n",
    "        spamreader_2 = csv.reader(csvfile, delimiter='\\t', quotechar='\"')\n",
    "        with open('Targets_cleaned.csv', 'w') as file:\n",
    "            writer = csv.writer(file, escapechar=' ', quoting=csv.QUOTE_NONE)\n",
    "            writer.writerow(export)\n",
    "\n",
    "            for n,row in enumerate(spamreader_2):\n",
    "                if n in range(beg_end[0],beg_end[1]):\n",
    "                    \n",
    "                    if len(row[2:]) == 9 and row[2:][1].startswith('TARGET'):\n",
    "\n",
    "                        row[3] = 'target ' + row[2:][1][7:]\n",
    "\n",
    "                        temp = [ros[:-1] for ros in row[2:-2]] + [row[-1][:-1]]\n",
    "                        writer.writerow(temp)\n",
    "\n",
    "idx_to_csv(path,file_name+ending)"
   ]
  },
  {
   "cell_type": "code",
   "execution_count": 95,
   "metadata": {},
   "outputs": [
    {
     "name": "stdout",
     "output_type": "stream",
     "text": [
      "1\n",
      "379,\n",
      "target 379,\n",
      "1\n",
      "309,\n",
      "target 309,\n",
      "1\n",
      "303,\n",
      "target 303,\n",
      "1\n",
      "297,\n",
      "target 297,\n",
      "1\n",
      "415,\n",
      "target 415,\n",
      "1\n",
      "409,\n",
      "target 409,\n",
      "1\n",
      "403,\n",
      "target 403,\n",
      "1\n",
      "396,\n",
      "target 396,\n",
      "1\n",
      "204,\n",
      "target 204,\n",
      "1\n",
      "390,\n",
      "target 390,\n",
      "1\n",
      "351,\n",
      "target 351,\n",
      "1\n",
      "414,\n",
      "target 414,\n",
      "1\n",
      "438,\n",
      "target 438,\n",
      "1\n",
      "439,\n",
      "target 439,\n",
      "1\n",
      "408,\n",
      "target 408,\n",
      "1\n",
      "432,\n",
      "target 432,\n"
     ]
    }
   ],
   "source": [
    "\n"
   ]
  }
 ],
 "metadata": {
  "kernelspec": {
   "display_name": "manim",
   "language": "python",
   "name": "python3"
  },
  "language_info": {
   "codemirror_mode": {
    "name": "ipython",
    "version": 3
   },
   "file_extension": ".py",
   "mimetype": "text/x-python",
   "name": "python",
   "nbconvert_exporter": "python",
   "pygments_lexer": "ipython3",
   "version": "3.8.17"
  },
  "orig_nbformat": 4
 },
 "nbformat": 4,
 "nbformat_minor": 2
}
