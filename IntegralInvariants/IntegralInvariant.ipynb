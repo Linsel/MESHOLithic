{
 "cells": [
  {
   "cell_type": "code",
<<<<<<< HEAD
   "execution_count": 1,
=======
   "execution_count": 3,
>>>>>>> c355e9ada4b21fa8e557000d426b6f8268c0e8cc
   "metadata": {},
   "outputs": [],
   "source": [
    "# Import trimesh and numpy libraries\n",
    "\n",
    "import numpy as np\n",
    "from trimesh.curvature import sphere_ball_intersection\n",
    "\n",
    "import matplotlib.pyplot as plt\n",
    "\n",
    "import trimesh\n",
    "\n",
    "# functions \n",
    "import integralInvariant1D as II1D"
   ]
  },
  {
   "cell_type": "code",
<<<<<<< HEAD
   "execution_count": 2,
   "metadata": {},
   "outputs": [
    {
     "ename": "ValueError",
     "evalue": "Translation must be (3,) or (2,)!",
     "output_type": "error",
     "traceback": [
      "\u001b[0;31m---------------------------------------------------------------------------\u001b[0m",
      "\u001b[0;31mValueError\u001b[0m                                Traceback (most recent call last)",
      "\u001b[1;32m/home/linsel/Documents/PhD/segmentation/prototyping/IntegralInvariants/IntegralInvariant.ipynb Cell 2\u001b[0m in \u001b[0;36m<cell line: 1>\u001b[0;34m()\u001b[0m\n\u001b[0;32m----> <a href='vscode-notebook-cell:/home/linsel/Documents/PhD/segmentation/prototyping/IntegralInvariants/IntegralInvariant.ipynb#W1sZmlsZQ%3D%3D?line=0'>1</a>\u001b[0m \u001b[39mlist\u001b[39m \u001b[39m=\u001b[39m [II1D\u001b[39m.\u001b[39;49mcrossingpoints([[\u001b[39m0.0\u001b[39;49m, \u001b[39m0.0\u001b[39;49m, \u001b[39m0.0\u001b[39;49m]],[[[\u001b[39m0.00000001\u001b[39;49m, \u001b[39m0.001\u001b[39;49m, \u001b[39m0.0000001\u001b[39;49m]]])]\n",
      "File \u001b[0;32m~/Documents/PhD/segmentation/prototyping/IntegralInvariants/integralInvariant1D.py:51\u001b[0m, in \u001b[0;36mcrossingpoints\u001b[0;34m(origin, targets)\u001b[0m\n\u001b[1;32m     49\u001b[0m radii \u001b[39m=\u001b[39m np\u001b[39m.\u001b[39mlinspace(\u001b[39m0.1\u001b[39m, \u001b[39m2.0\u001b[39m, \u001b[39m16\u001b[39m)\n\u001b[1;32m     50\u001b[0m \u001b[39m# icospheres = np.array([trimesh.creation.icosphere(radius=r) for r in radii]) + origin \u001b[39;00m\n\u001b[0;32m---> 51\u001b[0m icospheres \u001b[39m=\u001b[39m create_icospheres(origin,radii)\n\u001b[1;32m     53\u001b[0m \u001b[39m# crossingpoints = {{'sphere_size':radii[n],'crossingpoint':get_crossingpoints(ico,[origin],[target])[0][0]} for n,ico in icospheres} for target in targets}\u001b[39;00m\n\u001b[1;32m     54\u001b[0m crossingpoints \u001b[39m=\u001b[39m {}\n",
      "File \u001b[0;32m~/Documents/PhD/segmentation/prototyping/IntegralInvariants/integralInvariant1D.py:44\u001b[0m, in \u001b[0;36mcreate_icospheres\u001b[0;34m(origin, radii)\u001b[0m\n\u001b[1;32m     42\u001b[0m \u001b[39mdef\u001b[39;00m \u001b[39mcreate_icospheres\u001b[39m(origin,radii):\n\u001b[0;32m---> 44\u001b[0m     icospheres \u001b[39m=\u001b[39m np\u001b[39m.\u001b[39marray([trimesh\u001b[39m.\u001b[39mcreation\u001b[39m.\u001b[39micosphere(radius\u001b[39m=\u001b[39mr)\u001b[39m.\u001b[39mapply_translation(origin) \u001b[39mfor\u001b[39;00m r \u001b[39min\u001b[39;00m radii])  \n\u001b[1;32m     45\u001b[0m     \u001b[39mreturn\u001b[39;00m icospheres\n",
      "File \u001b[0;32m~/Documents/PhD/segmentation/prototyping/IntegralInvariants/integralInvariant1D.py:44\u001b[0m, in \u001b[0;36m<listcomp>\u001b[0;34m(.0)\u001b[0m\n\u001b[1;32m     42\u001b[0m \u001b[39mdef\u001b[39;00m \u001b[39mcreate_icospheres\u001b[39m(origin,radii):\n\u001b[0;32m---> 44\u001b[0m     icospheres \u001b[39m=\u001b[39m np\u001b[39m.\u001b[39marray([trimesh\u001b[39m.\u001b[39;49mcreation\u001b[39m.\u001b[39;49micosphere(radius\u001b[39m=\u001b[39;49mr)\u001b[39m.\u001b[39;49mapply_translation(origin) \u001b[39mfor\u001b[39;00m r \u001b[39min\u001b[39;00m radii])  \n\u001b[1;32m     45\u001b[0m     \u001b[39mreturn\u001b[39;00m icospheres\n",
      "File \u001b[0;32m~/anaconda3/envs/PhD/lib/python3.9/site-packages/trimesh/parent.py:107\u001b[0m, in \u001b[0;36mGeometry.apply_translation\u001b[0;34m(self, translation)\u001b[0m\n\u001b[1;32m    104\u001b[0m     \u001b[39mreturn\u001b[39;00m \u001b[39mself\u001b[39m\u001b[39m.\u001b[39mapply_transform(\n\u001b[1;32m    105\u001b[0m         tf\u001b[39m.\u001b[39mplanar_matrix(offset\u001b[39m=\u001b[39mtranslation))\n\u001b[1;32m    106\u001b[0m \u001b[39melif\u001b[39;00m translation\u001b[39m.\u001b[39mshape \u001b[39m!=\u001b[39m (\u001b[39m3\u001b[39m,):\n\u001b[0;32m--> 107\u001b[0m     \u001b[39mraise\u001b[39;00m \u001b[39mValueError\u001b[39;00m(\u001b[39m'\u001b[39m\u001b[39mTranslation must be (3,) or (2,)!\u001b[39m\u001b[39m'\u001b[39m)\n\u001b[1;32m    109\u001b[0m \u001b[39m# manually create a translation matrix\u001b[39;00m\n\u001b[1;32m    110\u001b[0m matrix \u001b[39m=\u001b[39m np\u001b[39m.\u001b[39meye(\u001b[39m4\u001b[39m)\n",
      "\u001b[0;31mValueError\u001b[0m: Translation must be (3,) or (2,)!"
=======
   "execution_count": 7,
   "metadata": {},
   "outputs": [
    {
     "name": "stdout",
     "output_type": "stream",
     "text": [
      "(array([[9.99990748e-07, 9.99990748e-02, 9.99990748e-06]]), array([0]), array([122]))\n",
      "2 [9.99990748e-07 9.99990748e-02 9.99990748e-06]\n",
      "(array([[2.2666457e-06, 2.2666457e-01, 2.2666457e-05]]), array([0]), array([122]))\n",
      "2 [2.2666457e-06 2.2666457e-01 2.2666457e-05]\n",
      "(array([[3.53330064e-06, 3.53330064e-01, 3.53330064e-05]]), array([0]), array([122]))\n",
      "2 [3.53330064e-06 3.53330064e-01 3.53330064e-05]\n",
      "(array([[4.79995559e-06, 4.79995559e-01, 4.79995559e-05]]), array([0]), array([122]))\n",
      "2 [4.79995559e-06 4.79995559e-01 4.79995559e-05]\n",
      "(array([[6.06661054e-06, 6.06661054e-01, 6.06661054e-05]]), array([0]), array([122]))\n",
      "2 [6.06661054e-06 6.06661054e-01 6.06661054e-05]\n",
      "(array([[7.33326549e-06, 7.33326549e-01, 7.33326549e-05]]), array([0]), array([122]))\n",
      "2 [7.33326549e-06 7.33326549e-01 7.33326549e-05]\n",
      "(array([[8.59992043e-06, 8.59992043e-01, 8.59992043e-05]]), array([0]), array([122]))\n",
      "2 [8.59992043e-06 8.59992043e-01 8.59992043e-05]\n",
      "(array([[9.86657538e-06, 9.86657538e-01, 9.86657538e-05]]), array([0]), array([122]))\n",
      "2 [9.86657538e-06 9.86657538e-01 9.86657538e-05]\n",
      "(array([[1.11332303e-05, 1.11332303e+00, 1.11332303e-04]]), array([0]), array([122]))\n",
      "2 [1.11332303e-05 1.11332303e+00 1.11332303e-04]\n",
      "(array([[1.23998853e-05, 1.23998853e+00, 1.23998853e-04]]), array([0]), array([122]))\n",
      "2 [1.23998853e-05 1.23998853e+00 1.23998853e-04]\n",
      "(array([[1.36665402e-05, 1.36665402e+00, 1.36665402e-04]]), array([0]), array([122]))\n",
      "2 [1.36665402e-05 1.36665402e+00 1.36665402e-04]\n",
      "(array([[1.49331952e-05, 1.49331952e+00, 1.49331952e-04]]), array([0]), array([122]))\n",
      "2 [1.49331952e-05 1.49331952e+00 1.49331952e-04]\n",
      "(array([[1.61998501e-05, 1.61998501e+00, 1.61998501e-04]]), array([0]), array([122]))\n",
      "2 [1.61998501e-05 1.61998501e+00 1.61998501e-04]\n",
      "(array([[1.74665051e-05, 1.74665051e+00, 1.74665051e-04]]), array([0]), array([122]))\n",
      "2 [1.74665051e-05 1.74665051e+00 1.74665051e-04]\n",
      "(array([[1.873316e-05, 1.873316e+00, 1.873316e-04]]), array([0]), array([122]))\n",
      "2 [1.873316e-05 1.873316e+00 1.873316e-04]\n",
      "(array([[1.9999815e-05, 1.9999815e+00, 1.9999815e-04]]), array([0]), array([122]))\n",
      "2 [1.9999815e-05 1.9999815e+00 1.9999815e-04]\n"
>>>>>>> c355e9ada4b21fa8e557000d426b6f8268c0e8cc
     ]
    }
   ],
   "source": [
    "list = [II1D.crossingpoints([[0.0, 0.0, 0.0]],[[[0.00000001, 0.001, 0.0000001]]])]"
   ]
  },
  {
   "cell_type": "code",
   "execution_count": null,
   "metadata": {},
   "outputs": [
    {
     "name": "stdout",
     "output_type": "stream",
     "text": [
      "[[-0.2 -0.2 -0.2]\n",
      " [-0.2 -0.2  0.2]\n",
      " [-0.2  0.2 -0.2]\n",
      " [-0.2  0.2  0.2]\n",
      " [ 0.2 -0.2 -0.2]\n",
      " [ 0.2 -0.2  0.2]\n",
      " [ 0.2  0.2 -0.2]\n",
      " [ 0.2  0.2  0.2]]\n",
      "[[ 0.   0.2  0. ]\n",
      " [ 0.  -0.2  0. ]\n",
      " [ 0.2  0.   0. ]\n",
      " [ 0.2  0.2  0. ]\n",
      " [ 0.2 -0.2  0. ]\n",
      " [-0.2  0.   0. ]\n",
      " [-0.2  0.2  0. ]\n",
      " [-0.2 -0.2  0. ]]\n"
     ]
    },
    {
     "ename": "AttributeError",
     "evalue": "'TrackedArray' object has no attribute 'contains_point'",
     "output_type": "error",
     "traceback": [
      "\u001b[0;31m---------------------------------------------------------------------------\u001b[0m\n",
      "\u001b[0;31mAttributeError\u001b[0m                            Traceback (most recent call last)\n",
      "\u001b[1;32m/home/linsel/Documents/PhD/segmentation/prototyping/Orientation/Front_Orientation.ipynb Cell 7\u001b[0m in \u001b[0;36m<cell line: 32>\u001b[0;34m()\u001b[0m\n",
      "\u001b[1;32m     <a href='vscode-notebook-cell:/home/linsel/Documents/PhD/segmentation/prototyping/Orientation/Front_Orientation.ipynb#X36sZmlsZQ%3D%3D?line=31'>32</a>\u001b[0m \u001b[39mfor\u001b[39;00m intersect \u001b[39min\u001b[39;00m intersects\u001b[39m.\u001b[39mvertices:\n",
      "\u001b[1;32m     <a href='vscode-notebook-cell:/home/linsel/Documents/PhD/segmentation/prototyping/Orientation/Front_Orientation.ipynb#X36sZmlsZQ%3D%3D?line=32'>33</a>\u001b[0m     \u001b[39mfor\u001b[39;00m point \u001b[39min\u001b[39;00m points:\n",
      "\u001b[0;32m---> <a href='vscode-notebook-cell:/home/linsel/Documents/PhD/segmentation/prototyping/Orientation/Front_Orientation.ipynb#X36sZmlsZQ%3D%3D?line=33'>34</a>\u001b[0m         \u001b[39mif\u001b[39;00m intersect\u001b[39m.\u001b[39;49mcontains_point(point):\n",
      "\u001b[1;32m     <a href='vscode-notebook-cell:/home/linsel/Documents/PhD/segmentation/prototyping/Orientation/Front_Orientation.ipynb#X36sZmlsZQ%3D%3D?line=34'>35</a>\u001b[0m             sphere_points\u001b[39m.\u001b[39mappend(point)\n",
      "\u001b[1;32m     <a href='vscode-notebook-cell:/home/linsel/Documents/PhD/segmentation/prototyping/Orientation/Front_Orientation.ipynb#X36sZmlsZQ%3D%3D?line=36'>37</a>\u001b[0m \u001b[39m# visualize the points within the sphere\u001b[39;00m\n",
      "\n",
      "\u001b[0;31mAttributeError\u001b[0m: 'TrackedArray' object has no attribute 'contains_point'"
     ]
    }
   ],
   "source": [
    "import trimesh\n",
    "import numpy as np\n",
    "\n",
    "# load a trimesh object\n",
    "mesh = trimesh.primitives.Box(origin=[0.0, 0.0, 0.0],extents=[0.4, 0.4, 0.4])\n",
    "\n",
    "print(mesh.vertices)\n",
    "\n",
    "# define a sphere with radius and center\n",
    "sphere_radius = 1.0\n",
    "sphere_center = np.array([0.0, 0.0, 0.0])\n",
    "\n",
    "# generate random points within the sphere\n",
    "num_points = 1000\n",
    "points = []\n",
    "while len(points) < num_points:\n",
    "    # generate a random point within a cube around the sphere\n",
    "    point = np.random.rand(3) * (2 * sphere_radius) - sphere_radius\n",
    "    # print(np.random.rand(3) * (2 * sphere_radius) - sphere_radius)\n",
    "\n",
    "    # check if the point is within the sphere\n",
    "    if np.linalg.norm(point - sphere_center) <= sphere_radius:\n",
    "        points.append(point)\n",
    "\n",
    "# get the triangles that intersect with the sphere\n",
    "intersects = mesh.section(plane_origin=sphere_center, plane_normal=[0,0,1])\n",
    "\n",
    "print(intersects.vertices) \n",
    "\n",
    "# get the points that are within the intersecting triangles\n",
    "sphere_points = []\n",
    "for intersect in intersects.vertices:\n",
    "    for point in points:\n",
    "        if intersect.contains_point(point):\n",
    "            sphere_points.append(point)\n",
    "\n",
    "# visualize the points within the sphere\n",
    "import matplotlib.pyplot as plt\n",
    "fig = plt.figure()\n",
    "ax = fig.add_subplot(111, projection='3d')\n",
    "ax.scatter(*sphere_points.T, s=2)\n",
    "plt.show()"
   ]
  },
  {
   "cell_type": "code",
   "execution_count": null,
   "metadata": {},
   "outputs": [
    {
     "name": "stdout",
     "output_type": "stream",
     "text": [
      "[ 0.49556208 -0.59242293  0.09149951 ...  0.73203218 -0.18728914\n",
      "  0.79384658]\n"
     ]
    }
   ],
   "source": [
    "import numpy as np\n",
    "import matplotlib.pyplot as plt\n",
    "import ot\n",
    "import trimesh\n",
    "import random\n",
    "\n",
    "\n",
    "path = '/media/linsel/3931-6632/data/phd stone tools/Blades_Bladelets_PLY/annotated/coloured/selected/'\n",
    "ending = ''#'_r1.00_n4_v256.volume'\n",
    "name = '202' \n",
    "\n",
    "exp_path = 'exp_path/'\n",
    "\n",
    "filename_1 = path + name + '.ply'\n",
    "\n",
    "mesh_1 = trimesh.load(filename_1)\n",
    "\n",
    "# trimesh.exchange.export.export_ply(mesh_1,path + exp_path + name + '_cm.ply', encoding='ascii')\n",
    "\n",
    "mesh_1.export(path + exp_path + name + '_cm.ply', encoding='binary')\n",
    "\n",
    "mesh_1 = trimesh.load(path + exp_path + name + '_cm.ply')\n",
    "\n",
    "mesh_1.metadata['ply_raw']['vertex']['data']\n",
    "\n",
    "# Calculate the vertex normals\n",
    "vertex_normals = mesh_1.vertex_normals\n",
    "\n",
    "# Print the vertex normals\n",
    "print(vertex_normals[:,0])\n"
   ]
  },
  {
   "cell_type": "markdown",
   "metadata": {},
   "source": [
    "## Calculate angle between orientations"
   ]
  },
  {
   "cell_type": "code",
   "execution_count": null,
   "metadata": {},
   "outputs": [
    {
     "name": "stdout",
     "output_type": "stream",
     "text": [
      "107.39864349365234\n",
      "1\n",
      "1.0094575881958008\n",
      "773 177.6892608910914\n",
      "119.61110758781433\n",
      "0.8429665565490723\n",
      "6853 179.94051610513444\n",
      "127.08398151397705\n",
      "1\n",
      "0.5683648586273193\n",
      "10350 179.47102542820372\n"
     ]
    },
    {
     "ename": "",
     "evalue": "",
     "output_type": "error",
     "traceback": [
      "\u001b[1;31mCanceled future for execute_request message before replies were done"
     ]
    },
    {
     "ename": "",
     "evalue": "",
     "output_type": "error",
     "traceback": [
      "\u001b[1;31mThe Kernel crashed while executing code in the the current cell or a previous cell. Please review the code in the cell(s) to identify a possible cause of the failure. Click <a href='https://aka.ms/vscodeJupyterKernelCrash'>here</a> for more info. View Jupyter <a href='command:jupyter.viewOutput'>log</a> for further details."
     ]
    }
   ],
   "source": [
    "# from mesh import Mesh\n",
    "from artefactOrientation import artefactOrientation\n",
    "import trimesh\n",
    "import numpy as np\n",
    "import matplotlib.pyplot as plt\n",
    "import os, sys\n",
    "import pandas as pd\n",
    "\n",
    "def combine_trafomat_GM_orient (filename):\n",
    "    df = pd.read_csv(filename,delimiter='###',header=None,engine='python')[0]\n",
    "    np_out = np.empty((0,4), float)\n",
    "    for row in df:\n",
    "        if row[0] != \"#\":\n",
    "            if ',' in row:\n",
    "                row = row.replace(',','.')\n",
    "            data = np.array([float(x) for x in row.split(' ')],ndmin=2)\n",
    "            np_out = np.append(np_out,np.array(data),axis=0)             \n",
    "    for index, values in np.ndenumerate(np_out[:,0]): \n",
    "        if(index[0] % 4 == 0):        \n",
    "            trans_ind = index[0] \n",
    "            if 'trans_mat' not in locals():\n",
    "                trans_mat = np_out[trans_ind:trans_ind+3,:3]\n",
    "            else:\n",
    "                trans_mat = np.matmul(trans_mat,np_out[trans_ind:trans_ind+3,:3].T)\n",
    "    return trans_mat\n",
    "\n",
    "\n",
    "def getAngle(P, Q):\n",
    "    R = np.dot(P, Q)\n",
    "    theta = (np.trace(R)-1)/2\n",
    "    return np.arccos(theta) * (180/np.pi)\n",
    "\n",
    "\n",
    "paths = ['/home/linsel/Documents/PhD/Data/Fumane/GMCF/',\n",
    "        '/media/linsel/3931-6632/data/phd stone tools/Blades_Bladelets_PLY/annotated/coloured/selected/']\n",
    "ending = ''#'_r1.00_n4_v256.volume'\n",
    "\n",
    "exp_path = 'exp_path/'\n",
    "\n",
    "angle = []\n",
    "\n",
    "for file in os.listdir(paths[1]):\n",
    "    if file.endswith('.ply'):\n",
    "\n",
    "        name = file[:-4] \n",
    "\n",
    "        # translation of mesh to center of mass -> simplification of algorithms \n",
    "        filename_1 = paths[1] + name + '.ply'\n",
    "        mesh_1 = trimesh.load(filename_1)\n",
    "        mesh_1.vertices = mesh_1.vertices - [np.mean (col) for col in np.array(mesh_1.vertices).T]\n",
    "        mesh_1.export(paths[1] + name + '_cm.ply')\n",
    "\n",
    "        AO_1 = artefactOrientation()\n",
    "        AO_1.load_ply(paths[1],name + '_cm',exp_path)\n",
    "        AO_1.create_trafomat()\n",
    "        AO_1.exp_trafomat()\n",
    "        AO_1.exp_trafomat_GMO()\n",
    "        AO_1.export_transformed_ply()\n",
    "\n",
    "        filename_1 = paths[0] + name + '_GMCF_transmat.txt'\n",
    "\n",
    "        filename_2 = paths[1] + exp_path + name + '_GMO_trafomat.txt'\n",
    "\n",
    "        matrix1 = combine_trafomat_GM_orient (filename_1)\n",
    "        matrix2 = combine_trafomat_GM_orient (filename_2)\n",
    "        print(name,getAngle(matrix1,matrix2))\n",
    "        angle.append(getAngle(matrix1,matrix2))\n",
    "pd.Series([180 - ang if ang > 170 else ang for ang in pd.Series(angle).dropna()]).hist()        \n",
    "\n",
    "pd.Series([ang for ang in pd.Series(angle).dropna()]).hist()"
   ]
  }
 ],
 "metadata": {
  "kernelspec": {
   "display_name": "PhD",
   "language": "python",
   "name": "python3"
  },
  "language_info": {
   "codemirror_mode": {
    "name": "ipython",
    "version": 3
   },
   "file_extension": ".py",
   "mimetype": "text/x-python",
   "name": "python",
   "nbconvert_exporter": "python",
   "pygments_lexer": "ipython3",
   "version": "3.9.12"
  },
  "orig_nbformat": 4,
  "vscode": {
   "interpreter": {
    "hash": "12cdd475630f2d46394b37907add291e4d4b45a6318ce9a647ee43716c21869b"
   }
  }
 },
 "nbformat": 4,
 "nbformat_minor": 2
}
