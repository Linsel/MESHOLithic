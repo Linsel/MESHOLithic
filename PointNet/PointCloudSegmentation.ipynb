{
 "cells": [
  {
   "cell_type": "markdown",
   "id": "cc55afaf",
   "metadata": {
    "colab_type": "text"
   },
   "source": [
    "# Point cloud segmentation with PointNet\n",
    "\n",
    "**Author:** [Soumik Rakshit](https://github.com/soumik12345), [Sayak Paul](https://github.com/sayakpaul)<br>\n",
    "**Date created:** 2020/10/23<br>\n",
    "**Last modified:** 2020/10/24<br>\n",
    "**Description:** Implementation of a PointNet-based model for segmenting point clouds."
   ]
  },
  {
   "cell_type": "markdown",
   "id": "0fc8229b",
   "metadata": {
    "colab_type": "text"
   },
   "source": [
    "## Introduction\n",
    "\n",
    "A \"point cloud\" is an important type of data structure for storing geometric shape data.\n",
    "Due to its irregular format, it's often transformed into\n",
    "regular 3D voxel grids or collections of images before being used in deep learning applications,\n",
    "a step which makes the data unnecessarily large.\n",
    "The PointNet family of models solves this problem by directly consuming point clouds, respecting\n",
    "the permutation-invariance property of the point data. The PointNet family of\n",
    "models provides a simple, unified architecture\n",
    "for applications ranging from **object classification**, **part segmentation**, to\n",
    "**scene semantic parsing**.\n",
    "\n",
    "In this example, we demonstrate the implementation of the PointNet architecture\n",
    "for shape segmentation.\n",
    "\n",
    "### References\n",
    "\n",
    "- [PointNet: Deep Learning on Point Sets for 3D Classification and Segmentation](https://arxiv.org/abs/1612.00593)\n",
    "- [Point cloud classification with PointNet](https://keras.io/examples/vision/pointnet/)\n",
    "- [Spatial Transformer Networks](https://arxiv.org/abs/1506.02025)"
   ]
  },
  {
   "cell_type": "markdown",
   "id": "1ca2f754",
   "metadata": {
    "colab_type": "text"
   },
   "source": [
    "## Imports"
   ]
  },
  {
   "cell_type": "code",
   "execution_count": 11,
   "id": "0e95f6e4",
   "metadata": {
    "colab_type": "code"
   },
   "outputs": [],
   "source": [
    "import os\n",
    "import json\n",
    "import random\n",
    "import numpy as np\n",
    "import pandas as pd\n",
    "from tqdm import tqdm\n",
    "from glob import glob\n",
    "\n",
    "import tensorflow as tf\n",
    "from tensorflow import keras\n",
    "from tensorflow.keras import layers\n",
    "\n",
    "import matplotlib.pyplot as plt"
   ]
  },
  {
   "cell_type": "markdown",
   "id": "dd3f0a11",
   "metadata": {
    "colab_type": "text"
   },
   "source": [
    "## Downloading Dataset\n",
    "\n",
    "The [ShapeNet dataset](https://shapenet.org/) is an ongoing effort to establish a richly-annotated,\n",
    "large-scale dataset of 3D shapes. **ShapeNetCore** is a subset of the full ShapeNet\n",
    "dataset with clean single 3D models and manually verified category and alignment\n",
    "annotations. It covers 55 common object categories, with about 51,300 unique 3D models.\n",
    "\n",
    "For this example, we use one of the 12 object categories of\n",
    "[PASCAL 3D+](http://cvgl.stanford.edu/projects/pascal3d.html),\n",
    "included as part of the ShapenetCore dataset."
   ]
  },
  {
   "cell_type": "code",
   "execution_count": 12,
   "id": "c5fb2d8a",
   "metadata": {
    "colab_type": "code"
   },
   "outputs": [],
   "source": [
    "dataset_url = \"https://git.io/JiY4i\"\n",
    "\n",
    "dataset_path = keras.utils.get_file(\n",
    "    fname=\"shapenet.zip\",\n",
    "    origin=dataset_url,\n",
    "    cache_subdir=\"datasets\",\n",
    "    hash_algorithm=\"auto\",\n",
    "    extract=True,\n",
    "    archive_format=\"auto\",\n",
    "    cache_dir=\"datasets\",\n",
    ")"
   ]
  },
  {
   "cell_type": "markdown",
   "id": "f1cb701b",
   "metadata": {
    "colab_type": "text"
   },
   "source": [
    "## Loading the dataset\n",
    "\n",
    "We parse the dataset metadata in order to easily map model categories to their\n",
    "respective directories and segmentation classes to colors for the purpose of\n",
    "visualization."
   ]
  },
  {
   "cell_type": "code",
   "execution_count": 13,
   "id": "a759f1eb",
   "metadata": {
    "colab_type": "code"
   },
   "outputs": [
    {
     "name": "stdout",
     "output_type": "stream",
     "text": [
      "{'Airplane': {'directory': '02691156', 'lables': ['wing', 'body', 'tail', 'engine'], 'colors': ['blue', 'green', 'red', 'pink']}, 'Bag': {'directory': '02773838', 'lables': ['handle', 'body'], 'colors': ['blue', 'green']}, 'Cap': {'directory': '02954340', 'lables': ['panels', 'peak'], 'colors': ['blue', 'green']}, 'Car': {'directory': '02958343', 'lables': ['wheel', 'hood', 'roof'], 'colors': ['blue', 'green', 'red']}, 'Chair': {'directory': '03001627', 'lables': ['leg', 'arm', 'back', 'seat'], 'colors': ['blue', 'green', 'red', 'pink']}, 'Earphone': {'directory': '03261776', 'lables': ['earphone', 'headband'], 'colors': ['blue', 'green']}, 'Guitar': {'directory': '03467517', 'lables': ['head', 'body', 'neck'], 'colors': ['blue', 'green', 'red']}, 'Knife': {'directory': '03624134', 'lables': ['handle', 'blade'], 'colors': ['blue', 'green']}, 'Lamp': {'directory': '03636649', 'lables': ['canopy', 'lampshade', 'base'], 'colors': ['blue', 'green', 'red']}, 'Laptop': {'directory': '03642806', 'lables': ['keyboard'], 'colors': ['blue']}, 'Motorbike': {'directory': '03790512', 'lables': ['wheel', 'handle', 'gas_tank', 'light', 'seat'], 'colors': ['blue', 'green', 'red', 'pink', 'yellow']}, 'Mug': {'directory': '03797390', 'lables': ['handle'], 'colors': ['blue']}, 'Pistol': {'directory': '03948459', 'lables': ['trigger_and_guard', 'handle', 'barrel'], 'colors': ['blue', 'green', 'red']}, 'Rocket': {'directory': '04099429', 'lables': ['nose', 'body', 'fin'], 'colors': ['blue', 'green', 'red']}, 'Skateboard': {'directory': '04225987', 'lables': ['wheel', 'deck'], 'colors': ['blue', 'green']}, 'Table': {'directory': '04379243', 'lables': ['leg', 'top'], 'colors': ['blue', 'green']}}\n"
     ]
    }
   ],
   "source": [
    "with open(\"/tmp/.keras/datasets/PartAnnotation/metadata.json\") as json_file:\n",
    "    metadata = json.load(json_file)\n",
    "\n",
    "print(metadata)"
   ]
  },
  {
   "cell_type": "markdown",
   "id": "c79318c7",
   "metadata": {
    "colab_type": "text"
   },
   "source": [
    "In this example, we train PointNet to segment the parts of an `Airplane` model."
   ]
  },
  {
   "cell_type": "code",
   "execution_count": 14,
   "id": "b0ac48bc",
   "metadata": {
    "colab_type": "code"
   },
   "outputs": [],
   "source": [
    "points_dir = \"/tmp/.keras/datasets/PartAnnotation/{}/points\".format(\n",
    "    metadata[\"Airplane\"][\"directory\"]\n",
    ")\n",
    "labels_dir = \"/tmp/.keras/datasets/PartAnnotation/{}/points_label\".format(\n",
    "    metadata[\"Airplane\"][\"directory\"]\n",
    ")\n",
    "LABELS = metadata[\"Airplane\"][\"lables\"]\n",
    "COLORS = metadata[\"Airplane\"][\"colors\"]\n",
    "\n",
    "VAL_SPLIT = 0.2\n",
    "NUM_SAMPLE_POINTS = 1024\n",
    "BATCH_SIZE = 32\n",
    "EPOCHS = 60\n",
    "INITIAL_LR = 1e-3"
   ]
  },
  {
   "cell_type": "markdown",
   "id": "7c38d484",
   "metadata": {
    "colab_type": "text"
   },
   "source": [
    "## Structuring the dataset\n",
    "\n",
    "We generate the following in-memory data structures from the Airplane point clouds and\n",
    "their labels:\n",
    "\n",
    "- `point_clouds` is a list of `np.array` objects that represent the point cloud data in\n",
    "the form of x, y and z coordinates. Axis 0 represents the number of points in the\n",
    "point cloud, while axis 1 represents the coordinates. `all_labels` is the list\n",
    "that represents the label of each coordinate as a string (needed mainly for\n",
    "visualization purposes).\n",
    "- `test_point_clouds` is in the same format as `point_clouds`, but doesn't have\n",
    "corresponding the labels of the point clouds.\n",
    "- `all_labels` is a list of `np.array` objects that represent the point cloud labels\n",
    "for each coordinate, corresponding to the `point_clouds` list.\n",
    "- `point_cloud_labels` is a list of `np.array` objects that represent the point cloud\n",
    "labels for each coordinate in one-hot encoded form, corresponding to the `point_clouds`\n",
    "list."
   ]
  },
  {
   "cell_type": "code",
   "execution_count": 16,
   "id": "995dee61",
   "metadata": {
    "colab_type": "code"
   },
   "outputs": [
    {
     "name": "stderr",
     "output_type": "stream",
     "text": [
      "  1%|          | 29/4045 [00:00<01:34, 42.60it/s]"
     ]
    },
    {
     "name": "stdout",
     "output_type": "stream",
     "text": [
      "1\n",
      "1\n"
     ]
    },
    {
     "name": "stderr",
     "output_type": "stream",
     "text": [
      "  2%|▏         | 90/4045 [00:02<01:32, 42.73it/s]"
     ]
    },
    {
     "name": "stdout",
     "output_type": "stream",
     "text": [
      "1\n",
      "1\n"
     ]
    },
    {
     "name": "stderr",
     "output_type": "stream",
     "text": [
      "  3%|▎         | 105/4045 [00:02<01:31, 43.20it/s]"
     ]
    },
    {
     "name": "stdout",
     "output_type": "stream",
     "text": [
      "1\n",
      "1\n",
      "1\n"
     ]
    },
    {
     "name": "stderr",
     "output_type": "stream",
     "text": [
      "  3%|▎         | 120/4045 [00:02<01:36, 40.75it/s]"
     ]
    },
    {
     "name": "stdout",
     "output_type": "stream",
     "text": [
      "1\n"
     ]
    },
    {
     "name": "stderr",
     "output_type": "stream",
     "text": [
      "  3%|▎         | 130/4045 [00:03<01:37, 40.18it/s]"
     ]
    },
    {
     "name": "stdout",
     "output_type": "stream",
     "text": [
      "1\n"
     ]
    },
    {
     "name": "stderr",
     "output_type": "stream",
     "text": [
      "  4%|▍         | 161/4045 [00:04<01:42, 38.07it/s]"
     ]
    },
    {
     "name": "stdout",
     "output_type": "stream",
     "text": [
      "1\n",
      "1\n"
     ]
    },
    {
     "name": "stderr",
     "output_type": "stream",
     "text": [
      "  4%|▍         | 176/4045 [00:04<01:32, 41.72it/s]"
     ]
    },
    {
     "name": "stdout",
     "output_type": "stream",
     "text": [
      "1\n",
      "1\n",
      "1\n"
     ]
    },
    {
     "name": "stderr",
     "output_type": "stream",
     "text": [
      "  5%|▌         | 210/4045 [00:05<01:36, 39.74it/s]"
     ]
    },
    {
     "name": "stdout",
     "output_type": "stream",
     "text": [
      "1\n"
     ]
    },
    {
     "name": "stderr",
     "output_type": "stream",
     "text": [
      "  5%|▌         | 220/4045 [00:05<01:36, 39.58it/s]"
     ]
    },
    {
     "name": "stdout",
     "output_type": "stream",
     "text": [
      "1\n"
     ]
    },
    {
     "name": "stderr",
     "output_type": "stream",
     "text": [
      "  6%|▌         | 233/4045 [00:05<01:36, 39.52it/s]"
     ]
    },
    {
     "name": "stdout",
     "output_type": "stream",
     "text": [
      "1\n",
      "1\n"
     ]
    },
    {
     "name": "stderr",
     "output_type": "stream",
     "text": [
      "  6%|▌         | 248/4045 [00:06<01:33, 40.62it/s]"
     ]
    },
    {
     "name": "stdout",
     "output_type": "stream",
     "text": [
      "1\n",
      "1\n"
     ]
    },
    {
     "name": "stderr",
     "output_type": "stream",
     "text": [
      "  7%|▋         | 280/4045 [00:07<01:35, 39.59it/s]"
     ]
    },
    {
     "name": "stdout",
     "output_type": "stream",
     "text": [
      "1\n",
      "1\n"
     ]
    },
    {
     "name": "stderr",
     "output_type": "stream",
     "text": [
      "  8%|▊         | 322/4045 [00:08<01:28, 41.93it/s]"
     ]
    },
    {
     "name": "stdout",
     "output_type": "stream",
     "text": [
      "1\n",
      "1\n"
     ]
    },
    {
     "name": "stderr",
     "output_type": "stream",
     "text": [
      "  8%|▊         | 337/4045 [00:08<01:31, 40.36it/s]"
     ]
    },
    {
     "name": "stdout",
     "output_type": "stream",
     "text": [
      "1\n"
     ]
    },
    {
     "name": "stderr",
     "output_type": "stream",
     "text": [
      "  9%|▊         | 351/4045 [00:08<01:33, 39.59it/s]"
     ]
    },
    {
     "name": "stdout",
     "output_type": "stream",
     "text": [
      "1\n"
     ]
    },
    {
     "name": "stderr",
     "output_type": "stream",
     "text": [
      " 10%|█         | 408/4045 [00:10<01:37, 37.45it/s]"
     ]
    },
    {
     "name": "stdout",
     "output_type": "stream",
     "text": [
      "1\n"
     ]
    },
    {
     "name": "stderr",
     "output_type": "stream",
     "text": [
      " 10%|█         | 421/4045 [00:10<01:33, 38.60it/s]"
     ]
    },
    {
     "name": "stdout",
     "output_type": "stream",
     "text": [
      "1\n"
     ]
    },
    {
     "name": "stderr",
     "output_type": "stream",
     "text": [
      " 11%|█         | 446/4045 [00:11<01:27, 41.02it/s]"
     ]
    },
    {
     "name": "stdout",
     "output_type": "stream",
     "text": [
      "1\n",
      "1\n"
     ]
    },
    {
     "name": "stderr",
     "output_type": "stream",
     "text": [
      " 12%|█▏        | 481/4045 [00:12<01:30, 39.20it/s]"
     ]
    },
    {
     "name": "stdout",
     "output_type": "stream",
     "text": [
      "1\n"
     ]
    },
    {
     "name": "stderr",
     "output_type": "stream",
     "text": [
      " 12%|█▏        | 491/4045 [00:12<01:25, 41.41it/s]"
     ]
    },
    {
     "name": "stdout",
     "output_type": "stream",
     "text": [
      "1\n",
      "1\n"
     ]
    },
    {
     "name": "stderr",
     "output_type": "stream",
     "text": [
      " 12%|█▏        | 502/4045 [00:12<01:24, 42.11it/s]"
     ]
    },
    {
     "name": "stdout",
     "output_type": "stream",
     "text": [
      "1\n",
      "1\n",
      "1\n"
     ]
    },
    {
     "name": "stderr",
     "output_type": "stream",
     "text": [
      " 13%|█▎        | 519/4045 [00:13<01:36, 36.48it/s]"
     ]
    },
    {
     "name": "stdout",
     "output_type": "stream",
     "text": [
      "1\n"
     ]
    },
    {
     "name": "stderr",
     "output_type": "stream",
     "text": [
      " 13%|█▎        | 531/4045 [00:13<01:36, 36.44it/s]"
     ]
    },
    {
     "name": "stdout",
     "output_type": "stream",
     "text": [
      "1\n"
     ]
    },
    {
     "name": "stderr",
     "output_type": "stream",
     "text": [
      " 13%|█▎        | 544/4045 [00:13<01:32, 37.84it/s]"
     ]
    },
    {
     "name": "stdout",
     "output_type": "stream",
     "text": [
      "1\n"
     ]
    },
    {
     "name": "stderr",
     "output_type": "stream",
     "text": [
      " 14%|█▍        | 569/4045 [00:14<01:32, 37.47it/s]"
     ]
    },
    {
     "name": "stdout",
     "output_type": "stream",
     "text": [
      "1\n",
      "1\n"
     ]
    },
    {
     "name": "stderr",
     "output_type": "stream",
     "text": [
      " 14%|█▍        | 578/4045 [00:14<01:30, 38.19it/s]"
     ]
    },
    {
     "name": "stdout",
     "output_type": "stream",
     "text": [
      "1\n",
      "1\n"
     ]
    },
    {
     "name": "stderr",
     "output_type": "stream",
     "text": [
      " 15%|█▍        | 600/4045 [00:15<01:28, 39.01it/s]"
     ]
    },
    {
     "name": "stdout",
     "output_type": "stream",
     "text": [
      "1\n"
     ]
    },
    {
     "name": "stderr",
     "output_type": "stream",
     "text": [
      " 16%|█▌        | 634/4045 [00:16<01:22, 41.59it/s]"
     ]
    },
    {
     "name": "stdout",
     "output_type": "stream",
     "text": [
      "1\n",
      "1\n",
      "1\n"
     ]
    },
    {
     "name": "stderr",
     "output_type": "stream",
     "text": [
      " 16%|█▌        | 657/4045 [00:16<01:27, 38.78it/s]"
     ]
    },
    {
     "name": "stdout",
     "output_type": "stream",
     "text": [
      "1\n",
      "1\n"
     ]
    },
    {
     "name": "stderr",
     "output_type": "stream",
     "text": [
      " 17%|█▋        | 678/4045 [00:17<01:26, 39.03it/s]"
     ]
    },
    {
     "name": "stdout",
     "output_type": "stream",
     "text": [
      "1\n"
     ]
    },
    {
     "name": "stderr",
     "output_type": "stream",
     "text": [
      " 17%|█▋        | 695/4045 [00:17<01:27, 38.49it/s]"
     ]
    },
    {
     "name": "stdout",
     "output_type": "stream",
     "text": [
      "1\n"
     ]
    },
    {
     "name": "stderr",
     "output_type": "stream",
     "text": [
      " 17%|█▋        | 707/4045 [00:18<01:25, 38.83it/s]"
     ]
    },
    {
     "name": "stdout",
     "output_type": "stream",
     "text": [
      "1\n"
     ]
    },
    {
     "name": "stderr",
     "output_type": "stream",
     "text": [
      " 18%|█▊        | 743/4045 [00:19<01:31, 35.95it/s]"
     ]
    },
    {
     "name": "stdout",
     "output_type": "stream",
     "text": [
      "1\n",
      "1\n"
     ]
    },
    {
     "name": "stderr",
     "output_type": "stream",
     "text": [
      " 19%|█▉        | 768/4045 [00:19<01:25, 38.36it/s]"
     ]
    },
    {
     "name": "stdout",
     "output_type": "stream",
     "text": [
      "1\n"
     ]
    },
    {
     "name": "stderr",
     "output_type": "stream",
     "text": [
      " 20%|█▉        | 804/4045 [00:20<01:40, 32.25it/s]"
     ]
    },
    {
     "name": "stdout",
     "output_type": "stream",
     "text": [
      "1\n"
     ]
    },
    {
     "name": "stderr",
     "output_type": "stream",
     "text": [
      " 20%|██        | 813/4045 [00:21<01:32, 34.87it/s]"
     ]
    },
    {
     "name": "stdout",
     "output_type": "stream",
     "text": [
      "1\n",
      "1\n"
     ]
    },
    {
     "name": "stderr",
     "output_type": "stream",
     "text": [
      " 21%|██        | 834/4045 [00:21<01:33, 34.46it/s]"
     ]
    },
    {
     "name": "stdout",
     "output_type": "stream",
     "text": [
      "1\n"
     ]
    },
    {
     "name": "stderr",
     "output_type": "stream",
     "text": [
      " 21%|██        | 846/4045 [00:22<01:30, 35.22it/s]"
     ]
    },
    {
     "name": "stdout",
     "output_type": "stream",
     "text": [
      "1\n"
     ]
    },
    {
     "name": "stderr",
     "output_type": "stream",
     "text": [
      " 22%|██▏       | 878/4045 [00:22<01:29, 35.42it/s]"
     ]
    },
    {
     "name": "stdout",
     "output_type": "stream",
     "text": [
      "1\n",
      "1\n"
     ]
    },
    {
     "name": "stderr",
     "output_type": "stream",
     "text": [
      " 22%|██▏       | 896/4045 [00:23<01:20, 39.10it/s]"
     ]
    },
    {
     "name": "stdout",
     "output_type": "stream",
     "text": [
      "1\n",
      "1\n"
     ]
    },
    {
     "name": "stderr",
     "output_type": "stream",
     "text": [
      " 23%|██▎       | 934/4045 [00:24<01:19, 39.23it/s]"
     ]
    },
    {
     "name": "stdout",
     "output_type": "stream",
     "text": [
      "1\n"
     ]
    },
    {
     "name": "stderr",
     "output_type": "stream",
     "text": [
      " 24%|██▍       | 966/4045 [00:25<01:20, 38.33it/s]"
     ]
    },
    {
     "name": "stdout",
     "output_type": "stream",
     "text": [
      "1\n"
     ]
    },
    {
     "name": "stderr",
     "output_type": "stream",
     "text": [
      " 25%|██▍       | 1003/4045 [00:26<01:15, 40.29it/s]"
     ]
    },
    {
     "name": "stdout",
     "output_type": "stream",
     "text": [
      "1\n",
      "1\n"
     ]
    },
    {
     "name": "stderr",
     "output_type": "stream",
     "text": [
      " 25%|██▌       | 1013/4045 [00:26<01:15, 40.18it/s]"
     ]
    },
    {
     "name": "stdout",
     "output_type": "stream",
     "text": [
      "1\n",
      "1\n",
      "1\n"
     ]
    },
    {
     "name": "stderr",
     "output_type": "stream",
     "text": [
      " 27%|██▋       | 1076/4045 [00:28<01:14, 39.96it/s]"
     ]
    },
    {
     "name": "stdout",
     "output_type": "stream",
     "text": [
      "1\n",
      "1\n",
      "1\n"
     ]
    },
    {
     "name": "stderr",
     "output_type": "stream",
     "text": [
      " 27%|██▋       | 1089/4045 [00:28<01:15, 39.21it/s]"
     ]
    },
    {
     "name": "stdout",
     "output_type": "stream",
     "text": [
      "1\n"
     ]
    },
    {
     "name": "stderr",
     "output_type": "stream",
     "text": [
      " 27%|██▋       | 1106/4045 [00:28<01:10, 41.50it/s]"
     ]
    },
    {
     "name": "stdout",
     "output_type": "stream",
     "text": [
      "1\n",
      "1\n"
     ]
    },
    {
     "name": "stderr",
     "output_type": "stream",
     "text": [
      " 28%|██▊       | 1137/4045 [00:29<01:15, 38.63it/s]"
     ]
    },
    {
     "name": "stdout",
     "output_type": "stream",
     "text": [
      "1\n",
      "1\n"
     ]
    },
    {
     "name": "stderr",
     "output_type": "stream",
     "text": [
      " 28%|██▊       | 1150/4045 [00:30<01:12, 40.14it/s]"
     ]
    },
    {
     "name": "stdout",
     "output_type": "stream",
     "text": [
      "1\n"
     ]
    },
    {
     "name": "stderr",
     "output_type": "stream",
     "text": [
      " 30%|██▉       | 1201/4045 [00:31<01:11, 39.65it/s]"
     ]
    },
    {
     "name": "stdout",
     "output_type": "stream",
     "text": [
      "1\n",
      "1\n",
      "1\n"
     ]
    },
    {
     "name": "stderr",
     "output_type": "stream",
     "text": [
      " 30%|███       | 1214/4045 [00:31<01:08, 41.32it/s]"
     ]
    },
    {
     "name": "stdout",
     "output_type": "stream",
     "text": [
      "1\n"
     ]
    },
    {
     "name": "stderr",
     "output_type": "stream",
     "text": [
      " 30%|███       | 1229/4045 [00:32<01:09, 40.67it/s]"
     ]
    },
    {
     "name": "stdout",
     "output_type": "stream",
     "text": [
      "1\n"
     ]
    },
    {
     "name": "stderr",
     "output_type": "stream",
     "text": [
      " 31%|███       | 1239/4045 [00:32<01:10, 39.99it/s]"
     ]
    },
    {
     "name": "stdout",
     "output_type": "stream",
     "text": [
      "1\n"
     ]
    },
    {
     "name": "stderr",
     "output_type": "stream",
     "text": [
      " 31%|███       | 1262/4045 [00:32<01:07, 41.13it/s]"
     ]
    },
    {
     "name": "stdout",
     "output_type": "stream",
     "text": [
      "1\n",
      "1\n"
     ]
    },
    {
     "name": "stderr",
     "output_type": "stream",
     "text": [
      "\r",
      " 31%|███▏      | 1267/4045 [00:32<01:08, 40.61it/s]"
     ]
    },
    {
     "name": "stdout",
     "output_type": "stream",
     "text": [
      "1\n"
     ]
    },
    {
     "name": "stderr",
     "output_type": "stream",
     "text": [
      " 32%|███▏      | 1282/4045 [00:33<01:14, 37.26it/s]"
     ]
    },
    {
     "name": "stdout",
     "output_type": "stream",
     "text": [
      "1\n",
      "1\n"
     ]
    },
    {
     "name": "stderr",
     "output_type": "stream",
     "text": [
      " 32%|███▏      | 1295/4045 [00:33<01:10, 39.23it/s]"
     ]
    },
    {
     "name": "stdout",
     "output_type": "stream",
     "text": [
      "1\n",
      "1\n"
     ]
    },
    {
     "name": "stderr",
     "output_type": "stream",
     "text": [
      " 32%|███▏      | 1309/4045 [00:34<01:08, 39.81it/s]"
     ]
    },
    {
     "name": "stdout",
     "output_type": "stream",
     "text": [
      "1\n"
     ]
    },
    {
     "name": "stderr",
     "output_type": "stream",
     "text": [
      " 33%|███▎      | 1334/4045 [00:34<01:08, 39.76it/s]"
     ]
    },
    {
     "name": "stdout",
     "output_type": "stream",
     "text": [
      "1\n"
     ]
    },
    {
     "name": "stderr",
     "output_type": "stream",
     "text": [
      " 33%|███▎      | 1347/4045 [00:35<01:06, 40.58it/s]"
     ]
    },
    {
     "name": "stdout",
     "output_type": "stream",
     "text": [
      "1\n"
     ]
    },
    {
     "name": "stderr",
     "output_type": "stream",
     "text": [
      " 34%|███▎      | 1357/4045 [00:35<01:05, 40.74it/s]"
     ]
    },
    {
     "name": "stdout",
     "output_type": "stream",
     "text": [
      "1\n",
      "1\n"
     ]
    },
    {
     "name": "stderr",
     "output_type": "stream",
     "text": [
      " 34%|███▍      | 1367/4045 [00:35<01:07, 39.41it/s]"
     ]
    },
    {
     "name": "stdout",
     "output_type": "stream",
     "text": [
      "1\n"
     ]
    },
    {
     "name": "stderr",
     "output_type": "stream",
     "text": [
      " 34%|███▍      | 1376/4045 [00:35<01:08, 38.89it/s]"
     ]
    },
    {
     "name": "stdout",
     "output_type": "stream",
     "text": [
      "1\n",
      "1\n"
     ]
    },
    {
     "name": "stderr",
     "output_type": "stream",
     "text": [
      " 34%|███▍      | 1389/4045 [00:36<01:06, 39.75it/s]"
     ]
    },
    {
     "name": "stdout",
     "output_type": "stream",
     "text": [
      "1\n",
      "1\n",
      "1\n"
     ]
    },
    {
     "name": "stderr",
     "output_type": "stream",
     "text": [
      " 35%|███▍      | 1407/4045 [00:36<01:07, 39.33it/s]"
     ]
    },
    {
     "name": "stdout",
     "output_type": "stream",
     "text": [
      "1\n"
     ]
    },
    {
     "name": "stderr",
     "output_type": "stream",
     "text": [
      " 35%|███▌      | 1416/4045 [00:36<01:06, 39.73it/s]"
     ]
    },
    {
     "name": "stdout",
     "output_type": "stream",
     "text": [
      "1\n"
     ]
    },
    {
     "name": "stderr",
     "output_type": "stream",
     "text": [
      " 35%|███▌      | 1434/4045 [00:37<01:03, 41.22it/s]"
     ]
    },
    {
     "name": "stdout",
     "output_type": "stream",
     "text": [
      "1\n",
      "1\n",
      "1\n"
     ]
    },
    {
     "name": "stderr",
     "output_type": "stream",
     "text": [
      " 36%|███▌      | 1459/4045 [00:37<01:05, 39.66it/s]"
     ]
    },
    {
     "name": "stdout",
     "output_type": "stream",
     "text": [
      "1\n",
      "1\n"
     ]
    },
    {
     "name": "stderr",
     "output_type": "stream",
     "text": [
      " 37%|███▋      | 1486/4045 [00:38<01:07, 38.09it/s]"
     ]
    },
    {
     "name": "stdout",
     "output_type": "stream",
     "text": [
      "1\n"
     ]
    },
    {
     "name": "stderr",
     "output_type": "stream",
     "text": [
      " 37%|███▋      | 1498/4045 [00:38<01:07, 37.93it/s]"
     ]
    },
    {
     "name": "stdout",
     "output_type": "stream",
     "text": [
      "1\n"
     ]
    },
    {
     "name": "stderr",
     "output_type": "stream",
     "text": [
      " 38%|███▊      | 1518/4045 [00:39<01:14, 33.79it/s]"
     ]
    },
    {
     "name": "stdout",
     "output_type": "stream",
     "text": [
      "1\n"
     ]
    },
    {
     "name": "stderr",
     "output_type": "stream",
     "text": [
      " 38%|███▊      | 1542/4045 [00:40<01:06, 37.41it/s]"
     ]
    },
    {
     "name": "stdout",
     "output_type": "stream",
     "text": [
      "1\n"
     ]
    },
    {
     "name": "stderr",
     "output_type": "stream",
     "text": [
      " 38%|███▊      | 1555/4045 [00:40<01:03, 39.27it/s]"
     ]
    },
    {
     "name": "stdout",
     "output_type": "stream",
     "text": [
      "1\n",
      "1\n"
     ]
    },
    {
     "name": "stderr",
     "output_type": "stream",
     "text": [
      " 39%|███▉      | 1597/4045 [00:41<01:02, 39.14it/s]"
     ]
    },
    {
     "name": "stdout",
     "output_type": "stream",
     "text": [
      "1\n",
      "1\n",
      "1\n",
      "1\n"
     ]
    },
    {
     "name": "stderr",
     "output_type": "stream",
     "text": [
      " 40%|███▉      | 1616/4045 [00:42<01:01, 39.59it/s]"
     ]
    },
    {
     "name": "stdout",
     "output_type": "stream",
     "text": [
      "1\n"
     ]
    },
    {
     "name": "stderr",
     "output_type": "stream",
     "text": [
      " 40%|████      | 1632/4045 [00:42<01:04, 37.64it/s]"
     ]
    },
    {
     "name": "stdout",
     "output_type": "stream",
     "text": [
      "1\n"
     ]
    },
    {
     "name": "stderr",
     "output_type": "stream",
     "text": [
      " 41%|████      | 1648/4045 [00:42<01:07, 35.76it/s]"
     ]
    },
    {
     "name": "stdout",
     "output_type": "stream",
     "text": [
      "1\n"
     ]
    },
    {
     "name": "stderr",
     "output_type": "stream",
     "text": [
      " 41%|████      | 1660/4045 [00:43<01:06, 36.02it/s]"
     ]
    },
    {
     "name": "stdout",
     "output_type": "stream",
     "text": [
      "1\n"
     ]
    },
    {
     "name": "stderr",
     "output_type": "stream",
     "text": [
      " 41%|████      | 1668/4045 [00:43<01:04, 36.59it/s]"
     ]
    },
    {
     "name": "stdout",
     "output_type": "stream",
     "text": [
      "1\n"
     ]
    },
    {
     "name": "stderr",
     "output_type": "stream",
     "text": [
      " 41%|████▏     | 1677/4045 [00:43<01:01, 38.28it/s]"
     ]
    },
    {
     "name": "stdout",
     "output_type": "stream",
     "text": [
      "1\n",
      "1\n"
     ]
    },
    {
     "name": "stderr",
     "output_type": "stream",
     "text": [
      " 42%|████▏     | 1691/4045 [00:44<01:01, 38.02it/s]"
     ]
    },
    {
     "name": "stdout",
     "output_type": "stream",
     "text": [
      "1\n",
      "1\n"
     ]
    },
    {
     "name": "stderr",
     "output_type": "stream",
     "text": [
      " 42%|████▏     | 1699/4045 [00:44<01:03, 36.75it/s]"
     ]
    },
    {
     "name": "stdout",
     "output_type": "stream",
     "text": [
      "1\n"
     ]
    },
    {
     "name": "stderr",
     "output_type": "stream",
     "text": [
      " 42%|████▏     | 1709/4045 [00:44<01:01, 38.24it/s]"
     ]
    },
    {
     "name": "stdout",
     "output_type": "stream",
     "text": [
      "1\n"
     ]
    },
    {
     "name": "stderr",
     "output_type": "stream",
     "text": [
      " 43%|████▎     | 1721/4045 [00:44<01:00, 38.49it/s]"
     ]
    },
    {
     "name": "stdout",
     "output_type": "stream",
     "text": [
      "1\n"
     ]
    },
    {
     "name": "stderr",
     "output_type": "stream",
     "text": [
      " 43%|████▎     | 1730/4045 [00:45<00:58, 39.50it/s]"
     ]
    },
    {
     "name": "stdout",
     "output_type": "stream",
     "text": [
      "1\n"
     ]
    },
    {
     "name": "stderr",
     "output_type": "stream",
     "text": [
      " 43%|████▎     | 1751/4045 [00:45<01:02, 36.98it/s]"
     ]
    },
    {
     "name": "stdout",
     "output_type": "stream",
     "text": [
      "1\n"
     ]
    },
    {
     "name": "stderr",
     "output_type": "stream",
     "text": [
      " 44%|████▎     | 1760/4045 [00:45<00:59, 38.36it/s]"
     ]
    },
    {
     "name": "stdout",
     "output_type": "stream",
     "text": [
      "1\n"
     ]
    },
    {
     "name": "stderr",
     "output_type": "stream",
     "text": [
      " 44%|████▍     | 1774/4045 [00:46<00:55, 40.83it/s]"
     ]
    },
    {
     "name": "stdout",
     "output_type": "stream",
     "text": [
      "1\n",
      "1\n"
     ]
    },
    {
     "name": "stderr",
     "output_type": "stream",
     "text": [
      " 45%|████▍     | 1814/4045 [00:47<01:01, 36.25it/s]"
     ]
    },
    {
     "name": "stdout",
     "output_type": "stream",
     "text": [
      "1\n"
     ]
    },
    {
     "name": "stderr",
     "output_type": "stream",
     "text": [
      " 45%|████▌     | 1823/4045 [00:47<00:58, 38.12it/s]"
     ]
    },
    {
     "name": "stdout",
     "output_type": "stream",
     "text": [
      "1\n",
      "1\n"
     ]
    },
    {
     "name": "stderr",
     "output_type": "stream",
     "text": [
      " 45%|████▌     | 1832/4045 [00:47<00:56, 39.11it/s]"
     ]
    },
    {
     "name": "stdout",
     "output_type": "stream",
     "text": [
      "1\n"
     ]
    },
    {
     "name": "stderr",
     "output_type": "stream",
     "text": [
      " 46%|████▌     | 1849/4045 [00:48<00:58, 37.86it/s]"
     ]
    },
    {
     "name": "stdout",
     "output_type": "stream",
     "text": [
      "1\n",
      "1\n"
     ]
    },
    {
     "name": "stderr",
     "output_type": "stream",
     "text": [
      " 46%|████▌     | 1866/4045 [00:48<00:56, 38.46it/s]"
     ]
    },
    {
     "name": "stdout",
     "output_type": "stream",
     "text": [
      "1\n"
     ]
    },
    {
     "name": "stderr",
     "output_type": "stream",
     "text": [
      " 46%|████▋     | 1879/4045 [00:49<00:56, 38.06it/s]"
     ]
    },
    {
     "name": "stdout",
     "output_type": "stream",
     "text": [
      "1\n"
     ]
    },
    {
     "name": "stderr",
     "output_type": "stream",
     "text": [
      " 47%|████▋     | 1899/4045 [00:49<00:56, 37.99it/s]"
     ]
    },
    {
     "name": "stdout",
     "output_type": "stream",
     "text": [
      "1\n"
     ]
    },
    {
     "name": "stderr",
     "output_type": "stream",
     "text": [
      " 47%|████▋     | 1911/4045 [00:49<00:56, 37.82it/s]"
     ]
    },
    {
     "name": "stdout",
     "output_type": "stream",
     "text": [
      "1\n"
     ]
    },
    {
     "name": "stderr",
     "output_type": "stream",
     "text": [
      " 47%|████▋     | 1919/4045 [00:50<00:55, 38.54it/s]"
     ]
    },
    {
     "name": "stdout",
     "output_type": "stream",
     "text": [
      "1\n",
      "1\n",
      "1\n",
      "1\n",
      "1\n"
     ]
    },
    {
     "name": "stderr",
     "output_type": "stream",
     "text": [
      " 48%|████▊     | 1935/4045 [00:50<00:52, 39.88it/s]"
     ]
    },
    {
     "name": "stdout",
     "output_type": "stream",
     "text": [
      "1\n"
     ]
    },
    {
     "name": "stderr",
     "output_type": "stream",
     "text": [
      " 48%|████▊     | 1959/4045 [00:51<00:57, 36.23it/s]"
     ]
    },
    {
     "name": "stdout",
     "output_type": "stream",
     "text": [
      "1\n",
      "1\n"
     ]
    },
    {
     "name": "stderr",
     "output_type": "stream",
     "text": [
      " 49%|████▉     | 1984/4045 [00:51<00:53, 38.84it/s]"
     ]
    },
    {
     "name": "stdout",
     "output_type": "stream",
     "text": [
      "1\n",
      "1\n"
     ]
    },
    {
     "name": "stderr",
     "output_type": "stream",
     "text": [
      " 49%|████▉     | 2001/4045 [00:52<00:52, 38.74it/s]"
     ]
    },
    {
     "name": "stdout",
     "output_type": "stream",
     "text": [
      "1\n"
     ]
    },
    {
     "name": "stderr",
     "output_type": "stream",
     "text": [
      " 50%|████▉     | 2014/4045 [00:52<01:00, 33.79it/s]"
     ]
    },
    {
     "name": "stdout",
     "output_type": "stream",
     "text": [
      "1\n",
      "1\n"
     ]
    },
    {
     "name": "stderr",
     "output_type": "stream",
     "text": [
      " 50%|█████     | 2032/4045 [00:53<00:50, 40.01it/s]"
     ]
    },
    {
     "name": "stdout",
     "output_type": "stream",
     "text": [
      "1\n",
      "1\n"
     ]
    },
    {
     "name": "stderr",
     "output_type": "stream",
     "text": [
      " 51%|█████     | 2052/4045 [00:53<00:50, 39.47it/s]"
     ]
    },
    {
     "name": "stdout",
     "output_type": "stream",
     "text": [
      "1\n"
     ]
    },
    {
     "name": "stderr",
     "output_type": "stream",
     "text": [
      " 51%|█████     | 2065/4045 [00:54<00:50, 39.56it/s]"
     ]
    },
    {
     "name": "stdout",
     "output_type": "stream",
     "text": [
      "1\n"
     ]
    },
    {
     "name": "stderr",
     "output_type": "stream",
     "text": [
      " 52%|█████▏    | 2087/4045 [00:54<00:49, 39.35it/s]"
     ]
    },
    {
     "name": "stdout",
     "output_type": "stream",
     "text": [
      "1\n"
     ]
    },
    {
     "name": "stderr",
     "output_type": "stream",
     "text": [
      " 52%|█████▏    | 2097/4045 [00:54<00:48, 40.20it/s]"
     ]
    },
    {
     "name": "stdout",
     "output_type": "stream",
     "text": [
      "1\n"
     ]
    },
    {
     "name": "stderr",
     "output_type": "stream",
     "text": [
      " 52%|█████▏    | 2118/4045 [00:55<00:49, 38.79it/s]"
     ]
    },
    {
     "name": "stdout",
     "output_type": "stream",
     "text": [
      "1\n"
     ]
    },
    {
     "name": "stderr",
     "output_type": "stream",
     "text": [
      " 53%|█████▎    | 2126/4045 [00:55<00:50, 37.84it/s]"
     ]
    },
    {
     "name": "stdout",
     "output_type": "stream",
     "text": [
      "1\n"
     ]
    },
    {
     "name": "stderr",
     "output_type": "stream",
     "text": [
      " 53%|█████▎    | 2144/4045 [00:56<00:48, 39.24it/s]"
     ]
    },
    {
     "name": "stdout",
     "output_type": "stream",
     "text": [
      "1\n",
      "1\n"
     ]
    },
    {
     "name": "stderr",
     "output_type": "stream",
     "text": [
      " 53%|█████▎    | 2157/4045 [00:56<00:48, 38.88it/s]"
     ]
    },
    {
     "name": "stdout",
     "output_type": "stream",
     "text": [
      "1\n"
     ]
    },
    {
     "name": "stderr",
     "output_type": "stream",
     "text": [
      " 54%|█████▎    | 2170/4045 [00:56<00:48, 38.67it/s]"
     ]
    },
    {
     "name": "stdout",
     "output_type": "stream",
     "text": [
      "1\n"
     ]
    },
    {
     "name": "stderr",
     "output_type": "stream",
     "text": [
      " 54%|█████▍    | 2179/4045 [00:56<00:48, 38.59it/s]"
     ]
    },
    {
     "name": "stdout",
     "output_type": "stream",
     "text": [
      "1\n"
     ]
    },
    {
     "name": "stderr",
     "output_type": "stream",
     "text": [
      " 55%|█████▍    | 2208/4045 [00:57<00:48, 38.18it/s]"
     ]
    },
    {
     "name": "stdout",
     "output_type": "stream",
     "text": [
      "1\n"
     ]
    },
    {
     "name": "stderr",
     "output_type": "stream",
     "text": [
      " 55%|█████▌    | 2225/4045 [00:58<00:52, 34.86it/s]"
     ]
    },
    {
     "name": "stdout",
     "output_type": "stream",
     "text": [
      "1\n"
     ]
    },
    {
     "name": "stderr",
     "output_type": "stream",
     "text": [
      " 55%|█████▌    | 2239/4045 [00:58<00:46, 38.85it/s]"
     ]
    },
    {
     "name": "stdout",
     "output_type": "stream",
     "text": [
      "1\n",
      "1\n"
     ]
    },
    {
     "name": "stderr",
     "output_type": "stream",
     "text": [
      " 56%|█████▌    | 2249/4045 [00:58<00:42, 42.22it/s]"
     ]
    },
    {
     "name": "stdout",
     "output_type": "stream",
     "text": [
      "1\n",
      "1\n",
      "1\n",
      "1\n"
     ]
    },
    {
     "name": "stderr",
     "output_type": "stream",
     "text": [
      " 56%|█████▌    | 2274/4045 [00:59<00:42, 41.19it/s]"
     ]
    },
    {
     "name": "stdout",
     "output_type": "stream",
     "text": [
      "1\n",
      "1\n"
     ]
    },
    {
     "name": "stderr",
     "output_type": "stream",
     "text": [
      "\r",
      " 56%|█████▋    | 2279/4045 [00:59<00:43, 40.21it/s]"
     ]
    },
    {
     "name": "stdout",
     "output_type": "stream",
     "text": [
      "1\n"
     ]
    },
    {
     "name": "stderr",
     "output_type": "stream",
     "text": [
      " 58%|█████▊    | 2337/4045 [01:01<00:44, 38.65it/s]"
     ]
    },
    {
     "name": "stdout",
     "output_type": "stream",
     "text": [
      "1\n",
      "1\n"
     ]
    },
    {
     "name": "stderr",
     "output_type": "stream",
     "text": [
      "\r",
      " 58%|█████▊    | 2342/4045 [01:01<00:42, 40.10it/s]"
     ]
    },
    {
     "name": "stdout",
     "output_type": "stream",
     "text": [
      "1\n"
     ]
    },
    {
     "name": "stderr",
     "output_type": "stream",
     "text": [
      " 58%|█████▊    | 2356/4045 [01:01<00:43, 39.00it/s]"
     ]
    },
    {
     "name": "stdout",
     "output_type": "stream",
     "text": [
      "1\n"
     ]
    },
    {
     "name": "stderr",
     "output_type": "stream",
     "text": [
      " 59%|█████▊    | 2369/4045 [01:01<00:42, 39.65it/s]"
     ]
    },
    {
     "name": "stdout",
     "output_type": "stream",
     "text": [
      "1\n",
      "1\n"
     ]
    },
    {
     "name": "stderr",
     "output_type": "stream",
     "text": [
      " 59%|█████▉    | 2402/4045 [01:02<00:42, 38.24it/s]"
     ]
    },
    {
     "name": "stdout",
     "output_type": "stream",
     "text": [
      "1\n"
     ]
    },
    {
     "name": "stderr",
     "output_type": "stream",
     "text": [
      " 60%|█████▉    | 2422/4045 [01:03<00:42, 38.20it/s]"
     ]
    },
    {
     "name": "stdout",
     "output_type": "stream",
     "text": [
      "1\n"
     ]
    },
    {
     "name": "stderr",
     "output_type": "stream",
     "text": [
      " 60%|██████    | 2443/4045 [01:03<00:41, 38.47it/s]"
     ]
    },
    {
     "name": "stdout",
     "output_type": "stream",
     "text": [
      "1\n",
      "1\n"
     ]
    },
    {
     "name": "stderr",
     "output_type": "stream",
     "text": [
      " 62%|██████▏   | 2492/4045 [01:05<00:40, 38.20it/s]"
     ]
    },
    {
     "name": "stdout",
     "output_type": "stream",
     "text": [
      "1\n",
      "1\n",
      "1\n"
     ]
    },
    {
     "name": "stderr",
     "output_type": "stream",
     "text": [
      " 62%|██████▏   | 2505/4045 [01:05<00:38, 39.81it/s]"
     ]
    },
    {
     "name": "stdout",
     "output_type": "stream",
     "text": [
      "1\n"
     ]
    },
    {
     "name": "stderr",
     "output_type": "stream",
     "text": [
      " 62%|██████▏   | 2526/4045 [01:06<00:38, 39.12it/s]"
     ]
    },
    {
     "name": "stdout",
     "output_type": "stream",
     "text": [
      "1\n",
      "1\n",
      "1\n"
     ]
    },
    {
     "name": "stderr",
     "output_type": "stream",
     "text": [
      " 63%|██████▎   | 2540/4045 [01:06<00:37, 40.08it/s]"
     ]
    },
    {
     "name": "stdout",
     "output_type": "stream",
     "text": [
      "1\n",
      "1\n",
      "1\n"
     ]
    },
    {
     "name": "stderr",
     "output_type": "stream",
     "text": [
      " 63%|██████▎   | 2549/4045 [01:06<00:37, 39.57it/s]"
     ]
    },
    {
     "name": "stdout",
     "output_type": "stream",
     "text": [
      "1\n"
     ]
    },
    {
     "name": "stderr",
     "output_type": "stream",
     "text": [
      " 64%|██████▎   | 2578/4045 [01:07<00:39, 37.50it/s]"
     ]
    },
    {
     "name": "stdout",
     "output_type": "stream",
     "text": [
      "1\n"
     ]
    },
    {
     "name": "stderr",
     "output_type": "stream",
     "text": [
      " 64%|██████▍   | 2608/4045 [01:08<00:36, 39.79it/s]"
     ]
    },
    {
     "name": "stdout",
     "output_type": "stream",
     "text": [
      "1\n",
      "1\n",
      "1\n"
     ]
    },
    {
     "name": "stderr",
     "output_type": "stream",
     "text": [
      " 65%|██████▌   | 2633/4045 [01:09<00:36, 38.29it/s]"
     ]
    },
    {
     "name": "stdout",
     "output_type": "stream",
     "text": [
      "1\n",
      "1\n"
     ]
    },
    {
     "name": "stderr",
     "output_type": "stream",
     "text": [
      " 65%|██████▌   | 2648/4045 [01:09<00:33, 41.19it/s]"
     ]
    },
    {
     "name": "stdout",
     "output_type": "stream",
     "text": [
      "1\n",
      "1\n"
     ]
    },
    {
     "name": "stderr",
     "output_type": "stream",
     "text": [
      " 66%|██████▌   | 2663/4045 [01:09<00:35, 38.85it/s]"
     ]
    },
    {
     "name": "stdout",
     "output_type": "stream",
     "text": [
      "1\n"
     ]
    },
    {
     "name": "stderr",
     "output_type": "stream",
     "text": [
      " 66%|██████▌   | 2672/4045 [01:09<00:34, 39.29it/s]"
     ]
    },
    {
     "name": "stdout",
     "output_type": "stream",
     "text": [
      "1\n"
     ]
    },
    {
     "name": "stderr",
     "output_type": "stream",
     "text": [
      " 66%|██████▋   | 2683/4045 [01:10<00:31, 42.60it/s]"
     ]
    },
    {
     "name": "stdout",
     "output_type": "stream",
     "text": [
      "1\n",
      "1\n",
      "1\n",
      "1\n"
     ]
    },
    {
     "name": "stderr",
     "output_type": "stream",
     "text": [
      " 67%|██████▋   | 2697/4045 [01:10<00:37, 35.96it/s]"
     ]
    },
    {
     "name": "stdout",
     "output_type": "stream",
     "text": [
      "1\n"
     ]
    },
    {
     "name": "stderr",
     "output_type": "stream",
     "text": [
      " 67%|██████▋   | 2730/4045 [01:11<00:33, 39.15it/s]"
     ]
    },
    {
     "name": "stdout",
     "output_type": "stream",
     "text": [
      "1\n"
     ]
    },
    {
     "name": "stderr",
     "output_type": "stream",
     "text": [
      " 68%|██████▊   | 2747/4045 [01:11<00:33, 38.41it/s]"
     ]
    },
    {
     "name": "stdout",
     "output_type": "stream",
     "text": [
      "1\n"
     ]
    },
    {
     "name": "stderr",
     "output_type": "stream",
     "text": [
      " 69%|██████▊   | 2777/4045 [01:12<00:31, 39.68it/s]"
     ]
    },
    {
     "name": "stdout",
     "output_type": "stream",
     "text": [
      "1\n",
      "1\n",
      "1\n"
     ]
    },
    {
     "name": "stderr",
     "output_type": "stream",
     "text": [
      " 69%|██████▉   | 2786/4045 [01:12<00:31, 39.63it/s]"
     ]
    },
    {
     "name": "stdout",
     "output_type": "stream",
     "text": [
      "1\n",
      "1\n",
      "1\n"
     ]
    },
    {
     "name": "stderr",
     "output_type": "stream",
     "text": [
      " 69%|██████▉   | 2801/4045 [01:13<00:29, 42.66it/s]"
     ]
    },
    {
     "name": "stdout",
     "output_type": "stream",
     "text": [
      "1\n",
      "1\n",
      "1\n"
     ]
    },
    {
     "name": "stderr",
     "output_type": "stream",
     "text": [
      " 69%|██████▉   | 2811/4045 [01:13<00:31, 39.62it/s]"
     ]
    },
    {
     "name": "stdout",
     "output_type": "stream",
     "text": [
      "1\n"
     ]
    },
    {
     "name": "stderr",
     "output_type": "stream",
     "text": [
      " 70%|███████   | 2839/4045 [01:14<00:31, 38.01it/s]"
     ]
    },
    {
     "name": "stdout",
     "output_type": "stream",
     "text": [
      "1\n",
      "1\n",
      "1\n"
     ]
    },
    {
     "name": "stderr",
     "output_type": "stream",
     "text": [
      " 71%|███████   | 2866/4045 [01:14<00:30, 39.17it/s]"
     ]
    },
    {
     "name": "stdout",
     "output_type": "stream",
     "text": [
      "1\n"
     ]
    },
    {
     "name": "stderr",
     "output_type": "stream",
     "text": [
      " 71%|███████▏  | 2887/4045 [01:15<00:29, 39.54it/s]"
     ]
    },
    {
     "name": "stdout",
     "output_type": "stream",
     "text": [
      "1\n"
     ]
    },
    {
     "name": "stderr",
     "output_type": "stream",
     "text": [
      " 72%|███████▏  | 2905/4045 [01:15<00:28, 40.12it/s]"
     ]
    },
    {
     "name": "stdout",
     "output_type": "stream",
     "text": [
      "1\n",
      "1\n"
     ]
    },
    {
     "name": "stderr",
     "output_type": "stream",
     "text": [
      " 72%|███████▏  | 2920/4045 [01:16<00:28, 39.99it/s]"
     ]
    },
    {
     "name": "stdout",
     "output_type": "stream",
     "text": [
      "1\n"
     ]
    },
    {
     "name": "stderr",
     "output_type": "stream",
     "text": [
      " 72%|███████▏  | 2930/4045 [01:16<00:27, 40.12it/s]"
     ]
    },
    {
     "name": "stdout",
     "output_type": "stream",
     "text": [
      "1\n"
     ]
    },
    {
     "name": "stderr",
     "output_type": "stream",
     "text": [
      " 73%|███████▎  | 2944/4045 [01:17<00:31, 35.26it/s]"
     ]
    },
    {
     "name": "stdout",
     "output_type": "stream",
     "text": [
      "1\n",
      "1\n"
     ]
    },
    {
     "name": "stderr",
     "output_type": "stream",
     "text": [
      " 74%|███████▎  | 2974/4045 [01:17<00:27, 38.85it/s]"
     ]
    },
    {
     "name": "stdout",
     "output_type": "stream",
     "text": [
      "1\n"
     ]
    },
    {
     "name": "stderr",
     "output_type": "stream",
     "text": [
      " 74%|███████▍  | 2995/4045 [01:18<00:27, 37.93it/s]"
     ]
    },
    {
     "name": "stdout",
     "output_type": "stream",
     "text": [
      "1\n"
     ]
    },
    {
     "name": "stderr",
     "output_type": "stream",
     "text": [
      " 74%|███████▍  | 3011/4045 [01:18<00:27, 37.90it/s]"
     ]
    },
    {
     "name": "stdout",
     "output_type": "stream",
     "text": [
      "1\n"
     ]
    },
    {
     "name": "stderr",
     "output_type": "stream",
     "text": [
      " 75%|███████▍  | 3024/4045 [01:19<00:25, 39.69it/s]"
     ]
    },
    {
     "name": "stdout",
     "output_type": "stream",
     "text": [
      "1\n",
      "1\n"
     ]
    },
    {
     "name": "stderr",
     "output_type": "stream",
     "text": [
      " 75%|███████▌  | 3034/4045 [01:19<00:25, 40.37it/s]"
     ]
    },
    {
     "name": "stdout",
     "output_type": "stream",
     "text": [
      "1\n",
      "1\n"
     ]
    },
    {
     "name": "stderr",
     "output_type": "stream",
     "text": [
      " 75%|███████▌  | 3049/4045 [01:19<00:24, 40.36it/s]"
     ]
    },
    {
     "name": "stdout",
     "output_type": "stream",
     "text": [
      "1\n",
      "1\n",
      "1\n",
      "1\n"
     ]
    },
    {
     "name": "stderr",
     "output_type": "stream",
     "text": [
      " 76%|███████▋  | 3086/4045 [01:20<00:24, 39.87it/s]"
     ]
    },
    {
     "name": "stdout",
     "output_type": "stream",
     "text": [
      "1\n",
      "1\n"
     ]
    },
    {
     "name": "stderr",
     "output_type": "stream",
     "text": [
      " 77%|███████▋  | 3114/4045 [01:21<00:24, 37.34it/s]"
     ]
    },
    {
     "name": "stdout",
     "output_type": "stream",
     "text": [
      "1\n"
     ]
    },
    {
     "name": "stderr",
     "output_type": "stream",
     "text": [
      " 77%|███████▋  | 3127/4045 [01:21<00:24, 37.49it/s]"
     ]
    },
    {
     "name": "stdout",
     "output_type": "stream",
     "text": [
      "1\n",
      "1\n"
     ]
    },
    {
     "name": "stderr",
     "output_type": "stream",
     "text": [
      " 78%|███████▊  | 3139/4045 [01:22<00:24, 37.11it/s]"
     ]
    },
    {
     "name": "stdout",
     "output_type": "stream",
     "text": [
      "1\n",
      "1\n"
     ]
    },
    {
     "name": "stderr",
     "output_type": "stream",
     "text": [
      " 78%|███████▊  | 3152/4045 [01:22<00:23, 38.40it/s]"
     ]
    },
    {
     "name": "stdout",
     "output_type": "stream",
     "text": [
      "1\n"
     ]
    },
    {
     "name": "stderr",
     "output_type": "stream",
     "text": [
      " 78%|███████▊  | 3164/4045 [01:22<00:24, 36.40it/s]"
     ]
    },
    {
     "name": "stdout",
     "output_type": "stream",
     "text": [
      "1\n",
      "1\n"
     ]
    },
    {
     "name": "stderr",
     "output_type": "stream",
     "text": [
      " 79%|███████▉  | 3196/4045 [01:23<00:25, 33.92it/s]"
     ]
    },
    {
     "name": "stdout",
     "output_type": "stream",
     "text": [
      "1\n"
     ]
    },
    {
     "name": "stderr",
     "output_type": "stream",
     "text": [
      " 79%|███████▉  | 3208/4045 [01:24<00:23, 35.96it/s]"
     ]
    },
    {
     "name": "stdout",
     "output_type": "stream",
     "text": [
      "1\n"
     ]
    },
    {
     "name": "stderr",
     "output_type": "stream",
     "text": [
      " 80%|███████▉  | 3217/4045 [01:24<00:27, 30.40it/s]"
     ]
    },
    {
     "name": "stdout",
     "output_type": "stream",
     "text": [
      "1\n"
     ]
    },
    {
     "name": "stderr",
     "output_type": "stream",
     "text": [
      " 81%|████████  | 3274/4045 [01:25<00:20, 38.32it/s]"
     ]
    },
    {
     "name": "stdout",
     "output_type": "stream",
     "text": [
      "1\n",
      "1\n"
     ]
    },
    {
     "name": "stderr",
     "output_type": "stream",
     "text": [
      " 81%|████████  | 3284/4045 [01:26<00:18, 40.16it/s]"
     ]
    },
    {
     "name": "stdout",
     "output_type": "stream",
     "text": [
      "1\n",
      "1\n",
      "1\n"
     ]
    },
    {
     "name": "stderr",
     "output_type": "stream",
     "text": [
      " 82%|████████▏ | 3313/4045 [01:26<00:18, 40.06it/s]"
     ]
    },
    {
     "name": "stdout",
     "output_type": "stream",
     "text": [
      "1\n"
     ]
    },
    {
     "name": "stderr",
     "output_type": "stream",
     "text": [
      " 83%|████████▎ | 3348/4045 [01:27<00:17, 39.53it/s]"
     ]
    },
    {
     "name": "stdout",
     "output_type": "stream",
     "text": [
      "1\n"
     ]
    },
    {
     "name": "stderr",
     "output_type": "stream",
     "text": [
      " 83%|████████▎ | 3369/4045 [01:28<00:17, 39.09it/s]"
     ]
    },
    {
     "name": "stdout",
     "output_type": "stream",
     "text": [
      "1\n"
     ]
    },
    {
     "name": "stderr",
     "output_type": "stream",
     "text": [
      " 84%|████████▎ | 3386/4045 [01:28<00:16, 40.81it/s]"
     ]
    },
    {
     "name": "stdout",
     "output_type": "stream",
     "text": [
      "1\n",
      "1\n"
     ]
    },
    {
     "name": "stderr",
     "output_type": "stream",
     "text": [
      " 84%|████████▍ | 3404/4045 [01:29<00:16, 39.81it/s]"
     ]
    },
    {
     "name": "stdout",
     "output_type": "stream",
     "text": [
      "1\n"
     ]
    },
    {
     "name": "stderr",
     "output_type": "stream",
     "text": [
      " 84%|████████▍ | 3418/4045 [01:29<00:15, 40.36it/s]"
     ]
    },
    {
     "name": "stdout",
     "output_type": "stream",
     "text": [
      "1\n",
      "1\n"
     ]
    },
    {
     "name": "stderr",
     "output_type": "stream",
     "text": [
      " 85%|████████▍ | 3436/4045 [01:30<00:15, 39.34it/s]"
     ]
    },
    {
     "name": "stdout",
     "output_type": "stream",
     "text": [
      "1\n",
      "1\n"
     ]
    },
    {
     "name": "stderr",
     "output_type": "stream",
     "text": [
      " 85%|████████▌ | 3455/4045 [01:30<00:13, 42.16it/s]"
     ]
    },
    {
     "name": "stdout",
     "output_type": "stream",
     "text": [
      "1\n",
      "1\n",
      "1\n",
      "1\n"
     ]
    },
    {
     "name": "stderr",
     "output_type": "stream",
     "text": [
      " 86%|████████▌ | 3465/4045 [01:30<00:16, 34.61it/s]"
     ]
    },
    {
     "name": "stdout",
     "output_type": "stream",
     "text": [
      "1\n",
      "1\n"
     ]
    },
    {
     "name": "stderr",
     "output_type": "stream",
     "text": [
      " 86%|████████▌ | 3475/4045 [01:31<00:14, 38.35it/s]"
     ]
    },
    {
     "name": "stdout",
     "output_type": "stream",
     "text": [
      "1\n",
      "1\n"
     ]
    },
    {
     "name": "stderr",
     "output_type": "stream",
     "text": [
      " 86%|████████▌ | 3483/4045 [01:31<00:14, 38.37it/s]"
     ]
    },
    {
     "name": "stdout",
     "output_type": "stream",
     "text": [
      "1\n"
     ]
    },
    {
     "name": "stderr",
     "output_type": "stream",
     "text": [
      " 86%|████████▋ | 3495/4045 [01:31<00:14, 37.69it/s]"
     ]
    },
    {
     "name": "stdout",
     "output_type": "stream",
     "text": [
      "1\n"
     ]
    },
    {
     "name": "stderr",
     "output_type": "stream",
     "text": [
      " 87%|████████▋ | 3504/4045 [01:31<00:14, 38.01it/s]"
     ]
    },
    {
     "name": "stdout",
     "output_type": "stream",
     "text": [
      "1\n"
     ]
    },
    {
     "name": "stderr",
     "output_type": "stream",
     "text": [
      " 87%|████████▋ | 3527/4045 [01:32<00:12, 39.97it/s]"
     ]
    },
    {
     "name": "stdout",
     "output_type": "stream",
     "text": [
      "1\n",
      "1\n"
     ]
    },
    {
     "name": "stderr",
     "output_type": "stream",
     "text": [
      " 87%|████████▋ | 3537/4045 [01:32<00:12, 39.97it/s]"
     ]
    },
    {
     "name": "stdout",
     "output_type": "stream",
     "text": [
      "1\n",
      "1\n"
     ]
    },
    {
     "name": "stderr",
     "output_type": "stream",
     "text": [
      " 89%|████████▊ | 3582/4045 [01:33<00:11, 39.49it/s]"
     ]
    },
    {
     "name": "stdout",
     "output_type": "stream",
     "text": [
      "1\n"
     ]
    },
    {
     "name": "stderr",
     "output_type": "stream",
     "text": [
      " 89%|████████▉ | 3596/4045 [01:34<00:11, 40.27it/s]"
     ]
    },
    {
     "name": "stdout",
     "output_type": "stream",
     "text": [
      "1\n",
      "1\n"
     ]
    },
    {
     "name": "stderr",
     "output_type": "stream",
     "text": [
      " 89%|████████▉ | 3615/4045 [01:34<00:10, 41.48it/s]"
     ]
    },
    {
     "name": "stdout",
     "output_type": "stream",
     "text": [
      "1\n",
      "1\n",
      "1\n",
      "1\n"
     ]
    },
    {
     "name": "stderr",
     "output_type": "stream",
     "text": [
      " 90%|████████▉ | 3630/4045 [01:34<00:09, 42.27it/s]"
     ]
    },
    {
     "name": "stdout",
     "output_type": "stream",
     "text": [
      "1\n",
      "1\n",
      "1\n"
     ]
    },
    {
     "name": "stderr",
     "output_type": "stream",
     "text": [
      " 90%|█████████ | 3657/4045 [01:35<00:09, 39.59it/s]"
     ]
    },
    {
     "name": "stdout",
     "output_type": "stream",
     "text": [
      "1\n",
      "1\n"
     ]
    },
    {
     "name": "stderr",
     "output_type": "stream",
     "text": [
      " 91%|█████████ | 3671/4045 [01:36<00:09, 40.27it/s]"
     ]
    },
    {
     "name": "stdout",
     "output_type": "stream",
     "text": [
      "1\n"
     ]
    },
    {
     "name": "stderr",
     "output_type": "stream",
     "text": [
      " 91%|█████████ | 3690/4045 [01:36<00:09, 36.60it/s]"
     ]
    },
    {
     "name": "stdout",
     "output_type": "stream",
     "text": [
      "1\n",
      "1\n"
     ]
    },
    {
     "name": "stderr",
     "output_type": "stream",
     "text": [
      " 91%|█████████▏| 3700/4045 [01:36<00:08, 40.18it/s]"
     ]
    },
    {
     "name": "stdout",
     "output_type": "stream",
     "text": [
      "1\n",
      "1\n",
      "1\n"
     ]
    },
    {
     "name": "stderr",
     "output_type": "stream",
     "text": [
      " 92%|█████████▏| 3740/4045 [01:37<00:07, 39.01it/s]"
     ]
    },
    {
     "name": "stdout",
     "output_type": "stream",
     "text": [
      "1\n"
     ]
    },
    {
     "name": "stderr",
     "output_type": "stream",
     "text": [
      " 93%|█████████▎| 3769/4045 [01:38<00:06, 40.05it/s]"
     ]
    },
    {
     "name": "stdout",
     "output_type": "stream",
     "text": [
      "1\n",
      "1\n"
     ]
    },
    {
     "name": "stderr",
     "output_type": "stream",
     "text": [
      " 94%|█████████▎| 3786/4045 [01:39<00:06, 37.53it/s]"
     ]
    },
    {
     "name": "stdout",
     "output_type": "stream",
     "text": [
      "1\n"
     ]
    },
    {
     "name": "stderr",
     "output_type": "stream",
     "text": [
      " 94%|█████████▍| 3799/4045 [01:39<00:06, 38.17it/s]"
     ]
    },
    {
     "name": "stdout",
     "output_type": "stream",
     "text": [
      "1\n",
      "1\n"
     ]
    },
    {
     "name": "stderr",
     "output_type": "stream",
     "text": [
      " 95%|█████████▌| 3845/4045 [01:40<00:05, 37.84it/s]"
     ]
    },
    {
     "name": "stdout",
     "output_type": "stream",
     "text": [
      "1\n"
     ]
    },
    {
     "name": "stderr",
     "output_type": "stream",
     "text": [
      " 95%|█████████▌| 3854/4045 [01:40<00:04, 39.22it/s]"
     ]
    },
    {
     "name": "stdout",
     "output_type": "stream",
     "text": [
      "1\n",
      "1\n"
     ]
    },
    {
     "name": "stderr",
     "output_type": "stream",
     "text": [
      " 96%|█████████▌| 3868/4045 [01:41<00:04, 41.63it/s]"
     ]
    },
    {
     "name": "stdout",
     "output_type": "stream",
     "text": [
      "1\n",
      "1\n",
      "1\n",
      "1\n",
      "1\n"
     ]
    },
    {
     "name": "stderr",
     "output_type": "stream",
     "text": [
      " 96%|█████████▌| 3887/4045 [01:41<00:03, 41.63it/s]"
     ]
    },
    {
     "name": "stdout",
     "output_type": "stream",
     "text": [
      "1\n",
      "1\n",
      "1\n"
     ]
    },
    {
     "name": "stderr",
     "output_type": "stream",
     "text": [
      " 96%|█████████▋| 3897/4045 [01:41<00:03, 42.23it/s]"
     ]
    },
    {
     "name": "stdout",
     "output_type": "stream",
     "text": [
      "1\n",
      "1\n"
     ]
    },
    {
     "name": "stderr",
     "output_type": "stream",
     "text": [
      " 97%|█████████▋| 3933/4045 [01:42<00:02, 40.66it/s]"
     ]
    },
    {
     "name": "stdout",
     "output_type": "stream",
     "text": [
      "1\n",
      "1\n"
     ]
    },
    {
     "name": "stderr",
     "output_type": "stream",
     "text": [
      " 98%|█████████▊| 3947/4045 [01:43<00:02, 39.61it/s]"
     ]
    },
    {
     "name": "stdout",
     "output_type": "stream",
     "text": [
      "1\n",
      "1\n"
     ]
    },
    {
     "name": "stderr",
     "output_type": "stream",
     "text": [
      " 98%|█████████▊| 3955/4045 [01:43<00:02, 38.71it/s]"
     ]
    },
    {
     "name": "stdout",
     "output_type": "stream",
     "text": [
      "1\n",
      "1\n"
     ]
    },
    {
     "name": "stderr",
     "output_type": "stream",
     "text": [
      " 98%|█████████▊| 3975/4045 [01:43<00:02, 34.69it/s]"
     ]
    },
    {
     "name": "stdout",
     "output_type": "stream",
     "text": [
      "1\n",
      "1\n"
     ]
    },
    {
     "name": "stderr",
     "output_type": "stream",
     "text": [
      " 99%|█████████▊| 3987/4045 [01:44<00:01, 30.28it/s]"
     ]
    },
    {
     "name": "stdout",
     "output_type": "stream",
     "text": [
      "1\n"
     ]
    },
    {
     "name": "stderr",
     "output_type": "stream",
     "text": [
      " 99%|█████████▉| 3999/4045 [01:44<00:01, 33.63it/s]"
     ]
    },
    {
     "name": "stdout",
     "output_type": "stream",
     "text": [
      "1\n"
     ]
    },
    {
     "name": "stderr",
     "output_type": "stream",
     "text": [
      " 99%|█████████▉| 4008/4045 [01:44<00:01, 36.13it/s]"
     ]
    },
    {
     "name": "stdout",
     "output_type": "stream",
     "text": [
      "1\n",
      "1\n",
      "1\n",
      "1\n"
     ]
    },
    {
     "name": "stderr",
     "output_type": "stream",
     "text": [
      "100%|█████████▉| 4025/4045 [01:45<00:00, 36.57it/s]"
     ]
    },
    {
     "name": "stdout",
     "output_type": "stream",
     "text": [
      "1\n"
     ]
    },
    {
     "name": "stderr",
     "output_type": "stream",
     "text": [
      "100%|█████████▉| 4041/4045 [01:45<00:00, 36.85it/s]"
     ]
    },
    {
     "name": "stdout",
     "output_type": "stream",
     "text": [
      "1\n"
     ]
    },
    {
     "name": "stderr",
     "output_type": "stream",
     "text": [
      "100%|██████████| 4045/4045 [01:45<00:00, 38.17it/s]\n"
     ]
    }
   ],
   "source": [
    "point_clouds, test_point_clouds = [], []\n",
    "point_cloud_labels, all_labels = [], []\n",
    "\n",
    "points_files = glob(os.path.join(points_dir, \"*.pts\"))\n",
    "for point_file in tqdm(points_files):\n",
    "    point_cloud = np.loadtxt(point_file)\n",
    "    if point_cloud.shape[0] < NUM_SAMPLE_POINTS:\n",
    "        continue\n",
    "\n",
    "    # Get the file-id of the current point cloud for parsing its\n",
    "    # labels.\n",
    "    file_id = point_file.split(\"/\")[-1].split(\".\")[0]\n",
    "    label_data, num_labels = {}, 0\n",
    "    for label in LABELS:\n",
    "        label_file = os.path.join(labels_dir, label, file_id + \".seg\")\n",
    "        if os.path.exists(label_file):\n",
    "            label_data[label] = np.loadtxt(label_file).astype(\"float32\")\n",
    "            num_labels = len(label_data[label])\n",
    "\n",
    "    # Point clouds having labels will be our training samples.\n",
    "    try:\n",
    "        label_map = [\"none\"] * num_labels\n",
    "        for label in LABELS:\n",
    "            for i, data in enumerate(label_data[label]):\n",
    "                label_map[i] = label if data == 1 else label_map[i]\n",
    "        label_data = [\n",
    "            LABELS.index(label) if label != \"none\" else len(LABELS)\n",
    "            for label in label_map\n",
    "        ]\n",
    "        # Apply one-hot encoding to the dense label representation.\n",
    "        label_data = keras.utils.to_categorical(label_data, num_classes=len(LABELS) + 1)\n",
    "\n",
    "        point_clouds.append(point_cloud)\n",
    "        point_cloud_labels.append(label_data)\n",
    "        all_labels.append(label_map)\n",
    "    except KeyError:\n",
    "        print(1)\n",
    "        test_point_clouds.append(point_cloud)"
   ]
  },
  {
   "cell_type": "markdown",
   "id": "122c0250",
   "metadata": {
    "colab_type": "text"
   },
   "source": [
    "Next, we take a look at some samples from the in-memory arrays we just generated:"
   ]
  },
  {
   "cell_type": "code",
   "execution_count": 17,
   "id": "9fb32cc6",
   "metadata": {
    "colab_type": "code"
   },
   "outputs": [
    {
     "name": "stdout",
     "output_type": "stream",
     "text": [
      "point_clouds[3014].shape: (2702, 3)\n",
      "point_cloud_labels[3014].shape: (2702, 5)\n",
      "all_labels[3014][0]: body \tpoint_cloud_labels[3014][0]: [0. 1. 0. 0. 0.] \n",
      "\n",
      "all_labels[3014][1]: wing \tpoint_cloud_labels[3014][1]: [1. 0. 0. 0. 0.] \n",
      "\n",
      "all_labels[3014][2]: wing \tpoint_cloud_labels[3014][2]: [1. 0. 0. 0. 0.] \n",
      "\n",
      "all_labels[3014][3]: tail \tpoint_cloud_labels[3014][3]: [0. 0. 1. 0. 0.] \n",
      "\n",
      "all_labels[3014][4]: body \tpoint_cloud_labels[3014][4]: [0. 1. 0. 0. 0.] \n",
      "\n",
      "point_clouds[2774].shape: (2702, 3)\n",
      "point_cloud_labels[2774].shape: (2702, 5)\n",
      "all_labels[2774][0]: body \tpoint_cloud_labels[2774][0]: [0. 1. 0. 0. 0.] \n",
      "\n",
      "all_labels[2774][1]: wing \tpoint_cloud_labels[2774][1]: [1. 0. 0. 0. 0.] \n",
      "\n",
      "all_labels[2774][2]: body \tpoint_cloud_labels[2774][2]: [0. 1. 0. 0. 0.] \n",
      "\n",
      "all_labels[2774][3]: body \tpoint_cloud_labels[2774][3]: [0. 1. 0. 0. 0.] \n",
      "\n",
      "all_labels[2774][4]: body \tpoint_cloud_labels[2774][4]: [0. 1. 0. 0. 0.] \n",
      "\n",
      "point_clouds[2905].shape: (2702, 3)\n",
      "point_cloud_labels[2905].shape: (2702, 5)\n",
      "all_labels[2905][0]: none \tpoint_cloud_labels[2905][0]: [0. 0. 0. 0. 1.] \n",
      "\n",
      "all_labels[2905][1]: body \tpoint_cloud_labels[2905][1]: [0. 1. 0. 0. 0.] \n",
      "\n",
      "all_labels[2905][2]: wing \tpoint_cloud_labels[2905][2]: [1. 0. 0. 0. 0.] \n",
      "\n",
      "all_labels[2905][3]: wing \tpoint_cloud_labels[2905][3]: [1. 0. 0. 0. 0.] \n",
      "\n",
      "all_labels[2905][4]: wing \tpoint_cloud_labels[2905][4]: [1. 0. 0. 0. 0.] \n",
      "\n",
      "point_clouds[3541].shape: (2702, 3)\n",
      "point_cloud_labels[3541].shape: (2702, 5)\n",
      "all_labels[3541][0]: body \tpoint_cloud_labels[3541][0]: [0. 1. 0. 0. 0.] \n",
      "\n",
      "all_labels[3541][1]: body \tpoint_cloud_labels[3541][1]: [0. 1. 0. 0. 0.] \n",
      "\n",
      "all_labels[3541][2]: body \tpoint_cloud_labels[3541][2]: [0. 1. 0. 0. 0.] \n",
      "\n",
      "all_labels[3541][3]: body \tpoint_cloud_labels[3541][3]: [0. 1. 0. 0. 0.] \n",
      "\n",
      "all_labels[3541][4]: body \tpoint_cloud_labels[3541][4]: [0. 1. 0. 0. 0.] \n",
      "\n",
      "point_clouds[1573].shape: (2702, 3)\n",
      "point_cloud_labels[1573].shape: (2702, 5)\n",
      "all_labels[1573][0]: none \tpoint_cloud_labels[1573][0]: [0. 0. 0. 0. 1.] \n",
      "\n",
      "all_labels[1573][1]: none \tpoint_cloud_labels[1573][1]: [0. 0. 0. 0. 1.] \n",
      "\n",
      "all_labels[1573][2]: body \tpoint_cloud_labels[1573][2]: [0. 1. 0. 0. 0.] \n",
      "\n",
      "all_labels[1573][3]: none \tpoint_cloud_labels[1573][3]: [0. 0. 0. 0. 1.] \n",
      "\n",
      "all_labels[1573][4]: wing \tpoint_cloud_labels[1573][4]: [1. 0. 0. 0. 0.] \n",
      "\n"
     ]
    }
   ],
   "source": [
    "for _ in range(5):\n",
    "    i = random.randint(0, len(point_clouds) - 1)\n",
    "    print(f\"point_clouds[{i}].shape:\", point_clouds[0].shape)\n",
    "    print(f\"point_cloud_labels[{i}].shape:\", point_cloud_labels[0].shape)\n",
    "    for j in range(5):\n",
    "        print(\n",
    "            f\"all_labels[{i}][{j}]:\",\n",
    "            all_labels[i][j],\n",
    "            f\"\\tpoint_cloud_labels[{i}][{j}]:\",\n",
    "            point_cloud_labels[i][j],\n",
    "            \"\\n\",\n",
    "        )"
   ]
  },
  {
   "cell_type": "markdown",
   "id": "37d1be4e",
   "metadata": {
    "colab_type": "text"
   },
   "source": [
    "Now, let's visualize some of the point clouds along with their labels."
   ]
  },
  {
   "cell_type": "code",
   "execution_count": null,
   "id": "11f0befc",
   "metadata": {
    "colab_type": "code"
   },
   "outputs": [],
   "source": [
    "\n",
    "def visualize_data(point_cloud, labels):\n",
    "    df = pd.DataFrame(\n",
    "        data={\n",
    "            \"x\": point_cloud[:, 0],\n",
    "            \"y\": point_cloud[:, 1],\n",
    "            \"z\": point_cloud[:, 2],\n",
    "            \"label\": labels,\n",
    "        }\n",
    "    )\n",
    "    fig = plt.figure(figsize=(15, 10))\n",
    "    ax = plt.axes(projection=\"3d\")\n",
    "    for index, label in enumerate(LABELS):\n",
    "        c_df = df[df[\"label\"] == label]\n",
    "        try:\n",
    "            ax.scatter(\n",
    "                c_df[\"x\"], c_df[\"y\"], c_df[\"z\"], label=label, alpha=0.5, c=COLORS[index]\n",
    "            )\n",
    "        except IndexError:\n",
    "            pass\n",
    "    ax.legend()\n",
    "    plt.show()\n",
    "\n",
    "\n",
    "visualize_data(point_clouds[0], all_labels[0])\n",
    "visualize_data(point_clouds[300], all_labels[300])"
   ]
  },
  {
   "cell_type": "markdown",
   "id": "43937ccd",
   "metadata": {
    "colab_type": "text"
   },
   "source": [
    "### Preprocessing\n",
    "\n",
    "Note that all the point clouds that we have loaded consist of a variable number of points,\n",
    "which makes it difficult for us to batch them together. In order to overcome this problem, we\n",
    "randomly sample a fixed number of points from each point cloud. We also normalize the\n",
    "point clouds in order to make the data scale-invariant."
   ]
  },
  {
   "cell_type": "code",
   "execution_count": null,
   "id": "addd1122",
   "metadata": {
    "colab_type": "code"
   },
   "outputs": [],
   "source": [
    "for index in tqdm(range(len(point_clouds))):\n",
    "    current_point_cloud = point_clouds[index]\n",
    "    current_label_cloud = point_cloud_labels[index]\n",
    "    current_labels = all_labels[index]\n",
    "    num_points = len(current_point_cloud)\n",
    "    # Randomly sampling respective indices.\n",
    "    sampled_indices = random.sample(list(range(num_points)), NUM_SAMPLE_POINTS)\n",
    "    # Sampling points corresponding to sampled indices.\n",
    "    sampled_point_cloud = np.array([current_point_cloud[i] for i in sampled_indices])\n",
    "    # Sampling corresponding one-hot encoded labels.\n",
    "    sampled_label_cloud = np.array([current_label_cloud[i] for i in sampled_indices])\n",
    "    # Sampling corresponding labels for visualization.\n",
    "    sampled_labels = np.array([current_labels[i] for i in sampled_indices])\n",
    "    # Normalizing sampled point cloud.\n",
    "    norm_point_cloud = sampled_point_cloud - np.mean(sampled_point_cloud, axis=0)\n",
    "    norm_point_cloud /= np.max(np.linalg.norm(norm_point_cloud, axis=1))\n",
    "    point_clouds[index] = norm_point_cloud\n",
    "    point_cloud_labels[index] = sampled_label_cloud\n",
    "    all_labels[index] = sampled_labels"
   ]
  },
  {
   "cell_type": "markdown",
   "id": "d472161f",
   "metadata": {
    "colab_type": "text"
   },
   "source": [
    "Let's visualize the sampled and normalized point clouds along with their corresponding\n",
    "labels."
   ]
  },
  {
   "cell_type": "code",
   "execution_count": null,
   "id": "dd02da2a",
   "metadata": {
    "colab_type": "code"
   },
   "outputs": [],
   "source": [
    "visualize_data(point_clouds[0], all_labels[0])\n",
    "visualize_data(point_clouds[300], all_labels[300])"
   ]
  },
  {
   "cell_type": "markdown",
   "id": "6e275ee8",
   "metadata": {
    "colab_type": "text"
   },
   "source": [
    "### Creating TensorFlow datasets\n",
    "\n",
    "We create `tf.data.Dataset` objects for the training and validation data.\n",
    "We also augment the training point clouds by applying random jitter to them."
   ]
  },
  {
   "cell_type": "code",
   "execution_count": null,
   "id": "352916f3",
   "metadata": {
    "colab_type": "code"
   },
   "outputs": [],
   "source": [
    "\n",
    "def load_data(point_cloud_batch, label_cloud_batch):\n",
    "    point_cloud_batch.set_shape([NUM_SAMPLE_POINTS, 3])\n",
    "    label_cloud_batch.set_shape([NUM_SAMPLE_POINTS, len(LABELS) + 1])\n",
    "    return point_cloud_batch, label_cloud_batch\n",
    "\n",
    "\n",
    "def augment(point_cloud_batch, label_cloud_batch):\n",
    "    noise = tf.random.uniform(\n",
    "        tf.shape(label_cloud_batch), -0.005, 0.005, dtype=tf.float64\n",
    "    )\n",
    "    point_cloud_batch += noise[:, :, :3]\n",
    "    return point_cloud_batch, label_cloud_batch\n",
    "\n",
    "\n",
    "def generate_dataset(point_clouds, label_clouds, is_training=True):\n",
    "    dataset = tf.data.Dataset.from_tensor_slices((point_clouds, label_clouds))\n",
    "    dataset = dataset.shuffle(BATCH_SIZE * 100) if is_training else dataset\n",
    "    dataset = dataset.map(load_data, num_parallel_calls=tf.data.AUTOTUNE)\n",
    "    dataset = dataset.batch(batch_size=BATCH_SIZE)\n",
    "    dataset = (\n",
    "        dataset.map(augment, num_parallel_calls=tf.data.AUTOTUNE)\n",
    "        if is_training\n",
    "        else dataset\n",
    "    )\n",
    "    return dataset\n",
    "\n",
    "\n",
    "split_index = int(len(point_clouds) * (1 - VAL_SPLIT))\n",
    "train_point_clouds = point_clouds[:split_index]\n",
    "train_label_cloud = point_cloud_labels[:split_index]\n",
    "total_training_examples = len(train_point_clouds)\n",
    "\n",
    "val_point_clouds = point_clouds[split_index:]\n",
    "val_label_cloud = point_cloud_labels[split_index:]\n",
    "\n",
    "print(\"Num train point clouds:\", len(train_point_clouds))\n",
    "print(\"Num train point cloud labels:\", len(train_label_cloud))\n",
    "print(\"Num val point clouds:\", len(val_point_clouds))\n",
    "print(\"Num val point cloud labels:\", len(val_label_cloud))\n",
    "\n",
    "train_dataset = generate_dataset(train_point_clouds, train_label_cloud)\n",
    "val_dataset = generate_dataset(val_point_clouds, val_label_cloud, is_training=False)\n",
    "\n",
    "print(\"Train Dataset:\", train_dataset)\n",
    "print(\"Validation Dataset:\", val_dataset)"
   ]
  },
  {
   "cell_type": "markdown",
   "id": "85351ef2",
   "metadata": {
    "colab_type": "text"
   },
   "source": [
    "## PointNet model\n",
    "\n",
    "The figure below depicts the internals of the PointNet model family:\n",
    "\n",
    "![](https://i.imgur.com/qFLNw5L.png)\n",
    "\n",
    "Given that PointNet is meant to consume an ***unordered set*** of coordinates as its input data,\n",
    "its architecture needs to match the following characteristic properties\n",
    "of point cloud data:\n",
    "\n",
    "### Permutation invariance\n",
    "\n",
    "Given the unstructured nature of point cloud data, a scan made up of `n` points has `n!`\n",
    "permutations. The subsequent data processing must be invariant to the different\n",
    "representations. In order to make PointNet invariant to input permutations, we use a\n",
    "symmetric function (such as max-pooling) once the `n` input points are mapped to\n",
    "higher-dimensional space. The result is a **global feature vector** that aims to capture\n",
    "an aggregate signature of the `n` input points. The global feature vector is used alongside\n",
    "local point features for segmentation.\n",
    "\n",
    "![](https://i.imgur.com/0mrvvjb.png)\n",
    "\n",
    "### Transformation invariance\n",
    "\n",
    "Segmentation outputs should be unchanged if the object undergoes certain transformations,\n",
    "such as translation or scaling. For a given input point cloud, we apply an appropriate\n",
    "rigid or affine transformation to achieve pose normalization. Because each of the `n` input\n",
    "points are represented as a vector and are mapped to the embedding spaces independently,\n",
    "applying a geometric transformation simply amounts to matrix multiplying each point with\n",
    "a transformation matrix. This is motivated by the concept of\n",
    "[Spatial Transformer Networks](https://arxiv.org/abs/1506.02025).\n",
    "\n",
    "The operations comprising the T-Net are motivated by the higher-level architecture of\n",
    "PointNet. MLPs (or fully-connected layers) are used to map the input points independently\n",
    "and identically to a higher-dimensional space; max-pooling is used to encode a global\n",
    "feature vector whose dimensionality is then reduced with fully-connected layers. The\n",
    "input-dependent features at the final fully-connected layer are then combined with\n",
    "globally trainable weights and biases, resulting in a 3-by-3 transformation matrix.\n",
    "\n",
    "![](https://i.imgur.com/aEj3GYi.png)\n",
    "\n",
    "### Point interactions\n",
    "\n",
    "The interaction between neighboring points often carries useful information (i.e., a\n",
    "single point should not be treated in isolation). Whereas classification need only make\n",
    "use of global features, segmentation must be able to leverage local point features along\n",
    "with global point features.\n",
    "\n",
    "\n",
    "**Note**: The figures presented in this section have been taken from the\n",
    "[original paper](https://arxiv.org/abs/1612.00593)."
   ]
  },
  {
   "cell_type": "markdown",
   "id": "c19e651b",
   "metadata": {
    "colab_type": "text"
   },
   "source": [
    "Now that we know the pieces that compose the PointNet model, we can implement the model.\n",
    "We start by implementing the basic blocks i.e., the convolutional block and the multi-layer\n",
    "perceptron block."
   ]
  },
  {
   "cell_type": "code",
   "execution_count": null,
   "id": "32be603d",
   "metadata": {
    "colab_type": "code"
   },
   "outputs": [],
   "source": [
    "\n",
    "def conv_block(x: tf.Tensor, filters: int, name: str) -> tf.Tensor:\n",
    "    x = layers.Conv1D(filters, kernel_size=1, padding=\"valid\", name=f\"{name}_conv\")(x)\n",
    "    x = layers.BatchNormalization(momentum=0.0, name=f\"{name}_batch_norm\")(x)\n",
    "    return layers.Activation(\"relu\", name=f\"{name}_relu\")(x)\n",
    "\n",
    "\n",
    "def mlp_block(x: tf.Tensor, filters: int, name: str) -> tf.Tensor:\n",
    "    x = layers.Dense(filters, name=f\"{name}_dense\")(x)\n",
    "    x = layers.BatchNormalization(momentum=0.0, name=f\"{name}_batch_norm\")(x)\n",
    "    return layers.Activation(\"relu\", name=f\"{name}_relu\")(x)\n"
   ]
  },
  {
   "cell_type": "markdown",
   "id": "e78a5ec6",
   "metadata": {
    "colab_type": "text"
   },
   "source": [
    "We implement a regularizer (taken from\n",
    "[this example](https://keras.io/examples/vision/pointnet/#build-a-model))\n",
    "to enforce orthogonality in the feature space. This is needed to ensure\n",
    "that the magnitudes of the transformed features do not vary too much."
   ]
  },
  {
   "cell_type": "code",
   "execution_count": null,
   "id": "6efcd5a4",
   "metadata": {
    "colab_type": "code"
   },
   "outputs": [],
   "source": [
    "\n",
    "class OrthogonalRegularizer(keras.regularizers.Regularizer):\n",
    "    \"\"\"Reference: https://keras.io/examples/vision/pointnet/#build-a-model\"\"\"\n",
    "\n",
    "    def __init__(self, num_features, l2reg=0.001):\n",
    "        self.num_features = num_features\n",
    "        self.l2reg = l2reg\n",
    "        self.identity = tf.eye(num_features)\n",
    "\n",
    "    def __call__(self, x):\n",
    "        x = tf.reshape(x, (-1, self.num_features, self.num_features))\n",
    "        xxt = tf.tensordot(x, x, axes=(2, 2))\n",
    "        xxt = tf.reshape(xxt, (-1, self.num_features, self.num_features))\n",
    "        return tf.reduce_sum(self.l2reg * tf.square(xxt - self.identity))\n",
    "\n",
    "    def get_config(self):\n",
    "        config = super(TransformerEncoder, self).get_config()\n",
    "        config.update({\"num_features\": self.num_features, \"l2reg_strength\": self.l2reg})\n",
    "        return config\n"
   ]
  },
  {
   "cell_type": "markdown",
   "id": "1b6741ca",
   "metadata": {
    "colab_type": "text"
   },
   "source": [
    "The next piece is the transformation network which we explained earlier."
   ]
  },
  {
   "cell_type": "code",
   "execution_count": null,
   "id": "77d9b1b6",
   "metadata": {
    "colab_type": "code"
   },
   "outputs": [],
   "source": [
    "\n",
    "def transformation_net(inputs: tf.Tensor, num_features: int, name: str) -> tf.Tensor:\n",
    "    \"\"\"\n",
    "    Reference: https://keras.io/examples/vision/pointnet/#build-a-model.\n",
    "\n",
    "    The `filters` values come from the original paper:\n",
    "    https://arxiv.org/abs/1612.00593.\n",
    "    \"\"\"\n",
    "    x = conv_block(inputs, filters=64, name=f\"{name}_1\")\n",
    "    x = conv_block(x, filters=128, name=f\"{name}_2\")\n",
    "    x = conv_block(x, filters=1024, name=f\"{name}_3\")\n",
    "    x = layers.GlobalMaxPooling1D()(x)\n",
    "    x = mlp_block(x, filters=512, name=f\"{name}_1_1\")\n",
    "    x = mlp_block(x, filters=256, name=f\"{name}_2_1\")\n",
    "    return layers.Dense(\n",
    "        num_features * num_features,\n",
    "        kernel_initializer=\"zeros\",\n",
    "        bias_initializer=keras.initializers.Constant(np.eye(num_features).flatten()),\n",
    "        activity_regularizer=OrthogonalRegularizer(num_features),\n",
    "        name=f\"{name}_final\",\n",
    "    )(x)\n",
    "\n",
    "\n",
    "def transformation_block(inputs: tf.Tensor, num_features: int, name: str) -> tf.Tensor:\n",
    "    transformed_features = transformation_net(inputs, num_features, name=name)\n",
    "    transformed_features = layers.Reshape((num_features, num_features))(\n",
    "        transformed_features\n",
    "    )\n",
    "    return layers.Dot(axes=(2, 1), name=f\"{name}_mm\")([inputs, transformed_features])\n"
   ]
  },
  {
   "cell_type": "markdown",
   "id": "d02e0ef7",
   "metadata": {
    "colab_type": "text"
   },
   "source": [
    "Finally, we piece the above blocks together and implement the segmentation model."
   ]
  },
  {
   "cell_type": "code",
   "execution_count": null,
   "id": "e178eb07",
   "metadata": {
    "colab_type": "code"
   },
   "outputs": [],
   "source": [
    "\n",
    "def get_shape_segmentation_model(num_points: int, num_classes: int) -> keras.Model:\n",
    "    input_points = keras.Input(shape=(None, 3))\n",
    "\n",
    "    # PointNet Classification Network.\n",
    "    transformed_inputs = transformation_block(\n",
    "        input_points, num_features=3, name=\"input_transformation_block\"\n",
    "    )\n",
    "    features_64 = conv_block(transformed_inputs, filters=64, name=\"features_64\")\n",
    "    features_128_1 = conv_block(features_64, filters=128, name=\"features_128_1\")\n",
    "    features_128_2 = conv_block(features_128_1, filters=128, name=\"features_128_2\")\n",
    "    transformed_features = transformation_block(\n",
    "        features_128_2, num_features=128, name=\"transformed_features\"\n",
    "    )\n",
    "    features_512 = conv_block(transformed_features, filters=512, name=\"features_512\")\n",
    "    features_2048 = conv_block(features_512, filters=2048, name=\"pre_maxpool_block\")\n",
    "    global_features = layers.MaxPool1D(pool_size=num_points, name=\"global_features\")(\n",
    "        features_2048\n",
    "    )\n",
    "    global_features = tf.tile(global_features, [1, num_points, 1])\n",
    "\n",
    "    # Segmentation head.\n",
    "    segmentation_input = layers.Concatenate(name=\"segmentation_input\")(\n",
    "        [\n",
    "            features_64,\n",
    "            features_128_1,\n",
    "            features_128_2,\n",
    "            transformed_features,\n",
    "            features_512,\n",
    "            global_features,\n",
    "        ]\n",
    "    )\n",
    "    segmentation_features = conv_block(\n",
    "        segmentation_input, filters=128, name=\"segmentation_features\"\n",
    "    )\n",
    "    outputs = layers.Conv1D(\n",
    "        num_classes, kernel_size=1, activation=\"softmax\", name=\"segmentation_head\"\n",
    "    )(segmentation_features)\n",
    "    return keras.Model(input_points, outputs)\n"
   ]
  },
  {
   "cell_type": "markdown",
   "id": "3ca7bd3c",
   "metadata": {
    "colab_type": "text"
   },
   "source": [
    "## Instantiate the model"
   ]
  },
  {
   "cell_type": "code",
   "execution_count": null,
   "id": "3045c6d4",
   "metadata": {
    "colab_type": "code"
   },
   "outputs": [],
   "source": [
    "x, y = next(iter(train_dataset))\n",
    "\n",
    "num_points = x.shape[1]\n",
    "num_classes = y.shape[-1]\n",
    "\n",
    "segmentation_model = get_shape_segmentation_model(num_points, num_classes)\n",
    "segmentation_model.summary()"
   ]
  },
  {
   "cell_type": "markdown",
   "id": "070f7083",
   "metadata": {
    "colab_type": "text"
   },
   "source": [
    "## Training\n",
    "\n",
    "For the training the authors recommend using a learning rate schedule that decays the\n",
    "initial learning rate by half every 20 epochs. In this example, we resort to 15 epochs."
   ]
  },
  {
   "cell_type": "code",
   "execution_count": null,
   "id": "a79e4985",
   "metadata": {
    "colab_type": "code"
   },
   "outputs": [],
   "source": [
    "training_step_size = total_training_examples // BATCH_SIZE\n",
    "total_training_steps = training_step_size * EPOCHS\n",
    "print(f\"Total training steps: {total_training_steps}.\")\n",
    "\n",
    "lr_schedule = keras.optimizers.schedules.PiecewiseConstantDecay(\n",
    "    boundaries=[training_step_size * 15, training_step_size * 15],\n",
    "    values=[INITIAL_LR, INITIAL_LR * 0.5, INITIAL_LR * 0.25],\n",
    ")\n",
    "\n",
    "steps = tf.range(total_training_steps, dtype=tf.int32)\n",
    "lrs = [lr_schedule(step) for step in steps]\n",
    "\n",
    "plt.plot(lrs)\n",
    "plt.xlabel(\"Steps\")\n",
    "plt.ylabel(\"Learning Rate\")\n",
    "plt.show()"
   ]
  },
  {
   "cell_type": "markdown",
   "id": "7ed9af6a",
   "metadata": {
    "colab_type": "text"
   },
   "source": [
    "Finally, we implement a utility for running our experiments and launch model training."
   ]
  },
  {
   "cell_type": "code",
   "execution_count": null,
   "id": "5284eefa",
   "metadata": {
    "colab_type": "code"
   },
   "outputs": [],
   "source": [
    "\n",
    "def run_experiment(epochs):\n",
    "\n",
    "    segmentation_model = get_shape_segmentation_model(num_points, num_classes)\n",
    "    segmentation_model.compile(\n",
    "        optimizer=keras.optimizers.Adam(learning_rate=lr_schedule),\n",
    "        loss=keras.losses.CategoricalCrossentropy(),\n",
    "        metrics=[\"accuracy\"],\n",
    "    )\n",
    "\n",
    "    checkpoint_filepath = \"/tmp/checkpoint\"\n",
    "    checkpoint_callback = keras.callbacks.ModelCheckpoint(\n",
    "        checkpoint_filepath,\n",
    "        monitor=\"val_loss\",\n",
    "        save_best_only=True,\n",
    "        save_weights_only=True,\n",
    "    )\n",
    "\n",
    "    history = segmentation_model.fit(\n",
    "        train_dataset,\n",
    "        validation_data=val_dataset,\n",
    "        epochs=epochs,\n",
    "        callbacks=[checkpoint_callback],\n",
    "    )\n",
    "\n",
    "    segmentation_model.load_weights(checkpoint_filepath)\n",
    "    return segmentation_model, history\n",
    "\n",
    "\n",
    "segmentation_model, history = run_experiment(epochs=EPOCHS)"
   ]
  },
  {
   "cell_type": "markdown",
   "id": "e6f6abe7",
   "metadata": {
    "colab_type": "text"
   },
   "source": [
    "## Visualize the training landscape"
   ]
  },
  {
   "cell_type": "code",
   "execution_count": null,
   "id": "90732a69",
   "metadata": {
    "colab_type": "code"
   },
   "outputs": [],
   "source": [
    "\n",
    "def plot_result(item):\n",
    "    plt.plot(history.history[item], label=item)\n",
    "    plt.plot(history.history[\"val_\" + item], label=\"val_\" + item)\n",
    "    plt.xlabel(\"Epochs\")\n",
    "    plt.ylabel(item)\n",
    "    plt.title(\"Train and Validation {} Over Epochs\".format(item), fontsize=14)\n",
    "    plt.legend()\n",
    "    plt.grid()\n",
    "    plt.show()\n",
    "\n",
    "\n",
    "plot_result(\"loss\")\n",
    "plot_result(\"accuracy\")"
   ]
  },
  {
   "cell_type": "markdown",
   "id": "b53e2b1f",
   "metadata": {
    "colab_type": "text"
   },
   "source": [
    "## Inference"
   ]
  },
  {
   "cell_type": "code",
   "execution_count": null,
   "id": "d62389f4",
   "metadata": {
    "colab_type": "code"
   },
   "outputs": [],
   "source": [
    "validation_batch = next(iter(val_dataset))\n",
    "val_predictions = segmentation_model.predict(validation_batch[0])\n",
    "print(f\"Validation prediction shape: {val_predictions.shape}\")\n",
    "\n",
    "\n",
    "def visualize_single_point_cloud(point_clouds, label_clouds, idx):\n",
    "    label_map = LABELS + [\"none\"]\n",
    "    point_cloud = point_clouds[idx]\n",
    "    label_cloud = label_clouds[idx]\n",
    "    visualize_data(point_cloud, [label_map[np.argmax(label)] for label in label_cloud])\n",
    "\n",
    "\n",
    "idx = np.random.choice(len(validation_batch[0]))\n",
    "print(f\"Index selected: {idx}\")\n",
    "\n",
    "# Plotting with ground-truth.\n",
    "visualize_single_point_cloud(validation_batch[0], validation_batch[1], idx)\n",
    "\n",
    "# Plotting with predicted labels.\n",
    "visualize_single_point_cloud(validation_batch[0], val_predictions, idx)"
   ]
  },
  {
   "cell_type": "markdown",
   "id": "4c376722",
   "metadata": {
    "colab_type": "text"
   },
   "source": [
    "## Final notes\n",
    "\n",
    "If you are interested in learning more about this topic, you may find\n",
    "[this repository](https://github.com/soumik12345/point-cloud-segmentation)\n",
    "useful."
   ]
  },
  {
   "cell_type": "code",
   "execution_count": 1,
   "id": "459bc5aa",
   "metadata": {
    "scrolled": true
   },
   "outputs": [
    {
     "name": "stderr",
     "output_type": "stream",
     "text": [
      "2022-08-10 19:45:01.582933: I tensorflow/core/util/util.cc:169] oneDNN custom operations are on. You may see slightly different numerical results due to floating-point round-off errors from different computation orders. To turn them off, set the environment variable `TF_ENABLE_ONEDNN_OPTS=0`.\n"
     ]
    }
   ],
   "source": [
    "import os\n",
    "import json\n",
    "import random\n",
    "import numpy as np\n",
    "import pandas as pd\n",
    "from tqdm import tqdm\n",
    "from glob import glob\n",
    "\n",
    "import tensorflow as tf\n",
    "from tensorflow import keras\n",
    "from tensorflow.keras import layers\n",
    "\n",
    "import matplotlib.pyplot as plt"
   ]
  },
  {
   "cell_type": "code",
   "execution_count": 2,
   "id": "c0ede624",
   "metadata": {},
   "outputs": [
    {
     "name": "stdout",
     "output_type": "stream",
     "text": [
      "Downloading data from https://git.io/JiY4i\n",
      "1078925405/1078925405 [==============================] - 127s 0us/step\n"
     ]
    }
   ],
   "source": [
    "dataset_url = \"https://git.io/JiY4i\"\n",
    "\n",
    "dataset_path = keras.utils.get_file(\n",
    "    fname=\"shapenet.zip\",\n",
    "    origin=dataset_url,\n",
    "    cache_subdir=\"datasets\",\n",
    "    hash_algorithm=\"auto\",\n",
    "    extract=True,\n",
    "    archive_format=\"auto\",\n",
    "    cache_dir=\"datasets\",\n",
    ")"
   ]
  },
  {
   "cell_type": "raw",
   "id": "aabbbfce",
   "metadata": {},
   "source": [
    "with open(\"/tmp/.keras/datasets/PartAnnotation/metadata.json\") as json_file:\n",
    "    metadata = json.load(json_file)\n",
    "\n",
    "print(metadata)"
   ]
  },
  {
   "cell_type": "code",
   "execution_count": 3,
   "id": "547a9d7d",
   "metadata": {},
   "outputs": [
    {
     "ename": "NameError",
     "evalue": "name 'metadata' is not defined",
     "output_type": "error",
     "traceback": [
      "\u001b[0;31m---------------------------------------------------------------------------\u001b[0m",
      "\u001b[0;31mNameError\u001b[0m                                 Traceback (most recent call last)",
      "Input \u001b[0;32mIn [3]\u001b[0m, in \u001b[0;36m<cell line: 1>\u001b[0;34m()\u001b[0m\n\u001b[1;32m      1\u001b[0m points_dir \u001b[38;5;241m=\u001b[39m \u001b[38;5;124m\"\u001b[39m\u001b[38;5;124m/tmp/.keras/datasets/PartAnnotation/\u001b[39m\u001b[38;5;132;01m{}\u001b[39;00m\u001b[38;5;124m/points\u001b[39m\u001b[38;5;124m\"\u001b[39m\u001b[38;5;241m.\u001b[39mformat(\n\u001b[0;32m----> 2\u001b[0m     \u001b[43mmetadata\u001b[49m[\u001b[38;5;124m\"\u001b[39m\u001b[38;5;124mAirplane\u001b[39m\u001b[38;5;124m\"\u001b[39m][\u001b[38;5;124m\"\u001b[39m\u001b[38;5;124mdirectory\u001b[39m\u001b[38;5;124m\"\u001b[39m]\n\u001b[1;32m      3\u001b[0m )\n\u001b[1;32m      4\u001b[0m labels_dir \u001b[38;5;241m=\u001b[39m \u001b[38;5;124m\"\u001b[39m\u001b[38;5;124m/tmp/.keras/datasets/PartAnnotation/\u001b[39m\u001b[38;5;132;01m{}\u001b[39;00m\u001b[38;5;124m/ma\u001b[39m\u001b[38;5;124m\"\u001b[39m\u001b[38;5;241m.\u001b[39mformat(\n\u001b[1;32m      5\u001b[0m     metadata[\u001b[38;5;124m\"\u001b[39m\u001b[38;5;124mAirplane\u001b[39m\u001b[38;5;124m\"\u001b[39m][\u001b[38;5;124m\"\u001b[39m\u001b[38;5;124mdirectory\u001b[39m\u001b[38;5;124m\"\u001b[39m]\n\u001b[1;32m      6\u001b[0m )\n\u001b[1;32m      7\u001b[0m LABELS \u001b[38;5;241m=\u001b[39m metadata[\u001b[38;5;124m\"\u001b[39m\u001b[38;5;124mAirplane\u001b[39m\u001b[38;5;124m\"\u001b[39m][\u001b[38;5;124m\"\u001b[39m\u001b[38;5;124mlables\u001b[39m\u001b[38;5;124m\"\u001b[39m]\n",
      "\u001b[0;31mNameError\u001b[0m: name 'metadata' is not defined"
     ]
    }
   ],
   "source": [
    "points_dir = \"/tmp/.keras/datasets/PartAnnotation/{}/points\".format(\n",
    "    metadata[\"Airplane\"][\"directory\"]\n",
    ")\n",
    "labels_dir = \"/tmp/.keras/datasets/PartAnnotation/{}/ma\".format(\n",
    "    metadata[\"Airplane\"][\"directory\"]\n",
    ")\n",
    "LABELS = metadata[\"Airplane\"][\"lables\"]\n",
    "COLORS = metadata[\"Airplane\"][\"colors\"]\n",
    "\n",
    "VAL_SPLIT = 0.2\n",
    "NUM_SAMPLE_POINTS = 1024\n",
    "BATCH_SIZE = 32\n",
    "EPOCHS = 60\n",
    "INITIAL_LR = 1e-3"
   ]
  },
  {
   "cell_type": "code",
   "execution_count": 5,
   "id": "4e9c945d",
   "metadata": {},
   "outputs": [
    {
     "name": "stderr",
     "output_type": "stream",
     "text": [
      "100%|██████████| 4045/4045 [01:43<00:00, 39.20it/s]\n"
     ]
    }
   ],
   "source": [
    "point_clouds, test_point_clouds = [], []\n",
    "point_cloud_labels, all_labels = [], []\n",
    "\n",
    "points_files = glob(os.path.join(points_dir, \"*.pts\"))\n",
    "for point_file in tqdm(points_files):\n",
    "    point_cloud = np.loadtxt(point_file)\n",
    "    if point_cloud.shape[0] < NUM_SAMPLE_POINTS:\n",
    "        continue\n",
    "\n",
    "    # Get the file-id of the current point cloud for parsing its\n",
    "    # labels.\n",
    "    file_id = point_file.split(\"/\")[-1].split(\".\")[0]\n",
    "    label_data, num_labels = {}, 0\n",
    "    for label in LABELS:\n",
    "        label_file = os.path.join(labels_dir, label, file_id + \".seg\")\n",
    "        if os.path.exists(label_file):\n",
    "            label_data[label] = np.loadtxt(label_file).astype(\"float32\")\n",
    "            num_labels = len(label_data[label])\n",
    "\n",
    "    # Point clouds having labels will be our training samples.\n",
    "    try:\n",
    "        label_map = [\"none\"] * num_labels\n",
    "        for label in LABELS:\n",
    "            for i, data in enumerate(label_data[label]):\n",
    "                label_map[i] = label if data == 1 else label_map[i]\n",
    "        label_data = [\n",
    "            LABELS.index(label) if label != \"none\" else len(LABELS)\n",
    "            for label in label_map\n",
    "        ]\n",
    "        # Apply one-hot encoding to the dense label representation.\n",
    "        label_data = keras.utils.to_categorical(label_data, num_classes=len(LABELS) + 1)\n",
    "\n",
    "        point_clouds.append(point_cloud)\n",
    "        point_cloud_labels.append(label_data)\n",
    "        all_labels.append(label_map)\n",
    "    except KeyError:\n",
    "        test_point_clouds.append(point_cloud)"
   ]
  },
  {
   "cell_type": "code",
   "execution_count": 6,
   "id": "7dcf5598",
   "metadata": {},
   "outputs": [
    {
     "name": "stdout",
     "output_type": "stream",
     "text": [
      "point_clouds[3040].shape: (2702, 3)\n",
      "point_cloud_labels[3040].shape: (2702, 5)\n",
      "all_labels[3040][0]: engine \tpoint_cloud_labels[3040][0]: [0. 0. 0. 1. 0.] \n",
      "\n",
      "all_labels[3040][1]: wing \tpoint_cloud_labels[3040][1]: [1. 0. 0. 0. 0.] \n",
      "\n",
      "all_labels[3040][2]: engine \tpoint_cloud_labels[3040][2]: [0. 0. 0. 1. 0.] \n",
      "\n",
      "all_labels[3040][3]: body \tpoint_cloud_labels[3040][3]: [0. 1. 0. 0. 0.] \n",
      "\n",
      "all_labels[3040][4]: body \tpoint_cloud_labels[3040][4]: [0. 1. 0. 0. 0.] \n",
      "\n",
      "point_clouds[3135].shape: (2702, 3)\n",
      "point_cloud_labels[3135].shape: (2702, 5)\n",
      "all_labels[3135][0]: tail \tpoint_cloud_labels[3135][0]: [0. 0. 1. 0. 0.] \n",
      "\n",
      "all_labels[3135][1]: body \tpoint_cloud_labels[3135][1]: [0. 1. 0. 0. 0.] \n",
      "\n",
      "all_labels[3135][2]: wing \tpoint_cloud_labels[3135][2]: [1. 0. 0. 0. 0.] \n",
      "\n",
      "all_labels[3135][3]: body \tpoint_cloud_labels[3135][3]: [0. 1. 0. 0. 0.] \n",
      "\n",
      "all_labels[3135][4]: engine \tpoint_cloud_labels[3135][4]: [0. 0. 0. 1. 0.] \n",
      "\n",
      "point_clouds[2917].shape: (2702, 3)\n",
      "point_cloud_labels[2917].shape: (2702, 5)\n",
      "all_labels[2917][0]: body \tpoint_cloud_labels[2917][0]: [0. 1. 0. 0. 0.] \n",
      "\n",
      "all_labels[2917][1]: body \tpoint_cloud_labels[2917][1]: [0. 1. 0. 0. 0.] \n",
      "\n",
      "all_labels[2917][2]: engine \tpoint_cloud_labels[2917][2]: [0. 0. 0. 1. 0.] \n",
      "\n",
      "all_labels[2917][3]: wing \tpoint_cloud_labels[2917][3]: [1. 0. 0. 0. 0.] \n",
      "\n",
      "all_labels[2917][4]: wing \tpoint_cloud_labels[2917][4]: [1. 0. 0. 0. 0.] \n",
      "\n",
      "point_clouds[2411].shape: (2702, 3)\n",
      "point_cloud_labels[2411].shape: (2702, 5)\n",
      "all_labels[2411][0]: body \tpoint_cloud_labels[2411][0]: [0. 1. 0. 0. 0.] \n",
      "\n",
      "all_labels[2411][1]: body \tpoint_cloud_labels[2411][1]: [0. 1. 0. 0. 0.] \n",
      "\n",
      "all_labels[2411][2]: body \tpoint_cloud_labels[2411][2]: [0. 1. 0. 0. 0.] \n",
      "\n",
      "all_labels[2411][3]: engine \tpoint_cloud_labels[2411][3]: [0. 0. 0. 1. 0.] \n",
      "\n",
      "all_labels[2411][4]: tail \tpoint_cloud_labels[2411][4]: [0. 0. 1. 0. 0.] \n",
      "\n",
      "point_clouds[827].shape: (2702, 3)\n",
      "point_cloud_labels[827].shape: (2702, 5)\n",
      "all_labels[827][0]: engine \tpoint_cloud_labels[827][0]: [0. 0. 0. 1. 0.] \n",
      "\n",
      "all_labels[827][1]: body \tpoint_cloud_labels[827][1]: [0. 1. 0. 0. 0.] \n",
      "\n",
      "all_labels[827][2]: tail \tpoint_cloud_labels[827][2]: [0. 0. 1. 0. 0.] \n",
      "\n",
      "all_labels[827][3]: tail \tpoint_cloud_labels[827][3]: [0. 0. 1. 0. 0.] \n",
      "\n",
      "all_labels[827][4]: wing \tpoint_cloud_labels[827][4]: [1. 0. 0. 0. 0.] \n",
      "\n"
     ]
    }
   ],
   "source": [
    "for _ in range(5):\n",
    "    i = random.randint(0, len(point_clouds) - 1)\n",
    "    print(f\"point_clouds[{i}].shape:\", point_clouds[0].shape)\n",
    "    print(f\"point_cloud_labels[{i}].shape:\", point_cloud_labels[0].shape)\n",
    "    for j in range(5):\n",
    "        print(\n",
    "            f\"all_labels[{i}][{j}]:\",\n",
    "            all_labels[i][j],\n",
    "            f\"\\tpoint_cloud_labels[{i}][{j}]:\",\n",
    "            point_cloud_labels[i][j],\n",
    "            \"\\n\",\n",
    "        )"
   ]
  },
  {
   "cell_type": "code",
   "execution_count": 9,
   "id": "3e5ed79e",
   "metadata": {},
   "outputs": [
    {
     "data": {
      "image/png": "[encoded data removed]",
      "text/plain": [
       "<Figure size 1080x720 with 1 Axes>"
      ]
     },
     "metadata": {
      "needs_background": "light"
     },
     "output_type": "display_data"
    },
    {
     "data": {
      "image/png": "[encoded data removed]",
      "text/plain": [
       "<Figure size 1080x720 with 1 Axes>"
      ]
     },
     "metadata": {
      "needs_background": "light"
     },
     "output_type": "display_data"
    }
   ],
   "source": [
    "def visualize_data(point_cloud, labels):\n",
    "    df = pd.DataFrame(\n",
    "        data={\n",
    "            \"x\": point_cloud[:, 0],\n",
    "            \"y\": point_cloud[:, 1],\n",
    "            \"z\": point_cloud[:, 2],\n",
    "            \"label\": labels,\n",
    "        }\n",
    "    )\n",
    "    fig = plt.figure(figsize=(15, 10))\n",
    "    ax = plt.axes(projection=\"3d\")\n",
    "    for index, label in enumerate(LABELS):\n",
    "        c_df = df[df[\"label\"] == label]\n",
    "        try:\n",
    "            ax.scatter(\n",
    "                c_df[\"x\"], c_df[\"y\"], c_df[\"z\"], label=label, alpha=0.5, c=COLORS[index]\n",
    "            )\n",
    "        except IndexError:\n",
    "            pass\n",
    "    ax.legend()\n",
    "    plt.show()\n",
    "\n",
    "\n",
    "visualize_data(point_clouds[2], all_labels[2])\n",
    "visualize_data(point_clouds[300], all_labels[300])"
   ]
  },
  {
   "cell_type": "code",
   "execution_count": null,
   "id": "cde4b24d",
   "metadata": {},
   "outputs": [],
   "source": []
  }
 ],
 "metadata": {
  "kernelspec": {
   "display_name": "Python 3 (ipykernel)",
   "language": "python",
   "name": "python3"
  },
  "language_info": {
   "codemirror_mode": {
    "name": "ipython",
    "version": 3
   },
   "file_extension": ".py",
   "mimetype": "text/x-python",
   "name": "python",
   "nbconvert_exporter": "python",
   "pygments_lexer": "ipython3",
   "version": "3.9.12"
  }
 },
 "nbformat": 4,
 "nbformat_minor": 5
}
