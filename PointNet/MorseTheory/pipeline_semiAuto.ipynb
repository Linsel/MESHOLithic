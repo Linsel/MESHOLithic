{
 "cells": [
  {
   "cell_type": "code",
   "execution_count": 1,
   "id": "962e6b6e",
   "metadata": {},
   "outputs": [],
   "source": [
    "from morse import Morse\n",
    "\n",
    "import os"
   ]
  },
  {
   "cell_type": "markdown",
   "id": "9c2d7fdf",
   "metadata": {},
   "source": [
    "### Parameters:"
   ]
  },
  {
   "cell_type": "code",
   "execution_count": 2,
   "id": "d41636c7",
   "metadata": {},
   "outputs": [],
   "source": [
    "inverted = True\n",
    "merge_thresh = [0.2,0.3,0.4,0.5,0.6]"
   ]
  },
  {
   "cell_type": "markdown",
   "id": "f65281aa",
   "metadata": {},
   "source": [
    "### Folder structure:\n",
    "should exist:\n",
    "- data folder\n",
    "    - curvature folder\n",
    "    - groundtruths folder\n",
    "will be added:\n",
    "- data folder\n",
    "    - results\n",
    "        - folder for each file with all parameters"
   ]
  },
  {
   "cell_type": "code",
   "execution_count": 3,
   "id": "ea49c53e",
   "metadata": {},
   "outputs": [],
   "source": [
    "path = '/media/linsel/3931-6632/data/phd stone tools/Blades_Bladelets_PLY/annotated/coloured/new/'\n",
    "folder = path\n",
    "# index of relevant function value should be equal in all files\n",
    "quality_index = 3"
   ]
  },
  {
   "cell_type": "code",
   "execution_count": 12,
   "id": "352d7492",
   "metadata": {},
   "outputs": [
    {
     "name": "stdout",
     "output_type": "stream",
     "text": [
      "Time read data file: 3.705172362999292\n",
      "Time read and prepare data: 13.349012157006655\n",
      "Time ProcessLowerStar: 3.67764377000276\n",
      "Time ExtractMorseComplex and Separatrices: 4.323209719994338\n",
      "Time cancel critical points with  1.5186097025871277  persistence:  2.558590959000867\n",
      "Persistence was high enough that this complex is maximally reduced.\n",
      "Time cancel critical points with  0.0534820556640625  persistence:  2.5319835930131376\n",
      "Time get MorseCells for  0.0534820556640625 persistence:  3.407728505000705\n",
      "Time fill neighbors for MorseCells:  2.867615365990787\n",
      "Time getting double threshold salient edge points for  0.06638020277023315 - 0.0470472052693367 threshold: 0.02569137400132604\n",
      "Time get weighted ConnectivityGraph:  0.016367044998332858\n",
      "Time merging and simplifying Cells: 0.09396556600404438\n",
      "Segmented for 0.0534820556640625 persistence Complex with 0.06638020277023315 0.0470472052693367 salient edge threshold and 20.0 % edge percentage merging threshold\n",
      "Got  16 differnt cell labels\n",
      "Time writing label txt file: 0.06929714800207876\n",
      "Time getting double threshold salient edge points for  0.06638020277023315 - 0.0470472052693367 threshold: 0.0243727099878015\n",
      "Time get weighted ConnectivityGraph:  0.01617163699120283\n",
      "Time merging and simplifying Cells: 0.09354195599735249\n",
      "Segmented for 0.0534820556640625 persistence Complex with 0.06638020277023315 0.0470472052693367 salient edge threshold and 30.0 % edge percentage merging threshold\n",
      "Got  9 differnt cell labels\n",
      "Time writing label txt file: 0.06832109700189903\n",
      "Time getting double threshold salient edge points for  0.06638020277023315 - 0.0470472052693367 threshold: 0.025473478002822958\n",
      "Time get weighted ConnectivityGraph:  0.016477646000566892\n",
      "Time merging and simplifying Cells: 0.08946842400473543\n",
      "Segmented for 0.0534820556640625 persistence Complex with 0.06638020277023315 0.0470472052693367 salient edge threshold and 40.0 % edge percentage merging threshold\n",
      "Got  11 differnt cell labels\n",
      "Time writing label txt file: 0.06963113600795623\n",
      "Time getting double threshold salient edge points for  0.06638020277023315 - 0.0470472052693367 threshold: 0.023882415000116453\n",
      "Time get weighted ConnectivityGraph:  0.017219597997609526\n",
      "Time merging and simplifying Cells: 0.09929979300068226\n",
      "Segmented for 0.0534820556640625 persistence Complex with 0.06638020277023315 0.0470472052693367 salient edge threshold and 50.0 % edge percentage merging threshold\n",
      "Got  10 differnt cell labels\n",
      "Time writing label txt file: 0.07418117999623064\n",
      "Time getting double threshold salient edge points for  0.06638020277023315 - 0.0470472052693367 threshold: 0.02740838199679274\n",
      "Time get weighted ConnectivityGraph:  0.01863176201004535\n",
      "Time merging and simplifying Cells: 0.1000941789970966\n",
      "Segmented for 0.0534820556640625 persistence Complex with 0.06638020277023315 0.0470472052693367 salient edge threshold and 60.0 % edge percentage merging threshold\n",
      "Got  8 differnt cell labels\n",
      "Time writing label txt file: 0.07069997100916225\n",
      "Time read data file: 6.504124529994442\n",
      "Time read and prepare data: 22.21221104200231\n",
      "Time ProcessLowerStar: 6.237095941003645\n",
      "Time ExtractMorseComplex and Separatrices: 7.6029782830009935\n",
      "Time cancel critical points with  1.440983772277832  persistence:  6.626366700002109\n",
      "Persistence was high enough that this complex is maximally reduced.\n",
      "Time cancel critical points with  0.05606387183070183  persistence:  7.9439649090054445\n",
      "Time get MorseCells for  0.05606387183070183 persistence:  40.80278133699903\n",
      "Time fill neighbors for MorseCells:  46.79869667599269\n",
      "Time getting double threshold salient edge points for  0.06824778020381927 - 0.04996098205447197 threshold: 0.05107553400739562\n",
      "Time get weighted ConnectivityGraph:  0.06110195799556095\n",
      "Time merging and simplifying Cells: 0.3050757360033458\n",
      "Segmented for 0.05606387183070183 persistence Complex with 0.06824778020381927 0.04996098205447197 salient edge threshold and 20.0 % edge percentage merging threshold\n",
      "Got  54 differnt cell labels\n",
      "Time writing label txt file: 0.13141604499833193\n",
      "Time getting double threshold salient edge points for  0.06824778020381927 - 0.04996098205447197 threshold: 0.05148261999420356\n",
      "Time get weighted ConnectivityGraph:  0.05841547099407762\n",
      "Time merging and simplifying Cells: 0.2905857260047924\n",
      "Segmented for 0.05606387183070183 persistence Complex with 0.06824778020381927 0.04996098205447197 salient edge threshold and 30.0 % edge percentage merging threshold\n",
      "Got  32 differnt cell labels\n",
      "Time writing label txt file: 0.13061687599110883\n",
      "Time getting double threshold salient edge points for  0.06824778020381927 - 0.04996098205447197 threshold: 0.05135434000112582\n",
      "Time get weighted ConnectivityGraph:  0.06291841799975373\n",
      "Time merging and simplifying Cells: 0.316630825996981\n",
      "Segmented for 0.05606387183070183 persistence Complex with 0.06824778020381927 0.04996098205447197 salient edge threshold and 40.0 % edge percentage merging threshold\n",
      "Got  24 differnt cell labels\n",
      "Time writing label txt file: 0.13420210199547\n",
      "Time getting double threshold salient edge points for  0.06824778020381927 - 0.04996098205447197 threshold: 0.051952760986750945\n",
      "Time get weighted ConnectivityGraph:  0.06729351500689518\n",
      "Time merging and simplifying Cells: 0.3024643120006658\n",
      "Segmented for 0.05606387183070183 persistence Complex with 0.06824778020381927 0.04996098205447197 salient edge threshold and 50.0 % edge percentage merging threshold\n",
      "Got  22 differnt cell labels\n",
      "Time writing label txt file: 0.12929991399869323\n",
      "Time getting double threshold salient edge points for  0.06824778020381927 - 0.04996098205447197 threshold: 0.05499247300031129\n",
      "Time get weighted ConnectivityGraph:  0.06975046299339738\n",
      "Time merging and simplifying Cells: 0.27873336400080007\n",
      "Segmented for 0.05606387183070183 persistence Complex with 0.06824778020381927 0.04996098205447197 salient edge threshold and 60.0 % edge percentage merging threshold\n",
      "Got  19 differnt cell labels\n",
      "Time writing label txt file: 0.12996064599428792\n",
      "Time read data file: 6.2286614360054955\n",
      "Time read and prepare data: 21.565745023995987\n",
      "Time ProcessLowerStar: 6.189165916002821\n",
      "Time ExtractMorseComplex and Separatrices: 6.726433659001486\n",
      "Time cancel critical points with  1.077295184135437  persistence:  5.409754062988213\n",
      "Persistence was high enough that this complex is maximally reduced.\n",
      "Time cancel critical points with  0.04313603788614273  persistence:  4.208180155008449\n",
      "Time get MorseCells for  0.04313603788614273 persistence:  15.911512385995593\n",
      "Time fill neighbors for MorseCells:  22.64599110999552\n",
      "Time getting double threshold salient edge points for  0.053760822862386703 - 0.03792151063680649 threshold: 0.03506623799330555\n",
      "Time get weighted ConnectivityGraph:  0.039158049010438845\n",
      "Time merging and simplifying Cells: 0.2085050829919055\n",
      "Segmented for 0.04313603788614273 persistence Complex with 0.053760822862386703 0.03792151063680649 salient edge threshold and 20.0 % edge percentage merging threshold\n",
      "Got  39 differnt cell labels\n",
      "Time writing label txt file: 0.1294653869990725\n",
      "Time getting double threshold salient edge points for  0.053760822862386703 - 0.03792151063680649 threshold: 0.041053886990994215\n",
      "Time get weighted ConnectivityGraph:  0.036946872001863085\n",
      "Time merging and simplifying Cells: 0.18851302699476946\n",
      "Segmented for 0.04313603788614273 persistence Complex with 0.053760822862386703 0.03792151063680649 salient edge threshold and 30.0 % edge percentage merging threshold\n",
      "Got  29 differnt cell labels\n",
      "Time writing label txt file: 0.11867417101166211\n",
      "Time getting double threshold salient edge points for  0.053760822862386703 - 0.03792151063680649 threshold: 0.03576536400942132\n",
      "Time get weighted ConnectivityGraph:  0.039652965002460405\n",
      "Time merging and simplifying Cells: 0.20386879199941177\n",
      "Segmented for 0.04313603788614273 persistence Complex with 0.053760822862386703 0.03792151063680649 salient edge threshold and 40.0 % edge percentage merging threshold\n",
      "Got  21 differnt cell labels\n",
      "Time writing label txt file: 0.12274059100309387\n",
      "Time getting double threshold salient edge points for  0.053760822862386703 - 0.03792151063680649 threshold: 0.03774304898979608\n",
      "Time get weighted ConnectivityGraph:  0.040978524993988685\n",
      "Time merging and simplifying Cells: 0.2005946870049229\n",
      "Segmented for 0.04313603788614273 persistence Complex with 0.053760822862386703 0.03792151063680649 salient edge threshold and 50.0 % edge percentage merging threshold\n",
      "Got  18 differnt cell labels\n"
     ]
    },
    {
     "name": "stdout",
     "output_type": "stream",
     "text": [
      "Time writing label txt file: 0.13727162299619522\n",
      "Time getting double threshold salient edge points for  0.053760822862386703 - 0.03792151063680649 threshold: 0.04129816999193281\n",
      "Time get weighted ConnectivityGraph:  0.0408607310091611\n",
      "Time merging and simplifying Cells: 0.21289919299306348\n",
      "Segmented for 0.04313603788614273 persistence Complex with 0.053760822862386703 0.03792151063680649 salient edge threshold and 60.0 % edge percentage merging threshold\n",
      "Got  15 differnt cell labels\n",
      "Time writing label txt file: 0.13693574399803765\n"
     ]
    },
    {
     "data": {
      "image/png": "[encoded data removed]",
      "text/plain": [
       "<Figure size 432x288 with 1 Axes>"
      ]
     },
     "metadata": {
      "needs_background": "light"
     },
     "output_type": "display_data"
    }
   ],
   "source": [
    "if not os.path.exists(folder + \"results/\"):\n",
    "    os.makedirs(folder + \"results/\")\n",
    "    \n",
    "for filename in os.listdir(folder+\"curvature/\"):\n",
    "    if filename.endswith(\".ply\"):\n",
    "        infilename = folder + \"curvature/\" + str(filename)\n",
    "        outfilename =  folder + \"results/\" + str(os.path.splitext(filename)[0]) + \"/\" + str(os.path.splitext(filename)[0])\n",
    "        \n",
    "        if not os.path.exists(folder + \"results/\" + str(os.path.splitext(filename)[0]) + \"/\"):\n",
    "            os.makedirs(folder + \"results/\" + str(os.path.splitext(filename)[0]) + \"/\")\n",
    "        \n",
    "        data = Morse()\n",
    "        data.Pipeline_semiAuto(infilename, outfilename, quality_index, inverted, \n",
    "                               merge_thresh)"
   ]
  },
  {
   "cell_type": "code",
   "execution_count": null,
   "id": "103536e1",
   "metadata": {},
   "outputs": [],
   "source": [
    "# fehlen: 773,6853,10350,10354,10358"
   ]
  }
 ],
 "metadata": {
  "kernelspec": {
   "display_name": "Python 3 (ipykernel)",
   "language": "python",
   "name": "python3"
  },
  "language_info": {
   "codemirror_mode": {
    "name": "ipython",
    "version": 3
   },
   "file_extension": ".py",
   "mimetype": "text/x-python",
   "name": "python",
   "nbconvert_exporter": "python",
   "pygments_lexer": "ipython3",
   "version": "3.9.12"
  }
 },
 "nbformat": 4,
 "nbformat_minor": 5
}
