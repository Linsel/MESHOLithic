{
 "cells": [
  {
   "cell_type": "code",
   "execution_count": 1,
   "metadata": {},
   "outputs": [],
   "source": [
    "import trimesh\n",
    "from trimesh.curvature import sphere_ball_intersection,discrete_gaussian_curvature_measure\n",
    "\n",
    "import numpy as np\n"
   ]
  },
  {
   "cell_type": "code",
   "execution_count": null,
   "metadata": {},
   "outputs": [],
   "source": [
    "# Load mesh from file\n",
    "mesh = trimesh.load(path + name + '.ply')\n",
    "\n",
    "# Compute curvature\n",
    "curvature = trimesh.curvature.vertex_defects(mesh)\n",
    "\n",
    "\n",
    "radii = np.linspace(0, 2.0, 16)\n",
    "\n",
    "\n",
    "# gauss_curv = np.array([discrete_gaussian_curvature_measure(mesh, mesh.vertices, r) for r in radii])\n",
    "gauss_sphere = np.array([discrete_gaussian_curvature_measure(mesh, mesh.vertices, r)/sphere_ball_intersection(1, r) for r in radii])\n",
    "# mean_sphere = np.array([discrete_mean_curvature_measure(mesh, mesh.vertices, r)/sphere_ball_intersection(1, r) for r in radii])\n",
    "\n",
    "# Access min and max curvature values\n",
    "# min_curvature = curvature.min()\n",
    "# max_curvature = curvature.max()"
   ]
  }
 ],
 "metadata": {
  "kernelspec": {
   "display_name": "PhD",
   "language": "python",
   "name": "python3"
  },
  "language_info": {
   "name": "python",
   "version": "3.9.12"
  },
  "orig_nbformat": 4,
  "vscode": {
   "interpreter": {
    "hash": "12cdd475630f2d46394b37907add291e4d4b45a6318ce9a647ee43716c21869b"
   }
  }
 },
 "nbformat": 4,
 "nbformat_minor": 2
}
