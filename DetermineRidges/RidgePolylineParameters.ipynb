{
 "cells": [
  {
   "cell_type": "code",
   "execution_count": null,
   "metadata": {},
   "outputs": [],
   "source": [
    "## max edge angle \n",
    "def get_max_edge_angle (obj,label_arr_mean):   \n",
    "\n",
    "    origin = np.array([ 0.00000000001,\n",
    "                        0.00000000001,\n",
    "                        0.00000000001])\n",
    "\n",
    "    max_edge_angle = {vert: max([abs(angle_between_vectors(vals[obj.dict_label[vert]] + origin, \n",
    "                                    origin,\n",
    "                                    normal+origin) [0])\n",
    "\n",
    "                                for nei, normal in vals.items() \n",
    "                                    if math.isnan(angle_between_vectors(   vals[obj.dict_label[vert]] + origin, \n",
    "                                    origin,\n",
    "                                    normal+origin)[0]) != True\n",
    "                                ], key=abs)\n",
    "                            for vert,vals in label_arr_mean.items()\n",
    "                    }\n",
    "\n",
    "    write_labels_txt_file ( max_edge_angle, \n",
    "                            ''.join ([  obj.path, \n",
    "                                        obj.id,\n",
    "                                        '_'.join([  '',\n",
    "                                                    'edge-angle',\n",
    "                                                    'labels'])\n",
    "                                    ])\n",
    "                            )\n",
    "\n",
    "get_max_edge_angle (CO1,label_arr_mean)  "
   ]
  }
 ],
 "metadata": {
  "language_info": {
   "name": "python"
  }
 },
 "nbformat": 4,
 "nbformat_minor": 2
}
