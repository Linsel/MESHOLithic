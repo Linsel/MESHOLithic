{
 "cells": [
  {
   "cell_type": "markdown",
   "metadata": {},
   "source": [
    "## Working with Graphs"
   ]
  },
  {
   "cell_type": "code",
   "execution_count": 1,
   "metadata": {},
   "outputs": [],
   "source": [
    "import os,sys\n",
    "\n",
    "currentdir = os.getcwd()\n",
    "parentdir = os.path.dirname(currentdir)\n",
    "gparentdir = os.path.dirname(parentdir)\n",
    "ggparentdir = os.path.dirname(gparentdir)\n",
    "\n",
    "prototypedir = '/'.join([ggparentdir,'prototyping']) \n",
    "\n",
    "sys.path.insert(0, ggparentdir) \n",
    "sys.path.insert(0, prototypedir) \n",
    "\n",
    "from prototyping.util import *\n",
    "####\n",
    "\n",
    "from Classes.BasicClasses import manualEdges\n",
    "\n",
    "from GraphSimplification import simplify_graph,simplify_graph_iter\n",
    "from GraphSimplification import detect_retouches,detect_retouches_iter\n",
    "\n",
    "from GraphComparison import graph_compare,graph_dictionary_compare\n",
    "\n",
    "labelname = '_gt_labels'\n",
    "graphname = 'normal'\n",
    "diameter = 10\n",
    "n_rad = 17    \n",
    "radius_scale = 0.5\n",
    "circumference_scale = 1\n",
    "\n",
    "\n",
    "preprocessed = '_GMOCF_r1.50_n4_v256.volume'\n",
    "exp_path = 'exp_path/'\n",
    "id = str(207)\n",
    "path = \"/home/linsel/Documents/PhD/Data/Fumane/V1.0.0_Linsel_et_al_2023/Graph/CO/{}/\".format(id)\n",
    "ending = '.txt'\n",
    "\n",
    "def manualEdgesProcedures (obj:manualEdges = None,\n",
    "                           **kwargs):\n",
    "\n",
    "    # if obj == None:\n",
    "    #     obj = TransformLabelledMesh()\n",
    "    method = kwargs['method']\n",
    "\n",
    "    procedures = {'graph_simplification':graph_simplification_procedure,\n",
    "                  'graph_simplification':graph_simplification_iterator_procedure}\n",
    "    func = procedures.get(method)\n",
    "\n",
    "    func(obj,**kwargs)\n",
    "\n",
    "    return obj\n",
    "\n",
    "@timing\n",
    "def graph_prepare_procedure (obj:manualEdges = None,\n",
    "                             **kwargs):\n",
    "\n",
    "    path = kwargs ['path'] \n",
    "    name = kwargs ['name']\n",
    "\n",
    "    obj.import_edges(path,id)\n",
    "\n",
    "    obj.create_manual_DiGraph()\n",
    "\n",
    "    obj.G = obj.DiG_manual.to_undirected()\n",
    "\n",
    "\n",
    "def graph_simplification_procedure (obj:manualEdges = None,\n",
    "                                     **kwargs):\n",
    "\n",
    "    graph_prepare_procedure (obj,**kwargs)\n",
    "\n",
    "    param = kwargs ['param']\n",
    "    tresh = kwargs ['tresh']\n",
    "    high_low = kwargs ['high_low']\n",
    "    iterations = kwargs ['iterations']\n",
    "\n",
    "    obj.G_simp = simplify_graph(obj.G,param, tresh, high_low)\n",
    "\n",
    "    \n",
    "\n",
    "    obj.retouch_edge = detect_retouches (obj.G,param,tresh)\n",
    "\n",
    "    G1_matrix, G2_matrix, difference = graph_compare (obj.G,\n",
    "                                                      obj.G_simp)\n",
    "\n",
    "def graph_simplification_iterator_procedure\n",
    "\n",
    "\n",
    "    difference.to_csv(''.join([obj.path,\n",
    "                               obj.id,\n",
    "                               '_simp_G_dif',\n",
    "                               '.csv']))\n",
    "\n",
    "    detect_retouches_iter (G,param,tresh,2)\n",
    "\n",
    "    [RE['retouched_edges'] for RE in retouched_edges.values()]\n",
    "    \n",
    "    G_iter_mat, G_iter_diff = graph_dictionary_compare(G_iter)\n",
    "\n",
    "    girvan_newman(G,param,tresh, high_low)\n",
    "\n",
    "\n",
    "\n",
    "    \n",
    "\n",
    "\n",
    "\n",
    "\n",
    "ME = manualEdges()\n",
    "\n",
    "manualEdgesProcedures(ME)"
   ]
  },
  {
   "cell_type": "markdown",
   "metadata": {},
   "source": [
    "## Graph Simplification"
   ]
  },
  {
   "cell_type": "code",
   "execution_count": 4,
   "metadata": {},
   "outputs": [],
   "source": [
    "param,tresh, high_low,iterate = None,2,0,2\n",
    "\n",
    "\n",
    "\n",
    "# difference.to_csv(''.join([path,id,'_simp_G_diff','.csv']))"
   ]
  },
  {
   "cell_type": "code",
   "execution_count": 5,
   "metadata": {},
   "outputs": [
    {
     "data": {
      "text/plain": [
       "[Counter({(3, 1): 5, (1, 8): 2, (1, 6): 1, (1, 2): 1}), Counter({(3, 1): 1})]"
      ]
     },
     "execution_count": 5,
     "metadata": {},
     "output_type": "execute_result"
    }
   ],
   "source": [
    "retouched_edges = detect_retouches_iter (G,param,tresh,2)\n",
    "\n",
    "[RE['retouched_edges'] for RE in retouched_edges.values()]"
   ]
  },
  {
   "cell_type": "code",
   "execution_count": 13,
   "metadata": {},
   "outputs": [
    {
     "data": {
      "text/plain": [
       "<networkx.classes.graph.Graph at 0x7f1135f24820>"
      ]
     },
     "execution_count": 13,
     "metadata": {},
     "output_type": "execute_result"
    }
   ],
   "source": [
    "G_iter = simplify_graph_iter(G,param,tresh, high_low,3)\n",
    "\n",
    "G_iter_mat, G_iter_diff = graph_dictionary_compare(G_iter)\n",
    "\n",
    "girvan_newman(G,param,tresh, high_low)\n",
    "\n",
    "# G_iter_diff.to_csv(''.join([path,id,'_simp_G_diff','.csv']))\n"
   ]
  },
  {
   "cell_type": "code",
   "execution_count": null,
   "metadata": {},
   "outputs": [
    {
     "data": {
      "text/plain": [
       "[None, None, None, None, None]"
      ]
     },
     "execution_count": 47,
     "metadata": {},
     "output_type": "execute_result"
    }
   ],
   "source": [
    "from minions.MeshTxtMinions import *\n",
    "\n",
    "minionsdir = '/'.join([ggparentdir,'minions']) \n",
    "\n",
    "sys.path.insert(0, minionsdir) \n",
    "\n",
    "from minions.MeshMinions import map_parameter_in_label\n",
    "\n",
    "# naming of gt_label\n",
    "label_name = '_gt_labels'\n",
    "\n",
    "# Difference between simplifications\n",
    "para_id = ''.join([id,'_simp_G_diff','.csv'])\n",
    "\n",
    "para_dat = pd.read_csv(''.join([path, para_id]), sep=',', index_col=0, header=0)\n",
    "\n",
    "[map_parameter_in_label(path,id,label_name,ending,{ 'name': name,\n",
    "                                                    'values': vals}) \n",
    "                                                    \n",
    "                        for name, vals in para_dat.iteritems()]\n",
    "\n"
   ]
  },
  {
   "cell_type": "code",
   "execution_count": 29,
   "metadata": {},
   "outputs": [
    {
     "name": "stdout",
     "output_type": "stream",
     "text": [
      "([1, 3, 8, 10, 13, 14, 15, 18, 19, 21, 25], [2, 4, 5, 6, 22])\n",
      "([1, 3, 8, 13, 14, 15, 18, 19, 21, 25], [2, 4, 5, 6, 22], [10])\n",
      "([1, 3, 13, 14, 15, 18, 19, 21, 25], [2, 4, 5, 6, 22], [10], [8])\n",
      "([1, 3, 13, 14, 15, 18, 19, 21], [2, 4, 5, 6, 22], [10], [25], [8])\n",
      "([1, 3, 13, 14, 15, 18, 21], [2, 4, 5, 6, 22], [10], [19], [25], [8])\n",
      "([1, 3, 13, 14, 15, 21], [2, 4, 5, 6, 22], [10], [19], [25], [8], [18])\n",
      "([1, 3, 13, 14, 15, 21], [2, 4, 6, 22], [10], [19], [25], [5], [8], [18])\n",
      "([1, 3, 13, 14, 21], [2, 4, 6, 22], [10], [19], [25], [5], [8], [18], [15])\n",
      "([1, 3, 13, 14, 21], [4], [2, 6, 22], [10], [19], [25], [5], [8], [18], [15])\n",
      "([1, 3, 13, 14], [4], [2, 6, 22], [10], [19], [25], [5], [8], [18], [15], [21])\n",
      "([3], [4], [1, 13, 14], [2, 6, 22], [10], [19], [25], [5], [8], [18], [15], [21])\n",
      "([3], [4], [1], [2, 6, 22], [10], [13, 14], [19], [25], [5], [8], [18], [15], [21])\n",
      "([3], [4], [1], [6], [10], [13, 14], [19], [25], [5], [8], [2, 22], [18], [15], [21])\n",
      "([3], [4], [1], [6], [10], [13], [19], [25], [5], [8], [2, 22], [14], [18], [15], [21])\n",
      "([3], [4], [1], [6], [10], [13], [19], [25], [5], [8], [22], [14], [18], [15], [21], [2])\n",
      "([1, 3, 10, 13, 14, 15, 18, 19, 21, 25], [2, 4, 5, 6, 22])\n",
      "([1, 3, 13, 14, 15, 18, 19, 21, 25], [2, 4, 5, 6, 22], [10])\n",
      "([1, 3, 13, 14, 15, 18, 19, 21], [2, 4, 5, 6, 22], [10], [25])\n",
      "([1, 3, 13, 14, 15, 18, 21], [2, 4, 5, 6, 22], [10], [19], [25])\n",
      "([1, 3, 13, 14, 15, 21], [2, 4, 5, 6, 22], [10], [19], [25], [18])\n",
      "([1, 3, 13, 14, 15, 21], [2, 4, 6, 22], [10], [19], [25], [5], [18])\n",
      "([1, 3, 13, 14, 21], [2, 4, 6, 22], [10], [19], [25], [5], [18], [15])\n",
      "([1, 3, 13, 14, 21], [4], [2, 6, 22], [10], [19], [25], [5], [18], [15])\n",
      "([1, 3, 13, 14], [4], [2, 6, 22], [10], [19], [25], [5], [18], [15], [21])\n",
      "([3], [4], [1, 13, 14], [2, 6, 22], [10], [19], [25], [5], [18], [15], [21])\n",
      "([3], [4], [1], [2, 6, 22], [10], [13, 14], [19], [25], [5], [18], [15], [21])\n",
      "([3], [4], [1], [6], [10], [13, 14], [19], [25], [5], [2, 22], [18], [15], [21])\n",
      "([3], [4], [1], [6], [10], [13], [19], [25], [5], [2, 22], [14], [18], [15], [21])\n",
      "([3], [4], [1], [6], [10], [13], [19], [25], [5], [22], [14], [18], [15], [21], [2])\n"
     ]
    }
   ],
   "source": [
    "import itertools\n",
    "\n",
    "k = 20\n",
    "\n",
    "comp = nx.community.girvan_newman(G_simp)\n",
    "for communities in itertools.islice(comp, k):\n",
    "    print(tuple(sorted(c) for c in communities))\n",
    "\n",
    "G_inter_simp = simplify_graph(G_iter[2],param,2, high_low)    \n",
    "\n",
    "comp = nx.community.girvan_newman(G_iter[2])\n",
    "for communities in itertools.islice(comp, k):\n",
    "    print(tuple(sorted(c) for c in communities))\n",
    "\n"
   ]
  },
  {
   "cell_type": "code",
   "execution_count": 25,
   "metadata": {},
   "outputs": [
    {
     "ename": "NameError",
     "evalue": "name 'filled_matrix' is not defined",
     "output_type": "error",
     "traceback": [
      "\u001b[0;31m---------------------------------------------------------------------------\u001b[0m",
      "\u001b[0;31mNameError\u001b[0m                                 Traceback (most recent call last)",
      "Input \u001b[0;32mIn [25]\u001b[0m, in \u001b[0;36m<cell line: 1>\u001b[0;34m()\u001b[0m\n\u001b[0;32m----> 1\u001b[0m \u001b[43mfilled_matrix\u001b[49m\u001b[38;5;241m.\u001b[39mshape[\u001b[38;5;241m1\u001b[39m]\n",
      "\u001b[0;31mNameError\u001b[0m: name 'filled_matrix' is not defined"
     ]
    }
   ],
   "source": [
    "filled_matrix.shape[1]"
   ]
  },
  {
   "cell_type": "code",
   "execution_count": 14,
   "metadata": {},
   "outputs": [
    {
     "data": {
      "text/plain": [
       "{'nodes_added': set(),\n",
       " 'nodes_removed': {7, 9, 11, 12, 16, 17, 20, 23, 24},\n",
       " 'edges_added': set(),\n",
       " 'edges_removed': {(1, 7),\n",
       "  (1, 9),\n",
       "  (1, 11),\n",
       "  (1, 12),\n",
       "  (1, 16),\n",
       "  (1, 17),\n",
       "  (1, 20),\n",
       "  (1, 23),\n",
       "  (1, 24),\n",
       "  (2, 7),\n",
       "  (3, 11),\n",
       "  (3, 12),\n",
       "  (3, 16),\n",
       "  (3, 20),\n",
       "  (3, 24),\n",
       "  (6, 23),\n",
       "  (8, 9),\n",
       "  (8, 17)},\n",
       " 'edges_removed_reverse': {(7, 1),\n",
       "  (7, 2),\n",
       "  (9, 1),\n",
       "  (9, 8),\n",
       "  (11, 1),\n",
       "  (11, 3),\n",
       "  (12, 1),\n",
       "  (12, 3),\n",
       "  (16, 1),\n",
       "  (16, 3),\n",
       "  (17, 1),\n",
       "  (17, 8),\n",
       "  (20, 1),\n",
       "  (20, 3),\n",
       "  (23, 1),\n",
       "  (23, 6),\n",
       "  (24, 1),\n",
       "  (24, 3)}}"
      ]
     },
     "execution_count": 14,
     "metadata": {},
     "output_type": "execute_result"
    }
   ],
   "source": [
    "import networkx as nx\n",
    "\n",
    "def compare_graphs(original_graph, simplified_graph):\n",
    "    differences = {\n",
    "        'nodes_added': set(),\n",
    "        'nodes_removed': set(),\n",
    "        'edges_added': set(),\n",
    "        'edges_removed': set(),\n",
    "        # Add more categories as needed\n",
    "    }\n",
    "\n",
    "    # Compare nodes\n",
    "    original_nodes = set(original_graph.nodes())\n",
    "    simplified_nodes = set(simplified_graph.nodes())\n",
    "    differences['nodes_added'] = simplified_nodes - original_nodes\n",
    "    differences['nodes_removed'] = original_nodes - simplified_nodes\n",
    "\n",
    "    # Compare edges\n",
    "    original_edges = set(original_graph.edges())\n",
    "    simplified_edges = set(simplified_graph.edges())\n",
    "\n",
    "    differences['edges_added'] = simplified_edges - original_edges\n",
    "    differences['edges_removed'] = original_edges - simplified_edges\n",
    "    \n",
    "     \n",
    "\n",
    "    # Compare attributes (optional, can be expanded as needed)\n",
    "    # ...\n",
    "\n",
    "    return differences\n",
    "\n",
    "compare_graphs(G,simp_G)"
   ]
  },
  {
   "cell_type": "code",
   "execution_count": 166,
   "metadata": {},
   "outputs": [],
   "source": [
    "import pandas as pd\n",
    "\n",
    "simp_deg_df = G_simp_iter_degree_df (simp_degree)\n",
    "simp_degree_div_df = G_simp_iter_degree_df (simp_degree_div)\n",
    "\n",
    "simp_degree_div_df\n",
    "\n",
    "simp_degree_div_df.to_csv(''.join([path,id,'_simp_G_div','.csv']))"
   ]
  }
 ],
 "metadata": {
  "kernelspec": {
   "display_name": "PhD",
   "language": "python",
   "name": "python3"
  },
  "language_info": {
   "codemirror_mode": {
    "name": "ipython",
    "version": 3
   },
   "file_extension": ".py",
   "mimetype": "text/x-python",
   "name": "python",
   "nbconvert_exporter": "python",
   "pygments_lexer": "ipython3",
   "version": "3.9.12"
  }
 },
 "nbformat": 4,
 "nbformat_minor": 2
}
