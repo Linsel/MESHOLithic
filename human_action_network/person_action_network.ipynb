{
 "cells": [
  {
   "cell_type": "code",
   "execution_count": 2,
   "metadata": {},
   "outputs": [],
   "source": [
    "import networkx as nx\n",
    "import matplotlib.pyplot as plt\n",
    "\n",
    "def join_graphs_as_MultiDiGraph (G,H):\n",
    "\n",
    "    MDG = nx.MultiDiGraph()\n",
    "\n",
    "    MDG.add_nodes_from(G.nodes)\n",
    "    MDG.add_nodes_from(H.nodes)\n",
    "\n",
    "\n",
    "    MDG.add_edges_from(G.edges(data=True))\n",
    "    MDG.add_edges_from(H.edges(data=True))\n",
    "\n",
    "    return MDG\n",
    "\n",
    "def depict_MultiDiGraph (MDG):\n",
    "    pos = nx.spring_layout(MDG, seed=500)  # Seed layout for reproducibility\n",
    "    nx.draw(MDG, pos=pos, with_labels=True)\n",
    "    plt.show()\n",
    "\n",
    "def have_bidirectional_relationship(G, node1, node2):\n",
    "    return G.has_edge(node1, node2) and G.has_edge(node2, node1)\n",
    "\n",
    "def create_bidirectional_edges(import_set):\n",
    "    biconnections = set()\n",
    "    for u, v in import_set:\n",
    "        biconnections.add((u, v))\n",
    "        biconnections.add((v, u))\n",
    "\n",
    "    return biconnections\n"
   ]
  },
  {
   "cell_type": "code",
   "execution_count": 3,
   "metadata": {},
   "outputs": [],
   "source": [
    "// Generate an algorithm to get all vertices of a trimesh object\n",
    "function"
   ]
  },
  {
   "cell_type": "code",
   "execution_count": 147,
   "metadata": {},
   "outputs": [],
   "source": [
    "import ast\n",
    "\n",
    "V = [   (1,{'action':'Wake up'}),\n",
    "        (2,{'action':'Brush teeth'}),\n",
    "        (3,{'action':'Shower'}),\n",
    "        (4,{'action':'Get dressed'}),\n",
    "        (5,{'action':'Eat breakfast'}),\n",
    "        (6,{'action':'Leave for work'}),\n",
    "        (7,{'action':'Arrive at work'}),\n",
    "        (8,{'action':'Start work'}),\n",
    "        (9,{'action':'End work'}),\n",
    "        (10,{'action':'Eat dinner'}),\n",
    "        (11,{'action':'Watch TV'}),\n",
    "        (12,{'action':'Go to bed'})]\n",
    "\n",
    "name = 'daily_person_action.txt'\n",
    "with open('daily_person_action.txt', 'w') as fp:\n",
    "    fp.write('\\n'.join('({},{})'.format(x[0],x[1]) for x in V))  \n",
    "\n",
    "V = []\n",
    "with open(name, \"rb\") as fp:\n",
    "    for i in fp.readlines():\n",
    "        try:\n",
    "            V.append(ast.literal_eval(i[:].decode()))\n",
    "        except:pass\n"
   ]
  },
  {
   "cell_type": "code",
   "execution_count": 148,
   "metadata": {},
   "outputs": [],
   "source": [
    "directed_E = {(1, 2), (1, 3), (2, 4), (3, 4), (4, 5), (5, 6), (6, 7), (7, 8), (8, 9), (9, 10),(9, 11), (10, 12), (11, 12)}\n",
    "\n",
    "undirected_E = {(2,3),(10,11)}"
   ]
  },
  {
   "cell_type": "code",
   "execution_count": 149,
   "metadata": {},
   "outputs": [
    {
     "data": {
      "text/plain": [
       "[0, 0, 0, 0, 0, 0, 0, 0, 0, 0, 0, 0, 0]"
      ]
     },
     "execution_count": 149,
     "metadata": {},
     "output_type": "execute_result"
    }
   ],
   "source": [
    "Gdi = nx.MultiDiGraph().to_directed()\n",
    "\n",
    "Gdi.add_nodes_from(V)\n",
    "\n",
    "Gdi.add_edges_from(directed_E)"
   ]
  },
  {
   "cell_type": "code",
   "execution_count": 152,
   "metadata": {},
   "outputs": [],
   "source": [
    "bidirected_E = create_bidirectional_edges(undirected_E)"
   ]
  },
  {
   "cell_type": "code",
   "execution_count": 153,
   "metadata": {},
   "outputs": [
    {
     "data": {
      "text/plain": [
       "[0, 1, 0, 1]"
      ]
     },
     "execution_count": 153,
     "metadata": {},
     "output_type": "execute_result"
    }
   ],
   "source": [
    "Gundi = nx.MultiDiGraph().to_undirected()\n",
    "\n",
    "Gundi.add_nodes_from(V)\n",
    "\n",
    "Gundi.add_edges_from(bidirected_E)"
   ]
  },
  {
   "cell_type": "code",
   "execution_count": 156,
   "metadata": {},
   "outputs": [],
   "source": [
    "MDG = join_graphs_as_MultiDiGraph (Gdi,Gundi)"
   ]
  },
  {
   "cell_type": "code",
   "execution_count": 158,
   "metadata": {},
   "outputs": [
    {
     "data": {
      "image/png": "[encoded data removed]",
      "text/plain": [
       "<Figure size 432x288 with 1 Axes>"
      ]
     },
     "metadata": {},
     "output_type": "display_data"
    }
   ],
   "source": [
    "MDG = join_graphs_as_MultiDiGraph (Gdi,Gundi)\n",
    "\n",
    "depict_MultiDiGraph(MDG)"
   ]
  }
 ],
 "metadata": {
  "kernelspec": {
   "display_name": "PhD",
   "language": "python",
   "name": "python3"
  },
  "language_info": {
   "codemirror_mode": {
    "name": "ipython",
    "version": 3
   },
   "file_extension": ".py",
   "mimetype": "text/x-python",
   "name": "python",
   "nbconvert_exporter": "python",
   "pygments_lexer": "ipython3",
   "version": "3.9.12"
  },
  "orig_nbformat": 4,
  "vscode": {
   "interpreter": {
    "hash": "12cdd475630f2d46394b37907add291e4d4b45a6318ce9a647ee43716c21869b"
   }
  }
 },
 "nbformat": 4,
 "nbformat_minor": 2
}
