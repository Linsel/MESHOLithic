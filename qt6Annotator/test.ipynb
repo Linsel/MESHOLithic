{
 "cells": [
  {
   "cell_type": "code",
   "execution_count": null,
   "metadata": {},
   "outputs": [],
   "source": [
    "from PyQt6 import QtGui, QtWidgets\n",
    "from PyQt6.Qt3DCore import Qt3DCore\n",
    "from PyQt6.Qt3DRender import Qt3DRender\n",
    "from PyQt6.Qt3DExtras import Qt3DExtras\n",
    "\n",
    "# Create the main window\n",
    "app = QtWidgets.QApplication([])\n",
    "view = Qt3DExtras.Qt3DWindow()\n",
    "view.defaultFrameGraph().setClearColor(QtGui.QColor(255, 255, 255))\n",
    "view.setTitle('3D Mesh Annotator')\n",
    "\n",
    "# Create a scene and add a mesh entity to it\n",
    "scene = Qt3DCore.QEntity()\n",
    "mesh = Qt3DRender.QMesh()\n",
    "mesh.setSource(Qt3DRender.QMesh.Source.createFromFile('mesh.obj'))\n",
    "mesh_entity = Qt3DCore.QEntity(scene)\n",
    "mesh_entity.addComponent(mesh)\n",
    "\n",
    "# Set the normal direction of the mesh\n",
    "normal_direction = Qt3DRender.QDirectionalLight()\n",
    "normal_direction.setDirection(QtGui.QVector3D(0.0, 0.0, -1.0))\n",
    "mesh_entity.addComponent(normal_direction)\n",
    "\n",
    "# Create the annotator widget\n",
    "annotator = QtWidgets.QTextEdit()\n",
    "annotator.setReadOnly(False)\n",
    "annotator.setText('Add annotations here...')\n",
    "\n",
    "# Add the annotator widget to the main window\n",
    "layout = QtWidgets.QVBoxLayout(view)\n",
    "layout.addWidget(view.frame)\n",
    "layout.addWidget(annotator)\n",
    "\n",
    "# Show the main window\n",
    "view.show()\n",
    "app.exec_()"
   ]
  }
 ],
 "metadata": {
  "kernelspec": {
   "display_name": "PhD",
   "language": "python",
   "name": "python3"
  },
  "language_info": {
   "name": "python",
   "version": "3.9.12"
  },
  "orig_nbformat": 4,
  "vscode": {
   "interpreter": {
    "hash": "12cdd475630f2d46394b37907add291e4d4b45a6318ce9a647ee43716c21869b"
   }
  }
 },
 "nbformat": 4,
 "nbformat_minor": 2
}
