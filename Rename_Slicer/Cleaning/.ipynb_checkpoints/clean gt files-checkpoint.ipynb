{
 "cells": [
  {
   "cell_type": "code",
   "execution_count": 1,
   "id": "5c2ce6d8",
   "metadata": {},
   "outputs": [],
   "source": [
    "from clean_gt import clean_gt\n",
    "import os"
   ]
  },
  {
   "cell_type": "markdown",
   "id": "70366b6c",
   "metadata": {},
   "source": [
    "## Single File\n",
    "**clean_gt(infile,outfile,threshold)** needs:\n",
    "- ***infile*** an input file that should be cleaned \n",
    "- ***outfile*** an output file that will be written (cleaned version of the input) \n",
    "- ***threshold*** a threshold giving the minimum number of points a label should be allowed to have (means, that all labels with fewer points will be integrated into the surrounding larger labels). Optional, default is set to 10.\n",
    "\n",
    "**returns** the label dictionary (not needed most times)"
   ]
  },
  {
   "cell_type": "code",
   "execution_count": 2,
   "id": "91fbdcb0",
   "metadata": {},
   "outputs": [],
   "source": [
    "#gt_filename = \"Data/Serie/groundtruths/752_c.ply\"\n",
    "#label_filename = \"Data/Serie/gt_cleaned_txt/752_cleaned\"\n",
    "\n",
    "#labels = clean_gt(gt_filename, label_filename, 40)"
   ]
  },
  {
   "cell_type": "markdown",
   "id": "20d9f7f7",
   "metadata": {},
   "source": [
    "## Folder\n",
    "serialized for taking a whole folder, groundtruths annotated with \"_c\" at the end."
   ]
  },
  {
   "cell_type": "code",
   "execution_count": 3,
   "id": "4653d88b",
   "metadata": {},
   "outputs": [],
   "source": [
    "#folder = \"Data/Serie/groundtruths/\"\n",
    "#outfolder = \"Data/Serie/gt_cleaned_txt/\"\n",
    "#for file in os.listdir(folder):\n",
    "#    obj_id = file.split(\"_c\", 1)[0]\n",
    "#    labels = clean_gt(folder + file, outfolder+str(obj_id)+\"_cleaned\", threshold=90)"
   ]
  },
  {
   "cell_type": "code",
   "execution_count": null,
   "id": "a19b5334",
   "metadata": {},
   "outputs": [],
   "source": []
  }
 ],
 "metadata": {
  "kernelspec": {
   "display_name": "Python 3 (ipykernel)",
   "language": "python",
   "name": "python3"
  },
  "language_info": {
   "codemirror_mode": {
    "name": "ipython",
    "version": 3
   },
   "file_extension": ".py",
   "mimetype": "text/x-python",
   "name": "python",
   "nbconvert_exporter": "python",
   "pygments_lexer": "ipython3",
   "version": "3.9.12"
  }
 },
 "nbformat": 4,
 "nbformat_minor": 5
}
