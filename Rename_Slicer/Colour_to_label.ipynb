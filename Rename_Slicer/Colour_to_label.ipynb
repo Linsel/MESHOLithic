{
 "cells": [
  {
   "cell_type": "code",
   "execution_count": null,
   "id": "0cfe07e3",
   "metadata": {},
   "outputs": [],
   "source": [
    "# Colour of artefacts to label"
   ]
  },
  {
   "cell_type": "code",
   "execution_count": 19,
   "id": "8ecaf57e",
   "metadata": {},
   "outputs": [
    {
     "name": "stdout",
     "output_type": "stream",
     "text": [
      "700_c.ply\n",
      "Time read labels in ply file data: 7.5633355409954675\n",
      "728_c.ply\n",
      "Time read labels in ply file data: 7.3936977080011275\n",
      "1467_c.ply\n",
      "Time read labels in ply file data: 5.688991160001024\n",
      "4124_c.ply\n",
      "Time read labels in ply file data: 7.57423276398913\n"
     ]
    }
   ],
   "source": [
    "from read_ply import read_ply\n",
    "from enumerate_labels import read_label_txt,write_header,write_enumerated_labels_txt_file,write_sorted_labels_txt_file,write_sorted_labels_txt_file_switch\n",
    "import os\n",
    "\n",
    "path = '/media/linsel/3931-6632/data/phd stone tools/Blades_Bladelets_PLY/annotated/coloured/'\n",
    "\n",
    "files = os.listdir(path + 'total/')\n",
    "\n",
    "for file in files:\n",
    "    if '700_c.ply' == file or '728_c.ply' == file or '1467_c.ply' == file or '4124_c.ply' == file:\n",
    "\n",
    "        print(file)\n",
    "        gt_filename = path + \"total/\" + file\n",
    "        gt_filename_notxt = path + \"total_4/\" + file [:-4] \n",
    "\n",
    "        gt_label,_ = read_ply(gt_filename)\n",
    "        write_sorted_labels_txt_file(gt_label, gt_filename_notxt)"
   ]
  }
 ],
 "metadata": {
  "kernelspec": {
   "display_name": "Python 3 (ipykernel)",
   "language": "python",
   "name": "python3"
  },
  "language_info": {
   "codemirror_mode": {
    "name": "ipython",
    "version": 3
   },
   "file_extension": ".py",
   "mimetype": "text/x-python",
   "name": "python",
   "nbconvert_exporter": "python",
   "pygments_lexer": "ipython3",
   "version": "3.9.12"
  }
 },
 "nbformat": 4,
 "nbformat_minor": 5
}
